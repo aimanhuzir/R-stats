{
 "cells": [
  {
   "cell_type": "code",
   "execution_count": 1,
   "id": "61132ba4",
   "metadata": {},
   "outputs": [
    {
     "name": "stderr",
     "output_type": "stream",
     "text": [
      "\n",
      "Attaching package: 'dplyr'\n",
      "\n",
      "\n",
      "The following objects are masked from 'package:stats':\n",
      "\n",
      "    filter, lag\n",
      "\n",
      "\n",
      "The following objects are masked from 'package:base':\n",
      "\n",
      "    intersect, setdiff, setequal, union\n",
      "\n",
      "\n",
      "\n",
      "Attaching package: 'lubridate'\n",
      "\n",
      "\n",
      "The following objects are masked from 'package:base':\n",
      "\n",
      "    date, intersect, setdiff, union\n",
      "\n",
      "\n"
     ]
    }
   ],
   "source": [
    "library(dplyr)\n",
    "library(assertive)\n",
    "library(ggplot2)\n",
    "library(lubridate)"
   ]
  },
  {
   "cell_type": "code",
   "execution_count": 2,
   "id": "2037c5f9",
   "metadata": {},
   "outputs": [],
   "source": [
    "df <- read.csv('KUANTAN_RAINFALL_exercise.csv')"
   ]
  },
  {
   "cell_type": "code",
   "execution_count": 3,
   "id": "2b9ded66",
   "metadata": {},
   "outputs": [
    {
     "data": {
      "text/html": [
       "<table class=\"dataframe\">\n",
       "<caption>A data.frame: 6 × 6</caption>\n",
       "<thead>\n",
       "\t<tr><th></th><th scope=col>X</th><th scope=col>Stesyen.ID</th><th scope=col>Tahun</th><th scope=col>Bulan</th><th scope=col>Hari</th><th scope=col>Jumlah.Hujan.mm.</th></tr>\n",
       "\t<tr><th></th><th scope=col>&lt;int&gt;</th><th scope=col>&lt;int&gt;</th><th scope=col>&lt;int&gt;</th><th scope=col>&lt;int&gt;</th><th scope=col>&lt;int&gt;</th><th scope=col>&lt;dbl&gt;</th></tr>\n",
       "</thead>\n",
       "<tbody>\n",
       "\t<tr><th scope=row>1</th><td>1</td><td>48657</td><td>71</td><td>1</td><td>1</td><td>125.0</td></tr>\n",
       "\t<tr><th scope=row>2</th><td>2</td><td>48657</td><td>71</td><td>1</td><td>2</td><td>130.3</td></tr>\n",
       "\t<tr><th scope=row>3</th><td>3</td><td>48657</td><td>71</td><td>1</td><td>3</td><td>327.2</td></tr>\n",
       "\t<tr><th scope=row>4</th><td>4</td><td>48657</td><td>71</td><td>1</td><td>4</td><td>252.2</td></tr>\n",
       "\t<tr><th scope=row>5</th><td>5</td><td>48657</td><td>71</td><td>1</td><td>5</td><td> 33.8</td></tr>\n",
       "\t<tr><th scope=row>6</th><td>6</td><td>48657</td><td>71</td><td>1</td><td>6</td><td>  6.1</td></tr>\n",
       "</tbody>\n",
       "</table>\n"
      ],
      "text/latex": [
       "A data.frame: 6 × 6\n",
       "\\begin{tabular}{r|llllll}\n",
       "  & X & Stesyen.ID & Tahun & Bulan & Hari & Jumlah.Hujan.mm.\\\\\n",
       "  & <int> & <int> & <int> & <int> & <int> & <dbl>\\\\\n",
       "\\hline\n",
       "\t1 & 1 & 48657 & 71 & 1 & 1 & 125.0\\\\\n",
       "\t2 & 2 & 48657 & 71 & 1 & 2 & 130.3\\\\\n",
       "\t3 & 3 & 48657 & 71 & 1 & 3 & 327.2\\\\\n",
       "\t4 & 4 & 48657 & 71 & 1 & 4 & 252.2\\\\\n",
       "\t5 & 5 & 48657 & 71 & 1 & 5 &  33.8\\\\\n",
       "\t6 & 6 & 48657 & 71 & 1 & 6 &   6.1\\\\\n",
       "\\end{tabular}\n"
      ],
      "text/markdown": [
       "\n",
       "A data.frame: 6 × 6\n",
       "\n",
       "| <!--/--> | X &lt;int&gt; | Stesyen.ID &lt;int&gt; | Tahun &lt;int&gt; | Bulan &lt;int&gt; | Hari &lt;int&gt; | Jumlah.Hujan.mm. &lt;dbl&gt; |\n",
       "|---|---|---|---|---|---|---|\n",
       "| 1 | 1 | 48657 | 71 | 1 | 1 | 125.0 |\n",
       "| 2 | 2 | 48657 | 71 | 1 | 2 | 130.3 |\n",
       "| 3 | 3 | 48657 | 71 | 1 | 3 | 327.2 |\n",
       "| 4 | 4 | 48657 | 71 | 1 | 4 | 252.2 |\n",
       "| 5 | 5 | 48657 | 71 | 1 | 5 |  33.8 |\n",
       "| 6 | 6 | 48657 | 71 | 1 | 6 |   6.1 |\n",
       "\n"
      ],
      "text/plain": [
       "  X Stesyen.ID Tahun Bulan Hari Jumlah.Hujan.mm.\n",
       "1 1 48657      71    1     1    125.0           \n",
       "2 2 48657      71    1     2    130.3           \n",
       "3 3 48657      71    1     3    327.2           \n",
       "4 4 48657      71    1     4    252.2           \n",
       "5 5 48657      71    1     5     33.8           \n",
       "6 6 48657      71    1     6      6.1           "
      ]
     },
     "metadata": {},
     "output_type": "display_data"
    }
   ],
   "source": [
    "head(df)"
   ]
  },
  {
   "cell_type": "code",
   "execution_count": 4,
   "id": "66877cf4",
   "metadata": {},
   "outputs": [],
   "source": [
    "# Drop column X\n",
    "df = subset(df, select =c(-X))"
   ]
  },
  {
   "cell_type": "code",
   "execution_count": 5,
   "id": "87b30dad",
   "metadata": {},
   "outputs": [
    {
     "data": {
      "text/html": [
       "<table class=\"dataframe\">\n",
       "<caption>A data.frame: 6 × 5</caption>\n",
       "<thead>\n",
       "\t<tr><th></th><th scope=col>Stesyen.ID</th><th scope=col>Tahun</th><th scope=col>Bulan</th><th scope=col>Hari</th><th scope=col>Jumlah.Hujan.mm.</th></tr>\n",
       "\t<tr><th></th><th scope=col>&lt;int&gt;</th><th scope=col>&lt;int&gt;</th><th scope=col>&lt;int&gt;</th><th scope=col>&lt;int&gt;</th><th scope=col>&lt;dbl&gt;</th></tr>\n",
       "</thead>\n",
       "<tbody>\n",
       "\t<tr><th scope=row>1</th><td>48657</td><td>71</td><td>1</td><td>1</td><td>125.0</td></tr>\n",
       "\t<tr><th scope=row>2</th><td>48657</td><td>71</td><td>1</td><td>2</td><td>130.3</td></tr>\n",
       "\t<tr><th scope=row>3</th><td>48657</td><td>71</td><td>1</td><td>3</td><td>327.2</td></tr>\n",
       "\t<tr><th scope=row>4</th><td>48657</td><td>71</td><td>1</td><td>4</td><td>252.2</td></tr>\n",
       "\t<tr><th scope=row>5</th><td>48657</td><td>71</td><td>1</td><td>5</td><td> 33.8</td></tr>\n",
       "\t<tr><th scope=row>6</th><td>48657</td><td>71</td><td>1</td><td>6</td><td>  6.1</td></tr>\n",
       "</tbody>\n",
       "</table>\n"
      ],
      "text/latex": [
       "A data.frame: 6 × 5\n",
       "\\begin{tabular}{r|lllll}\n",
       "  & Stesyen.ID & Tahun & Bulan & Hari & Jumlah.Hujan.mm.\\\\\n",
       "  & <int> & <int> & <int> & <int> & <dbl>\\\\\n",
       "\\hline\n",
       "\t1 & 48657 & 71 & 1 & 1 & 125.0\\\\\n",
       "\t2 & 48657 & 71 & 1 & 2 & 130.3\\\\\n",
       "\t3 & 48657 & 71 & 1 & 3 & 327.2\\\\\n",
       "\t4 & 48657 & 71 & 1 & 4 & 252.2\\\\\n",
       "\t5 & 48657 & 71 & 1 & 5 &  33.8\\\\\n",
       "\t6 & 48657 & 71 & 1 & 6 &   6.1\\\\\n",
       "\\end{tabular}\n"
      ],
      "text/markdown": [
       "\n",
       "A data.frame: 6 × 5\n",
       "\n",
       "| <!--/--> | Stesyen.ID &lt;int&gt; | Tahun &lt;int&gt; | Bulan &lt;int&gt; | Hari &lt;int&gt; | Jumlah.Hujan.mm. &lt;dbl&gt; |\n",
       "|---|---|---|---|---|---|\n",
       "| 1 | 48657 | 71 | 1 | 1 | 125.0 |\n",
       "| 2 | 48657 | 71 | 1 | 2 | 130.3 |\n",
       "| 3 | 48657 | 71 | 1 | 3 | 327.2 |\n",
       "| 4 | 48657 | 71 | 1 | 4 | 252.2 |\n",
       "| 5 | 48657 | 71 | 1 | 5 |  33.8 |\n",
       "| 6 | 48657 | 71 | 1 | 6 |   6.1 |\n",
       "\n"
      ],
      "text/plain": [
       "  Stesyen.ID Tahun Bulan Hari Jumlah.Hujan.mm.\n",
       "1 48657      71    1     1    125.0           \n",
       "2 48657      71    1     2    130.3           \n",
       "3 48657      71    1     3    327.2           \n",
       "4 48657      71    1     4    252.2           \n",
       "5 48657      71    1     5     33.8           \n",
       "6 48657      71    1     6      6.1           "
      ]
     },
     "metadata": {},
     "output_type": "display_data"
    }
   ],
   "source": [
    "head(df)"
   ]
  },
  {
   "cell_type": "code",
   "execution_count": 6,
   "id": "85dc4cc2",
   "metadata": {},
   "outputs": [
    {
     "name": "stdout",
     "output_type": "stream",
     "text": [
      "Rows: 10,958\n",
      "Columns: 5\n",
      "$ Stesyen.ID       \u001b[3m\u001b[90m<int>\u001b[39m\u001b[23m 48657, 48657, 48657, 48657, 48657, 48657, 48657, 4865~\n",
      "$ Tahun            \u001b[3m\u001b[90m<int>\u001b[39m\u001b[23m 71, 71, 71, 71, 71, 71, 71, 71, 71, 71, 71, 71, 71, 7~\n",
      "$ Bulan            \u001b[3m\u001b[90m<int>\u001b[39m\u001b[23m 1, 1, 1, 1, 1, 1, 1, 1, 1, 1, 1, 1, 1, 1, 1, 1, 1, 1,~\n",
      "$ Hari             \u001b[3m\u001b[90m<int>\u001b[39m\u001b[23m 1, 2, 3, 4, 5, 6, 7, 8, 9, 10, 11, 12, 13, 14, 15, 16~\n",
      "$ Jumlah.Hujan.mm. \u001b[3m\u001b[90m<dbl>\u001b[39m\u001b[23m 125.0, 130.3, 327.2, 252.2, 33.8, 6.1, 5.1, 0.5, 0.5,~\n"
     ]
    }
   ],
   "source": [
    "glimpse(df)"
   ]
  },
  {
   "cell_type": "code",
   "execution_count": 7,
   "id": "825ab7a7",
   "metadata": {},
   "outputs": [
    {
     "data": {
      "text/plain": [
       "   Min. 1st Qu.  Median    Mean 3rd Qu.    Max. \n",
       "  0.000   0.000   0.100   7.918   6.100 527.500 "
      ]
     },
     "metadata": {},
     "output_type": "display_data"
    }
   ],
   "source": [
    "summary(df$Jumlah.Hujan.mm.)"
   ]
  },
  {
   "cell_type": "code",
   "execution_count": 8,
   "id": "fac64891",
   "metadata": {},
   "outputs": [
    {
     "data": {
      "text/html": [
       "0"
      ],
      "text/latex": [
       "0"
      ],
      "text/markdown": [
       "0"
      ],
      "text/plain": [
       "[1] 0"
      ]
     },
     "metadata": {},
     "output_type": "display_data"
    }
   ],
   "source": [
    "# Check for missing value\n",
    "sum(is.na(df))"
   ]
  },
  {
   "cell_type": "code",
   "execution_count": 9,
   "id": "8a3f27a8",
   "metadata": {},
   "outputs": [
    {
     "data": {
      "text/plain": [
       "     Tahun           Bulan             Hari      \n",
       " Min.   : 0.00   Min.   : 1.000   Min.   : 1.00  \n",
       " 1st Qu.:77.00   1st Qu.: 4.000   1st Qu.: 8.00  \n",
       " Median :84.00   Median : 7.000   Median :16.00  \n",
       " Mean   :82.16   Mean   : 6.523   Mean   :15.73  \n",
       " 3rd Qu.:92.00   3rd Qu.:10.000   3rd Qu.:23.00  \n",
       " Max.   :99.00   Max.   :12.000   Max.   :31.00  "
      ]
     },
     "metadata": {},
     "output_type": "display_data"
    }
   ],
   "source": [
    "cols <- c('Tahun', 'Bulan', 'Hari')\n",
    "summary(df[cols])"
   ]
  },
  {
   "cell_type": "code",
   "execution_count": 10,
   "id": "aeddd31a",
   "metadata": {},
   "outputs": [
    {
     "data": {
      "text/html": [
       "<table class=\"dataframe\">\n",
       "<caption>A grouped_df: 10958 × 5</caption>\n",
       "<thead>\n",
       "\t<tr><th scope=col>Stesyen.ID</th><th scope=col>Tahun</th><th scope=col>Bulan</th><th scope=col>Hari</th><th scope=col>Jumlah.Hujan.mm.</th></tr>\n",
       "\t<tr><th scope=col>&lt;int&gt;</th><th scope=col>&lt;int&gt;</th><th scope=col>&lt;int&gt;</th><th scope=col>&lt;int&gt;</th><th scope=col>&lt;dbl&gt;</th></tr>\n",
       "</thead>\n",
       "<tbody>\n",
       "\t<tr><td>48657</td><td>71</td><td>1</td><td> 1</td><td>125.0</td></tr>\n",
       "\t<tr><td>48657</td><td>71</td><td>1</td><td> 2</td><td>130.3</td></tr>\n",
       "\t<tr><td>48657</td><td>71</td><td>1</td><td> 3</td><td>327.2</td></tr>\n",
       "\t<tr><td>48657</td><td>71</td><td>1</td><td> 4</td><td>252.2</td></tr>\n",
       "\t<tr><td>48657</td><td>71</td><td>1</td><td> 5</td><td> 33.8</td></tr>\n",
       "\t<tr><td>48657</td><td>71</td><td>1</td><td> 6</td><td>  6.1</td></tr>\n",
       "\t<tr><td>48657</td><td>71</td><td>1</td><td> 7</td><td>  5.1</td></tr>\n",
       "\t<tr><td>48657</td><td>71</td><td>1</td><td> 8</td><td>  0.5</td></tr>\n",
       "\t<tr><td>48657</td><td>71</td><td>1</td><td> 9</td><td>  0.5</td></tr>\n",
       "\t<tr><td>48657</td><td>71</td><td>1</td><td>10</td><td>  0.0</td></tr>\n",
       "\t<tr><td>48657</td><td>71</td><td>1</td><td>11</td><td>  2.3</td></tr>\n",
       "\t<tr><td>48657</td><td>71</td><td>1</td><td>12</td><td>  0.0</td></tr>\n",
       "\t<tr><td>48657</td><td>71</td><td>1</td><td>13</td><td>  0.0</td></tr>\n",
       "\t<tr><td>48657</td><td>71</td><td>1</td><td>14</td><td>  0.0</td></tr>\n",
       "\t<tr><td>48657</td><td>71</td><td>1</td><td>15</td><td>  0.0</td></tr>\n",
       "\t<tr><td>48657</td><td>71</td><td>1</td><td>16</td><td>  0.0</td></tr>\n",
       "\t<tr><td>48657</td><td>71</td><td>1</td><td>17</td><td>  0.0</td></tr>\n",
       "\t<tr><td>48657</td><td>71</td><td>1</td><td>18</td><td>  0.0</td></tr>\n",
       "\t<tr><td>48657</td><td>71</td><td>1</td><td>19</td><td>  0.0</td></tr>\n",
       "\t<tr><td>48657</td><td>71</td><td>1</td><td>20</td><td>  0.0</td></tr>\n",
       "\t<tr><td>48657</td><td>71</td><td>1</td><td>21</td><td>  0.8</td></tr>\n",
       "\t<tr><td>48657</td><td>71</td><td>1</td><td>22</td><td>  5.1</td></tr>\n",
       "\t<tr><td>48657</td><td>71</td><td>1</td><td>23</td><td>  0.0</td></tr>\n",
       "\t<tr><td>48657</td><td>71</td><td>1</td><td>24</td><td>  0.3</td></tr>\n",
       "\t<tr><td>48657</td><td>71</td><td>1</td><td>25</td><td>  0.0</td></tr>\n",
       "\t<tr><td>48657</td><td>71</td><td>1</td><td>26</td><td>  0.0</td></tr>\n",
       "\t<tr><td>48657</td><td>71</td><td>1</td><td>27</td><td>  0.0</td></tr>\n",
       "\t<tr><td>48657</td><td>71</td><td>1</td><td>28</td><td>  0.0</td></tr>\n",
       "\t<tr><td>48657</td><td>71</td><td>1</td><td>29</td><td>  0.0</td></tr>\n",
       "\t<tr><td>48657</td><td>71</td><td>1</td><td>30</td><td>  0.0</td></tr>\n",
       "\t<tr><td>...</td><td>...</td><td>...</td><td>...</td><td>...</td></tr>\n",
       "\t<tr><td>48657</td><td>0</td><td>12</td><td> 2</td><td> 0.0</td></tr>\n",
       "\t<tr><td>48657</td><td>0</td><td>12</td><td> 3</td><td> 5.2</td></tr>\n",
       "\t<tr><td>48657</td><td>0</td><td>12</td><td> 4</td><td> 0.0</td></tr>\n",
       "\t<tr><td>48657</td><td>0</td><td>12</td><td> 5</td><td> 0.6</td></tr>\n",
       "\t<tr><td>48657</td><td>0</td><td>12</td><td> 6</td><td> 0.2</td></tr>\n",
       "\t<tr><td>48657</td><td>0</td><td>12</td><td> 7</td><td> 0.0</td></tr>\n",
       "\t<tr><td>48657</td><td>0</td><td>12</td><td> 8</td><td> 0.0</td></tr>\n",
       "\t<tr><td>48657</td><td>0</td><td>12</td><td> 9</td><td> 0.0</td></tr>\n",
       "\t<tr><td>48657</td><td>0</td><td>12</td><td>10</td><td> 0.0</td></tr>\n",
       "\t<tr><td>48657</td><td>0</td><td>12</td><td>11</td><td> 0.6</td></tr>\n",
       "\t<tr><td>48657</td><td>0</td><td>12</td><td>12</td><td> 0.0</td></tr>\n",
       "\t<tr><td>48657</td><td>0</td><td>12</td><td>13</td><td> 0.0</td></tr>\n",
       "\t<tr><td>48657</td><td>0</td><td>12</td><td>14</td><td> 1.2</td></tr>\n",
       "\t<tr><td>48657</td><td>0</td><td>12</td><td>15</td><td> 7.5</td></tr>\n",
       "\t<tr><td>48657</td><td>0</td><td>12</td><td>16</td><td> 5.0</td></tr>\n",
       "\t<tr><td>48657</td><td>0</td><td>12</td><td>17</td><td>36.0</td></tr>\n",
       "\t<tr><td>48657</td><td>0</td><td>12</td><td>18</td><td> 2.2</td></tr>\n",
       "\t<tr><td>48657</td><td>0</td><td>12</td><td>19</td><td>95.0</td></tr>\n",
       "\t<tr><td>48657</td><td>0</td><td>12</td><td>20</td><td> 1.8</td></tr>\n",
       "\t<tr><td>48657</td><td>0</td><td>12</td><td>21</td><td>39.3</td></tr>\n",
       "\t<tr><td>48657</td><td>0</td><td>12</td><td>22</td><td>15.5</td></tr>\n",
       "\t<tr><td>48657</td><td>0</td><td>12</td><td>23</td><td> 0.0</td></tr>\n",
       "\t<tr><td>48657</td><td>0</td><td>12</td><td>24</td><td> 0.0</td></tr>\n",
       "\t<tr><td>48657</td><td>0</td><td>12</td><td>25</td><td> 2.7</td></tr>\n",
       "\t<tr><td>48657</td><td>0</td><td>12</td><td>26</td><td> 0.0</td></tr>\n",
       "\t<tr><td>48657</td><td>0</td><td>12</td><td>27</td><td> 0.0</td></tr>\n",
       "\t<tr><td>48657</td><td>0</td><td>12</td><td>28</td><td>20.0</td></tr>\n",
       "\t<tr><td>48657</td><td>0</td><td>12</td><td>29</td><td>15.5</td></tr>\n",
       "\t<tr><td>48657</td><td>0</td><td>12</td><td>30</td><td> 6.4</td></tr>\n",
       "\t<tr><td>48657</td><td>0</td><td>12</td><td>31</td><td> 9.3</td></tr>\n",
       "</tbody>\n",
       "</table>\n"
      ],
      "text/latex": [
       "A grouped\\_df: 10958 × 5\n",
       "\\begin{tabular}{lllll}\n",
       " Stesyen.ID & Tahun & Bulan & Hari & Jumlah.Hujan.mm.\\\\\n",
       " <int> & <int> & <int> & <int> & <dbl>\\\\\n",
       "\\hline\n",
       "\t 48657 & 71 & 1 &  1 & 125.0\\\\\n",
       "\t 48657 & 71 & 1 &  2 & 130.3\\\\\n",
       "\t 48657 & 71 & 1 &  3 & 327.2\\\\\n",
       "\t 48657 & 71 & 1 &  4 & 252.2\\\\\n",
       "\t 48657 & 71 & 1 &  5 &  33.8\\\\\n",
       "\t 48657 & 71 & 1 &  6 &   6.1\\\\\n",
       "\t 48657 & 71 & 1 &  7 &   5.1\\\\\n",
       "\t 48657 & 71 & 1 &  8 &   0.5\\\\\n",
       "\t 48657 & 71 & 1 &  9 &   0.5\\\\\n",
       "\t 48657 & 71 & 1 & 10 &   0.0\\\\\n",
       "\t 48657 & 71 & 1 & 11 &   2.3\\\\\n",
       "\t 48657 & 71 & 1 & 12 &   0.0\\\\\n",
       "\t 48657 & 71 & 1 & 13 &   0.0\\\\\n",
       "\t 48657 & 71 & 1 & 14 &   0.0\\\\\n",
       "\t 48657 & 71 & 1 & 15 &   0.0\\\\\n",
       "\t 48657 & 71 & 1 & 16 &   0.0\\\\\n",
       "\t 48657 & 71 & 1 & 17 &   0.0\\\\\n",
       "\t 48657 & 71 & 1 & 18 &   0.0\\\\\n",
       "\t 48657 & 71 & 1 & 19 &   0.0\\\\\n",
       "\t 48657 & 71 & 1 & 20 &   0.0\\\\\n",
       "\t 48657 & 71 & 1 & 21 &   0.8\\\\\n",
       "\t 48657 & 71 & 1 & 22 &   5.1\\\\\n",
       "\t 48657 & 71 & 1 & 23 &   0.0\\\\\n",
       "\t 48657 & 71 & 1 & 24 &   0.3\\\\\n",
       "\t 48657 & 71 & 1 & 25 &   0.0\\\\\n",
       "\t 48657 & 71 & 1 & 26 &   0.0\\\\\n",
       "\t 48657 & 71 & 1 & 27 &   0.0\\\\\n",
       "\t 48657 & 71 & 1 & 28 &   0.0\\\\\n",
       "\t 48657 & 71 & 1 & 29 &   0.0\\\\\n",
       "\t 48657 & 71 & 1 & 30 &   0.0\\\\\n",
       "\t ... & ... & ... & ... & ...\\\\\n",
       "\t 48657 & 0 & 12 &  2 &  0.0\\\\\n",
       "\t 48657 & 0 & 12 &  3 &  5.2\\\\\n",
       "\t 48657 & 0 & 12 &  4 &  0.0\\\\\n",
       "\t 48657 & 0 & 12 &  5 &  0.6\\\\\n",
       "\t 48657 & 0 & 12 &  6 &  0.2\\\\\n",
       "\t 48657 & 0 & 12 &  7 &  0.0\\\\\n",
       "\t 48657 & 0 & 12 &  8 &  0.0\\\\\n",
       "\t 48657 & 0 & 12 &  9 &  0.0\\\\\n",
       "\t 48657 & 0 & 12 & 10 &  0.0\\\\\n",
       "\t 48657 & 0 & 12 & 11 &  0.6\\\\\n",
       "\t 48657 & 0 & 12 & 12 &  0.0\\\\\n",
       "\t 48657 & 0 & 12 & 13 &  0.0\\\\\n",
       "\t 48657 & 0 & 12 & 14 &  1.2\\\\\n",
       "\t 48657 & 0 & 12 & 15 &  7.5\\\\\n",
       "\t 48657 & 0 & 12 & 16 &  5.0\\\\\n",
       "\t 48657 & 0 & 12 & 17 & 36.0\\\\\n",
       "\t 48657 & 0 & 12 & 18 &  2.2\\\\\n",
       "\t 48657 & 0 & 12 & 19 & 95.0\\\\\n",
       "\t 48657 & 0 & 12 & 20 &  1.8\\\\\n",
       "\t 48657 & 0 & 12 & 21 & 39.3\\\\\n",
       "\t 48657 & 0 & 12 & 22 & 15.5\\\\\n",
       "\t 48657 & 0 & 12 & 23 &  0.0\\\\\n",
       "\t 48657 & 0 & 12 & 24 &  0.0\\\\\n",
       "\t 48657 & 0 & 12 & 25 &  2.7\\\\\n",
       "\t 48657 & 0 & 12 & 26 &  0.0\\\\\n",
       "\t 48657 & 0 & 12 & 27 &  0.0\\\\\n",
       "\t 48657 & 0 & 12 & 28 & 20.0\\\\\n",
       "\t 48657 & 0 & 12 & 29 & 15.5\\\\\n",
       "\t 48657 & 0 & 12 & 30 &  6.4\\\\\n",
       "\t 48657 & 0 & 12 & 31 &  9.3\\\\\n",
       "\\end{tabular}\n"
      ],
      "text/markdown": [
       "\n",
       "A grouped_df: 10958 × 5\n",
       "\n",
       "| Stesyen.ID &lt;int&gt; | Tahun &lt;int&gt; | Bulan &lt;int&gt; | Hari &lt;int&gt; | Jumlah.Hujan.mm. &lt;dbl&gt; |\n",
       "|---|---|---|---|---|\n",
       "| 48657 | 71 | 1 |  1 | 125.0 |\n",
       "| 48657 | 71 | 1 |  2 | 130.3 |\n",
       "| 48657 | 71 | 1 |  3 | 327.2 |\n",
       "| 48657 | 71 | 1 |  4 | 252.2 |\n",
       "| 48657 | 71 | 1 |  5 |  33.8 |\n",
       "| 48657 | 71 | 1 |  6 |   6.1 |\n",
       "| 48657 | 71 | 1 |  7 |   5.1 |\n",
       "| 48657 | 71 | 1 |  8 |   0.5 |\n",
       "| 48657 | 71 | 1 |  9 |   0.5 |\n",
       "| 48657 | 71 | 1 | 10 |   0.0 |\n",
       "| 48657 | 71 | 1 | 11 |   2.3 |\n",
       "| 48657 | 71 | 1 | 12 |   0.0 |\n",
       "| 48657 | 71 | 1 | 13 |   0.0 |\n",
       "| 48657 | 71 | 1 | 14 |   0.0 |\n",
       "| 48657 | 71 | 1 | 15 |   0.0 |\n",
       "| 48657 | 71 | 1 | 16 |   0.0 |\n",
       "| 48657 | 71 | 1 | 17 |   0.0 |\n",
       "| 48657 | 71 | 1 | 18 |   0.0 |\n",
       "| 48657 | 71 | 1 | 19 |   0.0 |\n",
       "| 48657 | 71 | 1 | 20 |   0.0 |\n",
       "| 48657 | 71 | 1 | 21 |   0.8 |\n",
       "| 48657 | 71 | 1 | 22 |   5.1 |\n",
       "| 48657 | 71 | 1 | 23 |   0.0 |\n",
       "| 48657 | 71 | 1 | 24 |   0.3 |\n",
       "| 48657 | 71 | 1 | 25 |   0.0 |\n",
       "| 48657 | 71 | 1 | 26 |   0.0 |\n",
       "| 48657 | 71 | 1 | 27 |   0.0 |\n",
       "| 48657 | 71 | 1 | 28 |   0.0 |\n",
       "| 48657 | 71 | 1 | 29 |   0.0 |\n",
       "| 48657 | 71 | 1 | 30 |   0.0 |\n",
       "| ... | ... | ... | ... | ... |\n",
       "| 48657 | 0 | 12 |  2 |  0.0 |\n",
       "| 48657 | 0 | 12 |  3 |  5.2 |\n",
       "| 48657 | 0 | 12 |  4 |  0.0 |\n",
       "| 48657 | 0 | 12 |  5 |  0.6 |\n",
       "| 48657 | 0 | 12 |  6 |  0.2 |\n",
       "| 48657 | 0 | 12 |  7 |  0.0 |\n",
       "| 48657 | 0 | 12 |  8 |  0.0 |\n",
       "| 48657 | 0 | 12 |  9 |  0.0 |\n",
       "| 48657 | 0 | 12 | 10 |  0.0 |\n",
       "| 48657 | 0 | 12 | 11 |  0.6 |\n",
       "| 48657 | 0 | 12 | 12 |  0.0 |\n",
       "| 48657 | 0 | 12 | 13 |  0.0 |\n",
       "| 48657 | 0 | 12 | 14 |  1.2 |\n",
       "| 48657 | 0 | 12 | 15 |  7.5 |\n",
       "| 48657 | 0 | 12 | 16 |  5.0 |\n",
       "| 48657 | 0 | 12 | 17 | 36.0 |\n",
       "| 48657 | 0 | 12 | 18 |  2.2 |\n",
       "| 48657 | 0 | 12 | 19 | 95.0 |\n",
       "| 48657 | 0 | 12 | 20 |  1.8 |\n",
       "| 48657 | 0 | 12 | 21 | 39.3 |\n",
       "| 48657 | 0 | 12 | 22 | 15.5 |\n",
       "| 48657 | 0 | 12 | 23 |  0.0 |\n",
       "| 48657 | 0 | 12 | 24 |  0.0 |\n",
       "| 48657 | 0 | 12 | 25 |  2.7 |\n",
       "| 48657 | 0 | 12 | 26 |  0.0 |\n",
       "| 48657 | 0 | 12 | 27 |  0.0 |\n",
       "| 48657 | 0 | 12 | 28 | 20.0 |\n",
       "| 48657 | 0 | 12 | 29 | 15.5 |\n",
       "| 48657 | 0 | 12 | 30 |  6.4 |\n",
       "| 48657 | 0 | 12 | 31 |  9.3 |\n",
       "\n"
      ],
      "text/plain": [
       "      Stesyen.ID Tahun Bulan Hari Jumlah.Hujan.mm.\n",
       "1     48657      71    1      1   125.0           \n",
       "2     48657      71    1      2   130.3           \n",
       "3     48657      71    1      3   327.2           \n",
       "4     48657      71    1      4   252.2           \n",
       "5     48657      71    1      5    33.8           \n",
       "6     48657      71    1      6     6.1           \n",
       "7     48657      71    1      7     5.1           \n",
       "8     48657      71    1      8     0.5           \n",
       "9     48657      71    1      9     0.5           \n",
       "10    48657      71    1     10     0.0           \n",
       "11    48657      71    1     11     2.3           \n",
       "12    48657      71    1     12     0.0           \n",
       "13    48657      71    1     13     0.0           \n",
       "14    48657      71    1     14     0.0           \n",
       "15    48657      71    1     15     0.0           \n",
       "16    48657      71    1     16     0.0           \n",
       "17    48657      71    1     17     0.0           \n",
       "18    48657      71    1     18     0.0           \n",
       "19    48657      71    1     19     0.0           \n",
       "20    48657      71    1     20     0.0           \n",
       "21    48657      71    1     21     0.8           \n",
       "22    48657      71    1     22     5.1           \n",
       "23    48657      71    1     23     0.0           \n",
       "24    48657      71    1     24     0.3           \n",
       "25    48657      71    1     25     0.0           \n",
       "26    48657      71    1     26     0.0           \n",
       "27    48657      71    1     27     0.0           \n",
       "28    48657      71    1     28     0.0           \n",
       "29    48657      71    1     29     0.0           \n",
       "30    48657      71    1     30     0.0           \n",
       "...   ...        ...   ...   ...  ...             \n",
       "10929 48657      0     12     2    0.0            \n",
       "10930 48657      0     12     3    5.2            \n",
       "10931 48657      0     12     4    0.0            \n",
       "10932 48657      0     12     5    0.6            \n",
       "10933 48657      0     12     6    0.2            \n",
       "10934 48657      0     12     7    0.0            \n",
       "10935 48657      0     12     8    0.0            \n",
       "10936 48657      0     12     9    0.0            \n",
       "10937 48657      0     12    10    0.0            \n",
       "10938 48657      0     12    11    0.6            \n",
       "10939 48657      0     12    12    0.0            \n",
       "10940 48657      0     12    13    0.0            \n",
       "10941 48657      0     12    14    1.2            \n",
       "10942 48657      0     12    15    7.5            \n",
       "10943 48657      0     12    16    5.0            \n",
       "10944 48657      0     12    17   36.0            \n",
       "10945 48657      0     12    18    2.2            \n",
       "10946 48657      0     12    19   95.0            \n",
       "10947 48657      0     12    20    1.8            \n",
       "10948 48657      0     12    21   39.3            \n",
       "10949 48657      0     12    22   15.5            \n",
       "10950 48657      0     12    23    0.0            \n",
       "10951 48657      0     12    24    0.0            \n",
       "10952 48657      0     12    25    2.7            \n",
       "10953 48657      0     12    26    0.0            \n",
       "10954 48657      0     12    27    0.0            \n",
       "10955 48657      0     12    28   20.0            \n",
       "10956 48657      0     12    29   15.5            \n",
       "10957 48657      0     12    30    6.4            \n",
       "10958 48657      0     12    31    9.3            "
      ]
     },
     "metadata": {},
     "output_type": "display_data"
    }
   ],
   "source": [
    "df %>% \n",
    "    #Group_by Tahun, Bulan Hari\n",
    "    group_by(Tahun, Bulan, Hari) \n",
    "    "
   ]
  },
  {
   "cell_type": "code",
   "execution_count": 11,
   "id": "43910ae2",
   "metadata": {},
   "outputs": [
    {
     "data": {
      "image/png": "[encoded data removed]",
      "text/plain": [
       "plot without title"
      ]
     },
     "metadata": {
      "image/png": {
       "height": 420,
       "width": 420
      }
     },
     "output_type": "display_data"
    }
   ],
   "source": [
    "# create breaks\n",
    "breaks <- c(min(df$Tahun), 1, 50, max(df$Tahun))\n",
    "\n",
    "# create a histogram\n",
    "ggplot(df, aes(Tahun)) + geom_histogram(breaks = breaks)"
   ]
  },
  {
   "cell_type": "code",
   "execution_count": 12,
   "id": "d0ea04a4",
   "metadata": {},
   "outputs": [],
   "source": [
    "# Drop rows with O Tahun\n",
    "df <- subset(df, Tahun > 0)"
   ]
  },
  {
   "cell_type": "code",
   "execution_count": 13,
   "id": "ae772e62",
   "metadata": {},
   "outputs": [
    {
     "data": {
      "text/html": [
       "<table class=\"dataframe\">\n",
       "<caption>A data.frame: 10592 × 5</caption>\n",
       "<thead>\n",
       "\t<tr><th></th><th scope=col>Stesyen.ID</th><th scope=col>Tahun</th><th scope=col>Bulan</th><th scope=col>Hari</th><th scope=col>Jumlah.Hujan.mm.</th></tr>\n",
       "\t<tr><th></th><th scope=col>&lt;int&gt;</th><th scope=col>&lt;int&gt;</th><th scope=col>&lt;int&gt;</th><th scope=col>&lt;int&gt;</th><th scope=col>&lt;dbl&gt;</th></tr>\n",
       "</thead>\n",
       "<tbody>\n",
       "\t<tr><th scope=row>1</th><td>48657</td><td>71</td><td>1</td><td> 1</td><td>125.0</td></tr>\n",
       "\t<tr><th scope=row>2</th><td>48657</td><td>71</td><td>1</td><td> 2</td><td>130.3</td></tr>\n",
       "\t<tr><th scope=row>3</th><td>48657</td><td>71</td><td>1</td><td> 3</td><td>327.2</td></tr>\n",
       "\t<tr><th scope=row>4</th><td>48657</td><td>71</td><td>1</td><td> 4</td><td>252.2</td></tr>\n",
       "\t<tr><th scope=row>5</th><td>48657</td><td>71</td><td>1</td><td> 5</td><td> 33.8</td></tr>\n",
       "\t<tr><th scope=row>6</th><td>48657</td><td>71</td><td>1</td><td> 6</td><td>  6.1</td></tr>\n",
       "\t<tr><th scope=row>7</th><td>48657</td><td>71</td><td>1</td><td> 7</td><td>  5.1</td></tr>\n",
       "\t<tr><th scope=row>8</th><td>48657</td><td>71</td><td>1</td><td> 8</td><td>  0.5</td></tr>\n",
       "\t<tr><th scope=row>9</th><td>48657</td><td>71</td><td>1</td><td> 9</td><td>  0.5</td></tr>\n",
       "\t<tr><th scope=row>10</th><td>48657</td><td>71</td><td>1</td><td>10</td><td>  0.0</td></tr>\n",
       "\t<tr><th scope=row>11</th><td>48657</td><td>71</td><td>1</td><td>11</td><td>  2.3</td></tr>\n",
       "\t<tr><th scope=row>12</th><td>48657</td><td>71</td><td>1</td><td>12</td><td>  0.0</td></tr>\n",
       "\t<tr><th scope=row>13</th><td>48657</td><td>71</td><td>1</td><td>13</td><td>  0.0</td></tr>\n",
       "\t<tr><th scope=row>14</th><td>48657</td><td>71</td><td>1</td><td>14</td><td>  0.0</td></tr>\n",
       "\t<tr><th scope=row>15</th><td>48657</td><td>71</td><td>1</td><td>15</td><td>  0.0</td></tr>\n",
       "\t<tr><th scope=row>16</th><td>48657</td><td>71</td><td>1</td><td>16</td><td>  0.0</td></tr>\n",
       "\t<tr><th scope=row>17</th><td>48657</td><td>71</td><td>1</td><td>17</td><td>  0.0</td></tr>\n",
       "\t<tr><th scope=row>18</th><td>48657</td><td>71</td><td>1</td><td>18</td><td>  0.0</td></tr>\n",
       "\t<tr><th scope=row>19</th><td>48657</td><td>71</td><td>1</td><td>19</td><td>  0.0</td></tr>\n",
       "\t<tr><th scope=row>20</th><td>48657</td><td>71</td><td>1</td><td>20</td><td>  0.0</td></tr>\n",
       "\t<tr><th scope=row>21</th><td>48657</td><td>71</td><td>1</td><td>21</td><td>  0.8</td></tr>\n",
       "\t<tr><th scope=row>22</th><td>48657</td><td>71</td><td>1</td><td>22</td><td>  5.1</td></tr>\n",
       "\t<tr><th scope=row>23</th><td>48657</td><td>71</td><td>1</td><td>23</td><td>  0.0</td></tr>\n",
       "\t<tr><th scope=row>24</th><td>48657</td><td>71</td><td>1</td><td>24</td><td>  0.3</td></tr>\n",
       "\t<tr><th scope=row>25</th><td>48657</td><td>71</td><td>1</td><td>25</td><td>  0.0</td></tr>\n",
       "\t<tr><th scope=row>26</th><td>48657</td><td>71</td><td>1</td><td>26</td><td>  0.0</td></tr>\n",
       "\t<tr><th scope=row>27</th><td>48657</td><td>71</td><td>1</td><td>27</td><td>  0.0</td></tr>\n",
       "\t<tr><th scope=row>28</th><td>48657</td><td>71</td><td>1</td><td>28</td><td>  0.0</td></tr>\n",
       "\t<tr><th scope=row>29</th><td>48657</td><td>71</td><td>1</td><td>29</td><td>  0.0</td></tr>\n",
       "\t<tr><th scope=row>30</th><td>48657</td><td>71</td><td>1</td><td>30</td><td>  0.0</td></tr>\n",
       "\t<tr><th scope=row>...</th><td>...</td><td>...</td><td>...</td><td>...</td><td>...</td></tr>\n",
       "\t<tr><th scope=row>10563</th><td>48657</td><td>99</td><td>12</td><td> 2</td><td> 6.7</td></tr>\n",
       "\t<tr><th scope=row>10564</th><td>48657</td><td>99</td><td>12</td><td> 3</td><td>13.1</td></tr>\n",
       "\t<tr><th scope=row>10565</th><td>48657</td><td>99</td><td>12</td><td> 4</td><td> 0.0</td></tr>\n",
       "\t<tr><th scope=row>10566</th><td>48657</td><td>99</td><td>12</td><td> 5</td><td>45.2</td></tr>\n",
       "\t<tr><th scope=row>10567</th><td>48657</td><td>99</td><td>12</td><td> 6</td><td> 0.6</td></tr>\n",
       "\t<tr><th scope=row>10568</th><td>48657</td><td>99</td><td>12</td><td> 7</td><td>32.0</td></tr>\n",
       "\t<tr><th scope=row>10569</th><td>48657</td><td>99</td><td>12</td><td> 8</td><td>45.0</td></tr>\n",
       "\t<tr><th scope=row>10570</th><td>48657</td><td>99</td><td>12</td><td> 9</td><td> 0.0</td></tr>\n",
       "\t<tr><th scope=row>10571</th><td>48657</td><td>99</td><td>12</td><td>10</td><td> 0.0</td></tr>\n",
       "\t<tr><th scope=row>10572</th><td>48657</td><td>99</td><td>12</td><td>11</td><td>16.6</td></tr>\n",
       "\t<tr><th scope=row>10573</th><td>48657</td><td>99</td><td>12</td><td>12</td><td> 4.0</td></tr>\n",
       "\t<tr><th scope=row>10574</th><td>48657</td><td>99</td><td>12</td><td>13</td><td> 0.0</td></tr>\n",
       "\t<tr><th scope=row>10575</th><td>48657</td><td>99</td><td>12</td><td>14</td><td> 1.7</td></tr>\n",
       "\t<tr><th scope=row>10576</th><td>48657</td><td>99</td><td>12</td><td>15</td><td> 4.0</td></tr>\n",
       "\t<tr><th scope=row>10577</th><td>48657</td><td>99</td><td>12</td><td>16</td><td> 0.3</td></tr>\n",
       "\t<tr><th scope=row>10578</th><td>48657</td><td>99</td><td>12</td><td>17</td><td> 4.0</td></tr>\n",
       "\t<tr><th scope=row>10579</th><td>48657</td><td>99</td><td>12</td><td>18</td><td> 1.4</td></tr>\n",
       "\t<tr><th scope=row>10580</th><td>48657</td><td>99</td><td>12</td><td>19</td><td>26.6</td></tr>\n",
       "\t<tr><th scope=row>10581</th><td>48657</td><td>99</td><td>12</td><td>20</td><td>36.3</td></tr>\n",
       "\t<tr><th scope=row>10582</th><td>48657</td><td>99</td><td>12</td><td>21</td><td>26.0</td></tr>\n",
       "\t<tr><th scope=row>10583</th><td>48657</td><td>99</td><td>12</td><td>22</td><td>15.5</td></tr>\n",
       "\t<tr><th scope=row>10584</th><td>48657</td><td>99</td><td>12</td><td>23</td><td> 6.8</td></tr>\n",
       "\t<tr><th scope=row>10585</th><td>48657</td><td>99</td><td>12</td><td>24</td><td> 0.7</td></tr>\n",
       "\t<tr><th scope=row>10586</th><td>48657</td><td>99</td><td>12</td><td>25</td><td> 0.0</td></tr>\n",
       "\t<tr><th scope=row>10587</th><td>48657</td><td>99</td><td>12</td><td>26</td><td> 0.0</td></tr>\n",
       "\t<tr><th scope=row>10588</th><td>48657</td><td>99</td><td>12</td><td>27</td><td> 0.0</td></tr>\n",
       "\t<tr><th scope=row>10589</th><td>48657</td><td>99</td><td>12</td><td>28</td><td> 0.3</td></tr>\n",
       "\t<tr><th scope=row>10590</th><td>48657</td><td>99</td><td>12</td><td>29</td><td>53.0</td></tr>\n",
       "\t<tr><th scope=row>10591</th><td>48657</td><td>99</td><td>12</td><td>30</td><td>12.9</td></tr>\n",
       "\t<tr><th scope=row>10592</th><td>48657</td><td>99</td><td>12</td><td>31</td><td> 5.6</td></tr>\n",
       "</tbody>\n",
       "</table>\n"
      ],
      "text/latex": [
       "A data.frame: 10592 × 5\n",
       "\\begin{tabular}{r|lllll}\n",
       "  & Stesyen.ID & Tahun & Bulan & Hari & Jumlah.Hujan.mm.\\\\\n",
       "  & <int> & <int> & <int> & <int> & <dbl>\\\\\n",
       "\\hline\n",
       "\t1 & 48657 & 71 & 1 &  1 & 125.0\\\\\n",
       "\t2 & 48657 & 71 & 1 &  2 & 130.3\\\\\n",
       "\t3 & 48657 & 71 & 1 &  3 & 327.2\\\\\n",
       "\t4 & 48657 & 71 & 1 &  4 & 252.2\\\\\n",
       "\t5 & 48657 & 71 & 1 &  5 &  33.8\\\\\n",
       "\t6 & 48657 & 71 & 1 &  6 &   6.1\\\\\n",
       "\t7 & 48657 & 71 & 1 &  7 &   5.1\\\\\n",
       "\t8 & 48657 & 71 & 1 &  8 &   0.5\\\\\n",
       "\t9 & 48657 & 71 & 1 &  9 &   0.5\\\\\n",
       "\t10 & 48657 & 71 & 1 & 10 &   0.0\\\\\n",
       "\t11 & 48657 & 71 & 1 & 11 &   2.3\\\\\n",
       "\t12 & 48657 & 71 & 1 & 12 &   0.0\\\\\n",
       "\t13 & 48657 & 71 & 1 & 13 &   0.0\\\\\n",
       "\t14 & 48657 & 71 & 1 & 14 &   0.0\\\\\n",
       "\t15 & 48657 & 71 & 1 & 15 &   0.0\\\\\n",
       "\t16 & 48657 & 71 & 1 & 16 &   0.0\\\\\n",
       "\t17 & 48657 & 71 & 1 & 17 &   0.0\\\\\n",
       "\t18 & 48657 & 71 & 1 & 18 &   0.0\\\\\n",
       "\t19 & 48657 & 71 & 1 & 19 &   0.0\\\\\n",
       "\t20 & 48657 & 71 & 1 & 20 &   0.0\\\\\n",
       "\t21 & 48657 & 71 & 1 & 21 &   0.8\\\\\n",
       "\t22 & 48657 & 71 & 1 & 22 &   5.1\\\\\n",
       "\t23 & 48657 & 71 & 1 & 23 &   0.0\\\\\n",
       "\t24 & 48657 & 71 & 1 & 24 &   0.3\\\\\n",
       "\t25 & 48657 & 71 & 1 & 25 &   0.0\\\\\n",
       "\t26 & 48657 & 71 & 1 & 26 &   0.0\\\\\n",
       "\t27 & 48657 & 71 & 1 & 27 &   0.0\\\\\n",
       "\t28 & 48657 & 71 & 1 & 28 &   0.0\\\\\n",
       "\t29 & 48657 & 71 & 1 & 29 &   0.0\\\\\n",
       "\t30 & 48657 & 71 & 1 & 30 &   0.0\\\\\n",
       "\t... & ... & ... & ... & ... & ...\\\\\n",
       "\t10563 & 48657 & 99 & 12 &  2 &  6.7\\\\\n",
       "\t10564 & 48657 & 99 & 12 &  3 & 13.1\\\\\n",
       "\t10565 & 48657 & 99 & 12 &  4 &  0.0\\\\\n",
       "\t10566 & 48657 & 99 & 12 &  5 & 45.2\\\\\n",
       "\t10567 & 48657 & 99 & 12 &  6 &  0.6\\\\\n",
       "\t10568 & 48657 & 99 & 12 &  7 & 32.0\\\\\n",
       "\t10569 & 48657 & 99 & 12 &  8 & 45.0\\\\\n",
       "\t10570 & 48657 & 99 & 12 &  9 &  0.0\\\\\n",
       "\t10571 & 48657 & 99 & 12 & 10 &  0.0\\\\\n",
       "\t10572 & 48657 & 99 & 12 & 11 & 16.6\\\\\n",
       "\t10573 & 48657 & 99 & 12 & 12 &  4.0\\\\\n",
       "\t10574 & 48657 & 99 & 12 & 13 &  0.0\\\\\n",
       "\t10575 & 48657 & 99 & 12 & 14 &  1.7\\\\\n",
       "\t10576 & 48657 & 99 & 12 & 15 &  4.0\\\\\n",
       "\t10577 & 48657 & 99 & 12 & 16 &  0.3\\\\\n",
       "\t10578 & 48657 & 99 & 12 & 17 &  4.0\\\\\n",
       "\t10579 & 48657 & 99 & 12 & 18 &  1.4\\\\\n",
       "\t10580 & 48657 & 99 & 12 & 19 & 26.6\\\\\n",
       "\t10581 & 48657 & 99 & 12 & 20 & 36.3\\\\\n",
       "\t10582 & 48657 & 99 & 12 & 21 & 26.0\\\\\n",
       "\t10583 & 48657 & 99 & 12 & 22 & 15.5\\\\\n",
       "\t10584 & 48657 & 99 & 12 & 23 &  6.8\\\\\n",
       "\t10585 & 48657 & 99 & 12 & 24 &  0.7\\\\\n",
       "\t10586 & 48657 & 99 & 12 & 25 &  0.0\\\\\n",
       "\t10587 & 48657 & 99 & 12 & 26 &  0.0\\\\\n",
       "\t10588 & 48657 & 99 & 12 & 27 &  0.0\\\\\n",
       "\t10589 & 48657 & 99 & 12 & 28 &  0.3\\\\\n",
       "\t10590 & 48657 & 99 & 12 & 29 & 53.0\\\\\n",
       "\t10591 & 48657 & 99 & 12 & 30 & 12.9\\\\\n",
       "\t10592 & 48657 & 99 & 12 & 31 &  5.6\\\\\n",
       "\\end{tabular}\n"
      ],
      "text/markdown": [
       "\n",
       "A data.frame: 10592 × 5\n",
       "\n",
       "| <!--/--> | Stesyen.ID &lt;int&gt; | Tahun &lt;int&gt; | Bulan &lt;int&gt; | Hari &lt;int&gt; | Jumlah.Hujan.mm. &lt;dbl&gt; |\n",
       "|---|---|---|---|---|---|\n",
       "| 1 | 48657 | 71 | 1 |  1 | 125.0 |\n",
       "| 2 | 48657 | 71 | 1 |  2 | 130.3 |\n",
       "| 3 | 48657 | 71 | 1 |  3 | 327.2 |\n",
       "| 4 | 48657 | 71 | 1 |  4 | 252.2 |\n",
       "| 5 | 48657 | 71 | 1 |  5 |  33.8 |\n",
       "| 6 | 48657 | 71 | 1 |  6 |   6.1 |\n",
       "| 7 | 48657 | 71 | 1 |  7 |   5.1 |\n",
       "| 8 | 48657 | 71 | 1 |  8 |   0.5 |\n",
       "| 9 | 48657 | 71 | 1 |  9 |   0.5 |\n",
       "| 10 | 48657 | 71 | 1 | 10 |   0.0 |\n",
       "| 11 | 48657 | 71 | 1 | 11 |   2.3 |\n",
       "| 12 | 48657 | 71 | 1 | 12 |   0.0 |\n",
       "| 13 | 48657 | 71 | 1 | 13 |   0.0 |\n",
       "| 14 | 48657 | 71 | 1 | 14 |   0.0 |\n",
       "| 15 | 48657 | 71 | 1 | 15 |   0.0 |\n",
       "| 16 | 48657 | 71 | 1 | 16 |   0.0 |\n",
       "| 17 | 48657 | 71 | 1 | 17 |   0.0 |\n",
       "| 18 | 48657 | 71 | 1 | 18 |   0.0 |\n",
       "| 19 | 48657 | 71 | 1 | 19 |   0.0 |\n",
       "| 20 | 48657 | 71 | 1 | 20 |   0.0 |\n",
       "| 21 | 48657 | 71 | 1 | 21 |   0.8 |\n",
       "| 22 | 48657 | 71 | 1 | 22 |   5.1 |\n",
       "| 23 | 48657 | 71 | 1 | 23 |   0.0 |\n",
       "| 24 | 48657 | 71 | 1 | 24 |   0.3 |\n",
       "| 25 | 48657 | 71 | 1 | 25 |   0.0 |\n",
       "| 26 | 48657 | 71 | 1 | 26 |   0.0 |\n",
       "| 27 | 48657 | 71 | 1 | 27 |   0.0 |\n",
       "| 28 | 48657 | 71 | 1 | 28 |   0.0 |\n",
       "| 29 | 48657 | 71 | 1 | 29 |   0.0 |\n",
       "| 30 | 48657 | 71 | 1 | 30 |   0.0 |\n",
       "| ... | ... | ... | ... | ... | ... |\n",
       "| 10563 | 48657 | 99 | 12 |  2 |  6.7 |\n",
       "| 10564 | 48657 | 99 | 12 |  3 | 13.1 |\n",
       "| 10565 | 48657 | 99 | 12 |  4 |  0.0 |\n",
       "| 10566 | 48657 | 99 | 12 |  5 | 45.2 |\n",
       "| 10567 | 48657 | 99 | 12 |  6 |  0.6 |\n",
       "| 10568 | 48657 | 99 | 12 |  7 | 32.0 |\n",
       "| 10569 | 48657 | 99 | 12 |  8 | 45.0 |\n",
       "| 10570 | 48657 | 99 | 12 |  9 |  0.0 |\n",
       "| 10571 | 48657 | 99 | 12 | 10 |  0.0 |\n",
       "| 10572 | 48657 | 99 | 12 | 11 | 16.6 |\n",
       "| 10573 | 48657 | 99 | 12 | 12 |  4.0 |\n",
       "| 10574 | 48657 | 99 | 12 | 13 |  0.0 |\n",
       "| 10575 | 48657 | 99 | 12 | 14 |  1.7 |\n",
       "| 10576 | 48657 | 99 | 12 | 15 |  4.0 |\n",
       "| 10577 | 48657 | 99 | 12 | 16 |  0.3 |\n",
       "| 10578 | 48657 | 99 | 12 | 17 |  4.0 |\n",
       "| 10579 | 48657 | 99 | 12 | 18 |  1.4 |\n",
       "| 10580 | 48657 | 99 | 12 | 19 | 26.6 |\n",
       "| 10581 | 48657 | 99 | 12 | 20 | 36.3 |\n",
       "| 10582 | 48657 | 99 | 12 | 21 | 26.0 |\n",
       "| 10583 | 48657 | 99 | 12 | 22 | 15.5 |\n",
       "| 10584 | 48657 | 99 | 12 | 23 |  6.8 |\n",
       "| 10585 | 48657 | 99 | 12 | 24 |  0.7 |\n",
       "| 10586 | 48657 | 99 | 12 | 25 |  0.0 |\n",
       "| 10587 | 48657 | 99 | 12 | 26 |  0.0 |\n",
       "| 10588 | 48657 | 99 | 12 | 27 |  0.0 |\n",
       "| 10589 | 48657 | 99 | 12 | 28 |  0.3 |\n",
       "| 10590 | 48657 | 99 | 12 | 29 | 53.0 |\n",
       "| 10591 | 48657 | 99 | 12 | 30 | 12.9 |\n",
       "| 10592 | 48657 | 99 | 12 | 31 |  5.6 |\n",
       "\n"
      ],
      "text/plain": [
       "      Stesyen.ID Tahun Bulan Hari Jumlah.Hujan.mm.\n",
       "1     48657      71    1      1   125.0           \n",
       "2     48657      71    1      2   130.3           \n",
       "3     48657      71    1      3   327.2           \n",
       "4     48657      71    1      4   252.2           \n",
       "5     48657      71    1      5    33.8           \n",
       "6     48657      71    1      6     6.1           \n",
       "7     48657      71    1      7     5.1           \n",
       "8     48657      71    1      8     0.5           \n",
       "9     48657      71    1      9     0.5           \n",
       "10    48657      71    1     10     0.0           \n",
       "11    48657      71    1     11     2.3           \n",
       "12    48657      71    1     12     0.0           \n",
       "13    48657      71    1     13     0.0           \n",
       "14    48657      71    1     14     0.0           \n",
       "15    48657      71    1     15     0.0           \n",
       "16    48657      71    1     16     0.0           \n",
       "17    48657      71    1     17     0.0           \n",
       "18    48657      71    1     18     0.0           \n",
       "19    48657      71    1     19     0.0           \n",
       "20    48657      71    1     20     0.0           \n",
       "21    48657      71    1     21     0.8           \n",
       "22    48657      71    1     22     5.1           \n",
       "23    48657      71    1     23     0.0           \n",
       "24    48657      71    1     24     0.3           \n",
       "25    48657      71    1     25     0.0           \n",
       "26    48657      71    1     26     0.0           \n",
       "27    48657      71    1     27     0.0           \n",
       "28    48657      71    1     28     0.0           \n",
       "29    48657      71    1     29     0.0           \n",
       "30    48657      71    1     30     0.0           \n",
       "...   ...        ...   ...   ...  ...             \n",
       "10563 48657      99    12     2    6.7            \n",
       "10564 48657      99    12     3   13.1            \n",
       "10565 48657      99    12     4    0.0            \n",
       "10566 48657      99    12     5   45.2            \n",
       "10567 48657      99    12     6    0.6            \n",
       "10568 48657      99    12     7   32.0            \n",
       "10569 48657      99    12     8   45.0            \n",
       "10570 48657      99    12     9    0.0            \n",
       "10571 48657      99    12    10    0.0            \n",
       "10572 48657      99    12    11   16.6            \n",
       "10573 48657      99    12    12    4.0            \n",
       "10574 48657      99    12    13    0.0            \n",
       "10575 48657      99    12    14    1.7            \n",
       "10576 48657      99    12    15    4.0            \n",
       "10577 48657      99    12    16    0.3            \n",
       "10578 48657      99    12    17    4.0            \n",
       "10579 48657      99    12    18    1.4            \n",
       "10580 48657      99    12    19   26.6            \n",
       "10581 48657      99    12    20   36.3            \n",
       "10582 48657      99    12    21   26.0            \n",
       "10583 48657      99    12    22   15.5            \n",
       "10584 48657      99    12    23    6.8            \n",
       "10585 48657      99    12    24    0.7            \n",
       "10586 48657      99    12    25    0.0            \n",
       "10587 48657      99    12    26    0.0            \n",
       "10588 48657      99    12    27    0.0            \n",
       "10589 48657      99    12    28    0.3            \n",
       "10590 48657      99    12    29   53.0            \n",
       "10591 48657      99    12    30   12.9            \n",
       "10592 48657      99    12    31    5.6            "
      ]
     },
     "metadata": {},
     "output_type": "display_data"
    }
   ],
   "source": [
    "df"
   ]
  },
  {
   "cell_type": "code",
   "execution_count": 14,
   "id": "3ad1b4e7",
   "metadata": {},
   "outputs": [
    {
     "data": {
      "text/plain": [
       "     Tahun        Bulan             Hari      \n",
       " Min.   :71   Min.   : 1.000   Min.   : 1.00  \n",
       " 1st Qu.:78   1st Qu.: 4.000   1st Qu.: 8.00  \n",
       " Median :85   Median : 7.000   Median :16.00  \n",
       " Mean   :85   Mean   : 6.523   Mean   :15.73  \n",
       " 3rd Qu.:92   3rd Qu.:10.000   3rd Qu.:23.00  \n",
       " Max.   :99   Max.   :12.000   Max.   :31.00  "
      ]
     },
     "metadata": {},
     "output_type": "display_data"
    }
   ],
   "source": [
    "cols <- c('Tahun', 'Bulan', 'Hari')\n",
    "summary(df[cols])"
   ]
  },
  {
   "cell_type": "code",
   "execution_count": 15,
   "id": "390f7290",
   "metadata": {},
   "outputs": [
    {
     "data": {
      "text/html": [
       "<table class=\"dataframe\">\n",
       "<caption>A data.frame: 6 × 6</caption>\n",
       "<thead>\n",
       "\t<tr><th></th><th scope=col>Stesyen.ID</th><th scope=col>Tahun</th><th scope=col>Bulan</th><th scope=col>Hari</th><th scope=col>Jumlah.Hujan.mm.</th><th scope=col>date</th></tr>\n",
       "\t<tr><th></th><th scope=col>&lt;int&gt;</th><th scope=col>&lt;int&gt;</th><th scope=col>&lt;int&gt;</th><th scope=col>&lt;int&gt;</th><th scope=col>&lt;dbl&gt;</th><th scope=col>&lt;date&gt;</th></tr>\n",
       "</thead>\n",
       "<tbody>\n",
       "\t<tr><th scope=row>1</th><td>48657</td><td>71</td><td>1</td><td>1</td><td>125.0</td><td>1971-01-01</td></tr>\n",
       "\t<tr><th scope=row>2</th><td>48657</td><td>71</td><td>1</td><td>2</td><td>130.3</td><td>1971-01-02</td></tr>\n",
       "\t<tr><th scope=row>3</th><td>48657</td><td>71</td><td>1</td><td>3</td><td>327.2</td><td>1971-01-03</td></tr>\n",
       "\t<tr><th scope=row>4</th><td>48657</td><td>71</td><td>1</td><td>4</td><td>252.2</td><td>1971-01-04</td></tr>\n",
       "\t<tr><th scope=row>5</th><td>48657</td><td>71</td><td>1</td><td>5</td><td> 33.8</td><td>1971-01-05</td></tr>\n",
       "\t<tr><th scope=row>6</th><td>48657</td><td>71</td><td>1</td><td>6</td><td>  6.1</td><td>1971-01-06</td></tr>\n",
       "</tbody>\n",
       "</table>\n"
      ],
      "text/latex": [
       "A data.frame: 6 × 6\n",
       "\\begin{tabular}{r|llllll}\n",
       "  & Stesyen.ID & Tahun & Bulan & Hari & Jumlah.Hujan.mm. & date\\\\\n",
       "  & <int> & <int> & <int> & <int> & <dbl> & <date>\\\\\n",
       "\\hline\n",
       "\t1 & 48657 & 71 & 1 & 1 & 125.0 & 1971-01-01\\\\\n",
       "\t2 & 48657 & 71 & 1 & 2 & 130.3 & 1971-01-02\\\\\n",
       "\t3 & 48657 & 71 & 1 & 3 & 327.2 & 1971-01-03\\\\\n",
       "\t4 & 48657 & 71 & 1 & 4 & 252.2 & 1971-01-04\\\\\n",
       "\t5 & 48657 & 71 & 1 & 5 &  33.8 & 1971-01-05\\\\\n",
       "\t6 & 48657 & 71 & 1 & 6 &   6.1 & 1971-01-06\\\\\n",
       "\\end{tabular}\n"
      ],
      "text/markdown": [
       "\n",
       "A data.frame: 6 × 6\n",
       "\n",
       "| <!--/--> | Stesyen.ID &lt;int&gt; | Tahun &lt;int&gt; | Bulan &lt;int&gt; | Hari &lt;int&gt; | Jumlah.Hujan.mm. &lt;dbl&gt; | date &lt;date&gt; |\n",
       "|---|---|---|---|---|---|---|\n",
       "| 1 | 48657 | 71 | 1 | 1 | 125.0 | 1971-01-01 |\n",
       "| 2 | 48657 | 71 | 1 | 2 | 130.3 | 1971-01-02 |\n",
       "| 3 | 48657 | 71 | 1 | 3 | 327.2 | 1971-01-03 |\n",
       "| 4 | 48657 | 71 | 1 | 4 | 252.2 | 1971-01-04 |\n",
       "| 5 | 48657 | 71 | 1 | 5 |  33.8 | 1971-01-05 |\n",
       "| 6 | 48657 | 71 | 1 | 6 |   6.1 | 1971-01-06 |\n",
       "\n"
      ],
      "text/plain": [
       "  Stesyen.ID Tahun Bulan Hari Jumlah.Hujan.mm. date      \n",
       "1 48657      71    1     1    125.0            1971-01-01\n",
       "2 48657      71    1     2    130.3            1971-01-02\n",
       "3 48657      71    1     3    327.2            1971-01-03\n",
       "4 48657      71    1     4    252.2            1971-01-04\n",
       "5 48657      71    1     5     33.8            1971-01-05\n",
       "6 48657      71    1     6      6.1            1971-01-06"
      ]
     },
     "metadata": {},
     "output_type": "display_data"
    }
   ],
   "source": [
    "df$date <- as.Date(with(df, paste(Tahun, Bulan, Hari,sep=\"-\")), \"%y-%m-%d\")\n",
    "\n",
    "head(df)"
   ]
  },
  {
   "cell_type": "code",
   "execution_count": 16,
   "id": "cb42a77d",
   "metadata": {},
   "outputs": [
    {
     "data": {
      "text/html": [
       "1"
      ],
      "text/latex": [
       "1"
      ],
      "text/markdown": [
       "1"
      ],
      "text/plain": [
       "[1] 1"
      ]
     },
     "metadata": {},
     "output_type": "display_data"
    }
   ],
   "source": [
    "total_location  <- unique(df$Stesyen.ID)\n",
    "length(total_location)"
   ]
  },
  {
   "cell_type": "code",
   "execution_count": 17,
   "id": "103e890d",
   "metadata": {},
   "outputs": [
    {
     "data": {
      "image/png": "[encoded data removed]",
      "text/plain": [
       "plot without title"
      ]
     },
     "metadata": {
      "image/png": {
       "height": 420,
       "width": 420
      }
     },
     "output_type": "display_data"
    }
   ],
   "source": [
    "ggplot(df, aes(x=date, y=Jumlah.Hujan.mm.)) + geom_point()"
   ]
  },
  {
   "cell_type": "code",
   "execution_count": 18,
   "id": "54662648",
   "metadata": {},
   "outputs": [
    {
     "data": {
      "image/png": "[encoded data removed]",
      "text/plain": [
       "plot without title"
      ]
     },
     "metadata": {
      "image/png": {
       "height": 420,
       "width": 420
      }
     },
     "output_type": "display_data"
    }
   ],
   "source": [
    "df_1999 <- df %>% \n",
    "    filter(Tahun==99)\n",
    "\n",
    "# Scatter plot comparing pop and lifeExp, with color representing continent\n",
    "ggplot(df_1999, aes(x = date, y = Jumlah.Hujan.mm., color = Bulan )) +\n",
    "  geom_point()"
   ]
  },
  {
   "cell_type": "code",
   "execution_count": 28,
   "id": "3e3a4aae",
   "metadata": {
    "scrolled": true
   },
   "outputs": [
    {
     "data": {
      "image/png": "[encoded data removed]",
      "text/plain": [
       "plot without title"
      ]
     },
     "metadata": {
      "image/png": {
       "height": 420,
       "width": 420
      }
     },
     "output_type": "display_data"
    }
   ],
   "source": [
    "df_1999 <- df %>% \n",
    "    filter(Tahun==99) %>% \n",
    "    group_by(Bulan) %>% \n",
    "    summarize(Total_hujan = sum(Jumlah.Hujan.mm.))\n",
    "\n",
    "# Create a scatter plot showing the change in medianLifeExp over time\n",
    "ggplot(df_1999, aes(x = Bulan, y = Total_hujan)) +\n",
    "  geom_point() +\n",
    "  expand_limits(y = 0)"
   ]
  },
  {
   "cell_type": "code",
   "execution_count": 35,
   "id": "c8aaa829",
   "metadata": {},
   "outputs": [
    {
     "data": {
      "image/png": "[encoded data removed]",
      "text/plain": [
       "plot without title"
      ]
     },
     "metadata": {
      "image/png": {
       "height": 420,
       "width": 420
      }
     },
     "output_type": "display_data"
    }
   ],
   "source": [
    "ggplot(df_1999, aes(x = Bulan, y = Total_hujan)) +\n",
    "    geom_col() +\n",
    "    ggtitle(\"Jumlah Hujan\")"
   ]
  },
  {
   "cell_type": "code",
   "execution_count": 34,
   "id": "e8cf0d30",
   "metadata": {},
   "outputs": [
    {
     "data": {
      "text/html": [
       "<table class=\"dataframe\">\n",
       "<caption>A tibble: 12 × 2</caption>\n",
       "<thead>\n",
       "\t<tr><th scope=col>Bulan</th><th scope=col>Total_hujan</th></tr>\n",
       "\t<tr><th scope=col>&lt;chr&gt;</th><th scope=col>&lt;dbl&gt;</th></tr>\n",
       "</thead>\n",
       "<tbody>\n",
       "\t<tr><td>1 </td><td>689.8</td></tr>\n",
       "\t<tr><td>2 </td><td>190.6</td></tr>\n",
       "\t<tr><td>3 </td><td>296.6</td></tr>\n",
       "\t<tr><td>4 </td><td>302.0</td></tr>\n",
       "\t<tr><td>5 </td><td>284.6</td></tr>\n",
       "\t<tr><td>6 </td><td>158.6</td></tr>\n",
       "\t<tr><td>7 </td><td>102.9</td></tr>\n",
       "\t<tr><td>8 </td><td>228.5</td></tr>\n",
       "\t<tr><td>9 </td><td>175.5</td></tr>\n",
       "\t<tr><td>10</td><td>181.8</td></tr>\n",
       "\t<tr><td>11</td><td>268.9</td></tr>\n",
       "\t<tr><td>12</td><td>362.4</td></tr>\n",
       "</tbody>\n",
       "</table>\n"
      ],
      "text/latex": [
       "A tibble: 12 × 2\n",
       "\\begin{tabular}{ll}\n",
       " Bulan & Total\\_hujan\\\\\n",
       " <chr> & <dbl>\\\\\n",
       "\\hline\n",
       "\t 1  & 689.8\\\\\n",
       "\t 2  & 190.6\\\\\n",
       "\t 3  & 296.6\\\\\n",
       "\t 4  & 302.0\\\\\n",
       "\t 5  & 284.6\\\\\n",
       "\t 6  & 158.6\\\\\n",
       "\t 7  & 102.9\\\\\n",
       "\t 8  & 228.5\\\\\n",
       "\t 9  & 175.5\\\\\n",
       "\t 10 & 181.8\\\\\n",
       "\t 11 & 268.9\\\\\n",
       "\t 12 & 362.4\\\\\n",
       "\\end{tabular}\n"
      ],
      "text/markdown": [
       "\n",
       "A tibble: 12 × 2\n",
       "\n",
       "| Bulan &lt;chr&gt; | Total_hujan &lt;dbl&gt; |\n",
       "|---|---|\n",
       "| 1  | 689.8 |\n",
       "| 2  | 190.6 |\n",
       "| 3  | 296.6 |\n",
       "| 4  | 302.0 |\n",
       "| 5  | 284.6 |\n",
       "| 6  | 158.6 |\n",
       "| 7  | 102.9 |\n",
       "| 8  | 228.5 |\n",
       "| 9  | 175.5 |\n",
       "| 10 | 181.8 |\n",
       "| 11 | 268.9 |\n",
       "| 12 | 362.4 |\n",
       "\n"
      ],
      "text/plain": [
       "   Bulan Total_hujan\n",
       "1  1     689.8      \n",
       "2  2     190.6      \n",
       "3  3     296.6      \n",
       "4  4     302.0      \n",
       "5  5     284.6      \n",
       "6  6     158.6      \n",
       "7  7     102.9      \n",
       "8  8     228.5      \n",
       "9  9     175.5      \n",
       "10 10    181.8      \n",
       "11 11    268.9      \n",
       "12 12    362.4      "
      ]
     },
     "metadata": {},
     "output_type": "display_data"
    }
   ],
   "source": [
    "library(hablar)\n",
    "df_1999 %>% \n",
    "    convert(chr(Bulan))"
   ]
  },
  {
   "cell_type": "code",
   "execution_count": 21,
   "id": "4a654cf4",
   "metadata": {
    "scrolled": true
   },
   "outputs": [
    {
     "data": {
      "text/html": [
       "<table class=\"dataframe\">\n",
       "<caption>A tibble: 12 × 2</caption>\n",
       "<thead>\n",
       "\t<tr><th scope=col>Bulan</th><th scope=col>Total_hujan</th></tr>\n",
       "\t<tr><th scope=col>&lt;int&gt;</th><th scope=col>&lt;dbl&gt;</th></tr>\n",
       "</thead>\n",
       "<tbody>\n",
       "\t<tr><td> 1</td><td>689.8</td></tr>\n",
       "\t<tr><td> 2</td><td>190.6</td></tr>\n",
       "\t<tr><td> 3</td><td>296.6</td></tr>\n",
       "\t<tr><td> 4</td><td>302.0</td></tr>\n",
       "\t<tr><td> 5</td><td>284.6</td></tr>\n",
       "\t<tr><td> 6</td><td>158.6</td></tr>\n",
       "\t<tr><td> 7</td><td>102.9</td></tr>\n",
       "\t<tr><td> 8</td><td>228.5</td></tr>\n",
       "\t<tr><td> 9</td><td>175.5</td></tr>\n",
       "\t<tr><td>10</td><td>181.8</td></tr>\n",
       "\t<tr><td>11</td><td>268.9</td></tr>\n",
       "\t<tr><td>12</td><td>362.4</td></tr>\n",
       "</tbody>\n",
       "</table>\n"
      ],
      "text/latex": [
       "A tibble: 12 × 2\n",
       "\\begin{tabular}{ll}\n",
       " Bulan & Total\\_hujan\\\\\n",
       " <int> & <dbl>\\\\\n",
       "\\hline\n",
       "\t  1 & 689.8\\\\\n",
       "\t  2 & 190.6\\\\\n",
       "\t  3 & 296.6\\\\\n",
       "\t  4 & 302.0\\\\\n",
       "\t  5 & 284.6\\\\\n",
       "\t  6 & 158.6\\\\\n",
       "\t  7 & 102.9\\\\\n",
       "\t  8 & 228.5\\\\\n",
       "\t  9 & 175.5\\\\\n",
       "\t 10 & 181.8\\\\\n",
       "\t 11 & 268.9\\\\\n",
       "\t 12 & 362.4\\\\\n",
       "\\end{tabular}\n"
      ],
      "text/markdown": [
       "\n",
       "A tibble: 12 × 2\n",
       "\n",
       "| Bulan &lt;int&gt; | Total_hujan &lt;dbl&gt; |\n",
       "|---|---|\n",
       "|  1 | 689.8 |\n",
       "|  2 | 190.6 |\n",
       "|  3 | 296.6 |\n",
       "|  4 | 302.0 |\n",
       "|  5 | 284.6 |\n",
       "|  6 | 158.6 |\n",
       "|  7 | 102.9 |\n",
       "|  8 | 228.5 |\n",
       "|  9 | 175.5 |\n",
       "| 10 | 181.8 |\n",
       "| 11 | 268.9 |\n",
       "| 12 | 362.4 |\n",
       "\n"
      ],
      "text/plain": [
       "   Bulan Total_hujan\n",
       "1   1    689.8      \n",
       "2   2    190.6      \n",
       "3   3    296.6      \n",
       "4   4    302.0      \n",
       "5   5    284.6      \n",
       "6   6    158.6      \n",
       "7   7    102.9      \n",
       "8   8    228.5      \n",
       "9   9    175.5      \n",
       "10 10    181.8      \n",
       "11 11    268.9      \n",
       "12 12    362.4      "
      ]
     },
     "metadata": {},
     "output_type": "display_data"
    }
   ],
   "source": [
    "df_1999"
   ]
  },
  {
   "cell_type": "markdown",
   "id": "460895b6",
   "metadata": {},
   "source": [
    "library(hablar)\n",
    "df %>% \n",
    "    convert(chr(Bulan))"
   ]
  },
  {
   "cell_type": "code",
   "execution_count": null,
   "id": "dc047362",
   "metadata": {},
   "outputs": [],
   "source": []
  }
 ],
 "metadata": {
  "kernelspec": {
   "display_name": "R",
   "language": "R",
   "name": "ir"
  },
  "language_info": {
   "codemirror_mode": "r",
   "file_extension": ".r",
   "mimetype": "text/x-r-source",
   "name": "R",
   "pygments_lexer": "r",
   "version": "4.1.1"
  }
 },
 "nbformat": 4,
 "nbformat_minor": 5
}
