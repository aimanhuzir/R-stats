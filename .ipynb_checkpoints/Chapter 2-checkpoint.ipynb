{
 "cells": [
  {
   "cell_type": "markdown",
   "id": "4832fc86",
   "metadata": {},
   "source": [
    "## R Programming\n"
   ]
  },
  {
   "cell_type": "code",
   "execution_count": 1,
   "id": "21c5658f",
   "metadata": {},
   "outputs": [
    {
     "name": "stdout",
     "output_type": "stream",
     "text": [
      "[1] \"hello world\"\n"
     ]
    }
   ],
   "source": [
    "print('hello world')"
   ]
  },
  {
   "cell_type": "code",
   "execution_count": 2,
   "id": "a4526211",
   "metadata": {},
   "outputs": [
    {
     "name": "stderr",
     "output_type": "stream",
     "text": [
      "\n",
      "Attaching package: 'dplyr'\n",
      "\n",
      "\n",
      "The following objects are masked from 'package:stats':\n",
      "\n",
      "    filter, lag\n",
      "\n",
      "\n",
      "The following objects are masked from 'package:base':\n",
      "\n",
      "    intersect, setdiff, setequal, union\n",
      "\n",
      "\n"
     ]
    }
   ],
   "source": [
    "library(dplyr)"
   ]
  },
  {
   "cell_type": "code",
   "execution_count": 3,
   "id": "84ae2517",
   "metadata": {},
   "outputs": [
    {
     "data": {
      "text/html": [
       "<table class=\"dataframe\">\n",
       "<caption>A data.frame: 150 × 5</caption>\n",
       "<thead>\n",
       "\t<tr><th scope=col>Sepal.Length</th><th scope=col>Sepal.Width</th><th scope=col>Petal.Length</th><th scope=col>Petal.Width</th><th scope=col>Species</th></tr>\n",
       "\t<tr><th scope=col>&lt;dbl&gt;</th><th scope=col>&lt;dbl&gt;</th><th scope=col>&lt;dbl&gt;</th><th scope=col>&lt;dbl&gt;</th><th scope=col>&lt;fct&gt;</th></tr>\n",
       "</thead>\n",
       "<tbody>\n",
       "\t<tr><td>5.1</td><td>3.5</td><td>1.4</td><td>0.2</td><td>setosa</td></tr>\n",
       "\t<tr><td>4.9</td><td>3.0</td><td>1.4</td><td>0.2</td><td>setosa</td></tr>\n",
       "\t<tr><td>4.7</td><td>3.2</td><td>1.3</td><td>0.2</td><td>setosa</td></tr>\n",
       "\t<tr><td>4.6</td><td>3.1</td><td>1.5</td><td>0.2</td><td>setosa</td></tr>\n",
       "\t<tr><td>5.0</td><td>3.6</td><td>1.4</td><td>0.2</td><td>setosa</td></tr>\n",
       "\t<tr><td>5.4</td><td>3.9</td><td>1.7</td><td>0.4</td><td>setosa</td></tr>\n",
       "\t<tr><td>4.6</td><td>3.4</td><td>1.4</td><td>0.3</td><td>setosa</td></tr>\n",
       "\t<tr><td>5.0</td><td>3.4</td><td>1.5</td><td>0.2</td><td>setosa</td></tr>\n",
       "\t<tr><td>4.4</td><td>2.9</td><td>1.4</td><td>0.2</td><td>setosa</td></tr>\n",
       "\t<tr><td>4.9</td><td>3.1</td><td>1.5</td><td>0.1</td><td>setosa</td></tr>\n",
       "\t<tr><td>5.4</td><td>3.7</td><td>1.5</td><td>0.2</td><td>setosa</td></tr>\n",
       "\t<tr><td>4.8</td><td>3.4</td><td>1.6</td><td>0.2</td><td>setosa</td></tr>\n",
       "\t<tr><td>4.8</td><td>3.0</td><td>1.4</td><td>0.1</td><td>setosa</td></tr>\n",
       "\t<tr><td>4.3</td><td>3.0</td><td>1.1</td><td>0.1</td><td>setosa</td></tr>\n",
       "\t<tr><td>5.8</td><td>4.0</td><td>1.2</td><td>0.2</td><td>setosa</td></tr>\n",
       "\t<tr><td>5.7</td><td>4.4</td><td>1.5</td><td>0.4</td><td>setosa</td></tr>\n",
       "\t<tr><td>5.4</td><td>3.9</td><td>1.3</td><td>0.4</td><td>setosa</td></tr>\n",
       "\t<tr><td>5.1</td><td>3.5</td><td>1.4</td><td>0.3</td><td>setosa</td></tr>\n",
       "\t<tr><td>5.7</td><td>3.8</td><td>1.7</td><td>0.3</td><td>setosa</td></tr>\n",
       "\t<tr><td>5.1</td><td>3.8</td><td>1.5</td><td>0.3</td><td>setosa</td></tr>\n",
       "\t<tr><td>5.4</td><td>3.4</td><td>1.7</td><td>0.2</td><td>setosa</td></tr>\n",
       "\t<tr><td>5.1</td><td>3.7</td><td>1.5</td><td>0.4</td><td>setosa</td></tr>\n",
       "\t<tr><td>4.6</td><td>3.6</td><td>1.0</td><td>0.2</td><td>setosa</td></tr>\n",
       "\t<tr><td>5.1</td><td>3.3</td><td>1.7</td><td>0.5</td><td>setosa</td></tr>\n",
       "\t<tr><td>4.8</td><td>3.4</td><td>1.9</td><td>0.2</td><td>setosa</td></tr>\n",
       "\t<tr><td>5.0</td><td>3.0</td><td>1.6</td><td>0.2</td><td>setosa</td></tr>\n",
       "\t<tr><td>5.0</td><td>3.4</td><td>1.6</td><td>0.4</td><td>setosa</td></tr>\n",
       "\t<tr><td>5.2</td><td>3.5</td><td>1.5</td><td>0.2</td><td>setosa</td></tr>\n",
       "\t<tr><td>5.2</td><td>3.4</td><td>1.4</td><td>0.2</td><td>setosa</td></tr>\n",
       "\t<tr><td>4.7</td><td>3.2</td><td>1.6</td><td>0.2</td><td>setosa</td></tr>\n",
       "\t<tr><td>...</td><td>...</td><td>...</td><td>...</td><td>...</td></tr>\n",
       "\t<tr><td>6.9</td><td>3.2</td><td>5.7</td><td>2.3</td><td>virginica</td></tr>\n",
       "\t<tr><td>5.6</td><td>2.8</td><td>4.9</td><td>2.0</td><td>virginica</td></tr>\n",
       "\t<tr><td>7.7</td><td>2.8</td><td>6.7</td><td>2.0</td><td>virginica</td></tr>\n",
       "\t<tr><td>6.3</td><td>2.7</td><td>4.9</td><td>1.8</td><td>virginica</td></tr>\n",
       "\t<tr><td>6.7</td><td>3.3</td><td>5.7</td><td>2.1</td><td>virginica</td></tr>\n",
       "\t<tr><td>7.2</td><td>3.2</td><td>6.0</td><td>1.8</td><td>virginica</td></tr>\n",
       "\t<tr><td>6.2</td><td>2.8</td><td>4.8</td><td>1.8</td><td>virginica</td></tr>\n",
       "\t<tr><td>6.1</td><td>3.0</td><td>4.9</td><td>1.8</td><td>virginica</td></tr>\n",
       "\t<tr><td>6.4</td><td>2.8</td><td>5.6</td><td>2.1</td><td>virginica</td></tr>\n",
       "\t<tr><td>7.2</td><td>3.0</td><td>5.8</td><td>1.6</td><td>virginica</td></tr>\n",
       "\t<tr><td>7.4</td><td>2.8</td><td>6.1</td><td>1.9</td><td>virginica</td></tr>\n",
       "\t<tr><td>7.9</td><td>3.8</td><td>6.4</td><td>2.0</td><td>virginica</td></tr>\n",
       "\t<tr><td>6.4</td><td>2.8</td><td>5.6</td><td>2.2</td><td>virginica</td></tr>\n",
       "\t<tr><td>6.3</td><td>2.8</td><td>5.1</td><td>1.5</td><td>virginica</td></tr>\n",
       "\t<tr><td>6.1</td><td>2.6</td><td>5.6</td><td>1.4</td><td>virginica</td></tr>\n",
       "\t<tr><td>7.7</td><td>3.0</td><td>6.1</td><td>2.3</td><td>virginica</td></tr>\n",
       "\t<tr><td>6.3</td><td>3.4</td><td>5.6</td><td>2.4</td><td>virginica</td></tr>\n",
       "\t<tr><td>6.4</td><td>3.1</td><td>5.5</td><td>1.8</td><td>virginica</td></tr>\n",
       "\t<tr><td>6.0</td><td>3.0</td><td>4.8</td><td>1.8</td><td>virginica</td></tr>\n",
       "\t<tr><td>6.9</td><td>3.1</td><td>5.4</td><td>2.1</td><td>virginica</td></tr>\n",
       "\t<tr><td>6.7</td><td>3.1</td><td>5.6</td><td>2.4</td><td>virginica</td></tr>\n",
       "\t<tr><td>6.9</td><td>3.1</td><td>5.1</td><td>2.3</td><td>virginica</td></tr>\n",
       "\t<tr><td>5.8</td><td>2.7</td><td>5.1</td><td>1.9</td><td>virginica</td></tr>\n",
       "\t<tr><td>6.8</td><td>3.2</td><td>5.9</td><td>2.3</td><td>virginica</td></tr>\n",
       "\t<tr><td>6.7</td><td>3.3</td><td>5.7</td><td>2.5</td><td>virginica</td></tr>\n",
       "\t<tr><td>6.7</td><td>3.0</td><td>5.2</td><td>2.3</td><td>virginica</td></tr>\n",
       "\t<tr><td>6.3</td><td>2.5</td><td>5.0</td><td>1.9</td><td>virginica</td></tr>\n",
       "\t<tr><td>6.5</td><td>3.0</td><td>5.2</td><td>2.0</td><td>virginica</td></tr>\n",
       "\t<tr><td>6.2</td><td>3.4</td><td>5.4</td><td>2.3</td><td>virginica</td></tr>\n",
       "\t<tr><td>5.9</td><td>3.0</td><td>5.1</td><td>1.8</td><td>virginica</td></tr>\n",
       "</tbody>\n",
       "</table>\n"
      ],
      "text/latex": [
       "A data.frame: 150 × 5\n",
       "\\begin{tabular}{lllll}\n",
       " Sepal.Length & Sepal.Width & Petal.Length & Petal.Width & Species\\\\\n",
       " <dbl> & <dbl> & <dbl> & <dbl> & <fct>\\\\\n",
       "\\hline\n",
       "\t 5.1 & 3.5 & 1.4 & 0.2 & setosa\\\\\n",
       "\t 4.9 & 3.0 & 1.4 & 0.2 & setosa\\\\\n",
       "\t 4.7 & 3.2 & 1.3 & 0.2 & setosa\\\\\n",
       "\t 4.6 & 3.1 & 1.5 & 0.2 & setosa\\\\\n",
       "\t 5.0 & 3.6 & 1.4 & 0.2 & setosa\\\\\n",
       "\t 5.4 & 3.9 & 1.7 & 0.4 & setosa\\\\\n",
       "\t 4.6 & 3.4 & 1.4 & 0.3 & setosa\\\\\n",
       "\t 5.0 & 3.4 & 1.5 & 0.2 & setosa\\\\\n",
       "\t 4.4 & 2.9 & 1.4 & 0.2 & setosa\\\\\n",
       "\t 4.9 & 3.1 & 1.5 & 0.1 & setosa\\\\\n",
       "\t 5.4 & 3.7 & 1.5 & 0.2 & setosa\\\\\n",
       "\t 4.8 & 3.4 & 1.6 & 0.2 & setosa\\\\\n",
       "\t 4.8 & 3.0 & 1.4 & 0.1 & setosa\\\\\n",
       "\t 4.3 & 3.0 & 1.1 & 0.1 & setosa\\\\\n",
       "\t 5.8 & 4.0 & 1.2 & 0.2 & setosa\\\\\n",
       "\t 5.7 & 4.4 & 1.5 & 0.4 & setosa\\\\\n",
       "\t 5.4 & 3.9 & 1.3 & 0.4 & setosa\\\\\n",
       "\t 5.1 & 3.5 & 1.4 & 0.3 & setosa\\\\\n",
       "\t 5.7 & 3.8 & 1.7 & 0.3 & setosa\\\\\n",
       "\t 5.1 & 3.8 & 1.5 & 0.3 & setosa\\\\\n",
       "\t 5.4 & 3.4 & 1.7 & 0.2 & setosa\\\\\n",
       "\t 5.1 & 3.7 & 1.5 & 0.4 & setosa\\\\\n",
       "\t 4.6 & 3.6 & 1.0 & 0.2 & setosa\\\\\n",
       "\t 5.1 & 3.3 & 1.7 & 0.5 & setosa\\\\\n",
       "\t 4.8 & 3.4 & 1.9 & 0.2 & setosa\\\\\n",
       "\t 5.0 & 3.0 & 1.6 & 0.2 & setosa\\\\\n",
       "\t 5.0 & 3.4 & 1.6 & 0.4 & setosa\\\\\n",
       "\t 5.2 & 3.5 & 1.5 & 0.2 & setosa\\\\\n",
       "\t 5.2 & 3.4 & 1.4 & 0.2 & setosa\\\\\n",
       "\t 4.7 & 3.2 & 1.6 & 0.2 & setosa\\\\\n",
       "\t ... & ... & ... & ... & ...\\\\\n",
       "\t 6.9 & 3.2 & 5.7 & 2.3 & virginica\\\\\n",
       "\t 5.6 & 2.8 & 4.9 & 2.0 & virginica\\\\\n",
       "\t 7.7 & 2.8 & 6.7 & 2.0 & virginica\\\\\n",
       "\t 6.3 & 2.7 & 4.9 & 1.8 & virginica\\\\\n",
       "\t 6.7 & 3.3 & 5.7 & 2.1 & virginica\\\\\n",
       "\t 7.2 & 3.2 & 6.0 & 1.8 & virginica\\\\\n",
       "\t 6.2 & 2.8 & 4.8 & 1.8 & virginica\\\\\n",
       "\t 6.1 & 3.0 & 4.9 & 1.8 & virginica\\\\\n",
       "\t 6.4 & 2.8 & 5.6 & 2.1 & virginica\\\\\n",
       "\t 7.2 & 3.0 & 5.8 & 1.6 & virginica\\\\\n",
       "\t 7.4 & 2.8 & 6.1 & 1.9 & virginica\\\\\n",
       "\t 7.9 & 3.8 & 6.4 & 2.0 & virginica\\\\\n",
       "\t 6.4 & 2.8 & 5.6 & 2.2 & virginica\\\\\n",
       "\t 6.3 & 2.8 & 5.1 & 1.5 & virginica\\\\\n",
       "\t 6.1 & 2.6 & 5.6 & 1.4 & virginica\\\\\n",
       "\t 7.7 & 3.0 & 6.1 & 2.3 & virginica\\\\\n",
       "\t 6.3 & 3.4 & 5.6 & 2.4 & virginica\\\\\n",
       "\t 6.4 & 3.1 & 5.5 & 1.8 & virginica\\\\\n",
       "\t 6.0 & 3.0 & 4.8 & 1.8 & virginica\\\\\n",
       "\t 6.9 & 3.1 & 5.4 & 2.1 & virginica\\\\\n",
       "\t 6.7 & 3.1 & 5.6 & 2.4 & virginica\\\\\n",
       "\t 6.9 & 3.1 & 5.1 & 2.3 & virginica\\\\\n",
       "\t 5.8 & 2.7 & 5.1 & 1.9 & virginica\\\\\n",
       "\t 6.8 & 3.2 & 5.9 & 2.3 & virginica\\\\\n",
       "\t 6.7 & 3.3 & 5.7 & 2.5 & virginica\\\\\n",
       "\t 6.7 & 3.0 & 5.2 & 2.3 & virginica\\\\\n",
       "\t 6.3 & 2.5 & 5.0 & 1.9 & virginica\\\\\n",
       "\t 6.5 & 3.0 & 5.2 & 2.0 & virginica\\\\\n",
       "\t 6.2 & 3.4 & 5.4 & 2.3 & virginica\\\\\n",
       "\t 5.9 & 3.0 & 5.1 & 1.8 & virginica\\\\\n",
       "\\end{tabular}\n"
      ],
      "text/markdown": [
       "\n",
       "A data.frame: 150 × 5\n",
       "\n",
       "| Sepal.Length &lt;dbl&gt; | Sepal.Width &lt;dbl&gt; | Petal.Length &lt;dbl&gt; | Petal.Width &lt;dbl&gt; | Species &lt;fct&gt; |\n",
       "|---|---|---|---|---|\n",
       "| 5.1 | 3.5 | 1.4 | 0.2 | setosa |\n",
       "| 4.9 | 3.0 | 1.4 | 0.2 | setosa |\n",
       "| 4.7 | 3.2 | 1.3 | 0.2 | setosa |\n",
       "| 4.6 | 3.1 | 1.5 | 0.2 | setosa |\n",
       "| 5.0 | 3.6 | 1.4 | 0.2 | setosa |\n",
       "| 5.4 | 3.9 | 1.7 | 0.4 | setosa |\n",
       "| 4.6 | 3.4 | 1.4 | 0.3 | setosa |\n",
       "| 5.0 | 3.4 | 1.5 | 0.2 | setosa |\n",
       "| 4.4 | 2.9 | 1.4 | 0.2 | setosa |\n",
       "| 4.9 | 3.1 | 1.5 | 0.1 | setosa |\n",
       "| 5.4 | 3.7 | 1.5 | 0.2 | setosa |\n",
       "| 4.8 | 3.4 | 1.6 | 0.2 | setosa |\n",
       "| 4.8 | 3.0 | 1.4 | 0.1 | setosa |\n",
       "| 4.3 | 3.0 | 1.1 | 0.1 | setosa |\n",
       "| 5.8 | 4.0 | 1.2 | 0.2 | setosa |\n",
       "| 5.7 | 4.4 | 1.5 | 0.4 | setosa |\n",
       "| 5.4 | 3.9 | 1.3 | 0.4 | setosa |\n",
       "| 5.1 | 3.5 | 1.4 | 0.3 | setosa |\n",
       "| 5.7 | 3.8 | 1.7 | 0.3 | setosa |\n",
       "| 5.1 | 3.8 | 1.5 | 0.3 | setosa |\n",
       "| 5.4 | 3.4 | 1.7 | 0.2 | setosa |\n",
       "| 5.1 | 3.7 | 1.5 | 0.4 | setosa |\n",
       "| 4.6 | 3.6 | 1.0 | 0.2 | setosa |\n",
       "| 5.1 | 3.3 | 1.7 | 0.5 | setosa |\n",
       "| 4.8 | 3.4 | 1.9 | 0.2 | setosa |\n",
       "| 5.0 | 3.0 | 1.6 | 0.2 | setosa |\n",
       "| 5.0 | 3.4 | 1.6 | 0.4 | setosa |\n",
       "| 5.2 | 3.5 | 1.5 | 0.2 | setosa |\n",
       "| 5.2 | 3.4 | 1.4 | 0.2 | setosa |\n",
       "| 4.7 | 3.2 | 1.6 | 0.2 | setosa |\n",
       "| ... | ... | ... | ... | ... |\n",
       "| 6.9 | 3.2 | 5.7 | 2.3 | virginica |\n",
       "| 5.6 | 2.8 | 4.9 | 2.0 | virginica |\n",
       "| 7.7 | 2.8 | 6.7 | 2.0 | virginica |\n",
       "| 6.3 | 2.7 | 4.9 | 1.8 | virginica |\n",
       "| 6.7 | 3.3 | 5.7 | 2.1 | virginica |\n",
       "| 7.2 | 3.2 | 6.0 | 1.8 | virginica |\n",
       "| 6.2 | 2.8 | 4.8 | 1.8 | virginica |\n",
       "| 6.1 | 3.0 | 4.9 | 1.8 | virginica |\n",
       "| 6.4 | 2.8 | 5.6 | 2.1 | virginica |\n",
       "| 7.2 | 3.0 | 5.8 | 1.6 | virginica |\n",
       "| 7.4 | 2.8 | 6.1 | 1.9 | virginica |\n",
       "| 7.9 | 3.8 | 6.4 | 2.0 | virginica |\n",
       "| 6.4 | 2.8 | 5.6 | 2.2 | virginica |\n",
       "| 6.3 | 2.8 | 5.1 | 1.5 | virginica |\n",
       "| 6.1 | 2.6 | 5.6 | 1.4 | virginica |\n",
       "| 7.7 | 3.0 | 6.1 | 2.3 | virginica |\n",
       "| 6.3 | 3.4 | 5.6 | 2.4 | virginica |\n",
       "| 6.4 | 3.1 | 5.5 | 1.8 | virginica |\n",
       "| 6.0 | 3.0 | 4.8 | 1.8 | virginica |\n",
       "| 6.9 | 3.1 | 5.4 | 2.1 | virginica |\n",
       "| 6.7 | 3.1 | 5.6 | 2.4 | virginica |\n",
       "| 6.9 | 3.1 | 5.1 | 2.3 | virginica |\n",
       "| 5.8 | 2.7 | 5.1 | 1.9 | virginica |\n",
       "| 6.8 | 3.2 | 5.9 | 2.3 | virginica |\n",
       "| 6.7 | 3.3 | 5.7 | 2.5 | virginica |\n",
       "| 6.7 | 3.0 | 5.2 | 2.3 | virginica |\n",
       "| 6.3 | 2.5 | 5.0 | 1.9 | virginica |\n",
       "| 6.5 | 3.0 | 5.2 | 2.0 | virginica |\n",
       "| 6.2 | 3.4 | 5.4 | 2.3 | virginica |\n",
       "| 5.9 | 3.0 | 5.1 | 1.8 | virginica |\n",
       "\n"
      ],
      "text/plain": [
       "    Sepal.Length Sepal.Width Petal.Length Petal.Width Species  \n",
       "1   5.1          3.5         1.4          0.2         setosa   \n",
       "2   4.9          3.0         1.4          0.2         setosa   \n",
       "3   4.7          3.2         1.3          0.2         setosa   \n",
       "4   4.6          3.1         1.5          0.2         setosa   \n",
       "5   5.0          3.6         1.4          0.2         setosa   \n",
       "6   5.4          3.9         1.7          0.4         setosa   \n",
       "7   4.6          3.4         1.4          0.3         setosa   \n",
       "8   5.0          3.4         1.5          0.2         setosa   \n",
       "9   4.4          2.9         1.4          0.2         setosa   \n",
       "10  4.9          3.1         1.5          0.1         setosa   \n",
       "11  5.4          3.7         1.5          0.2         setosa   \n",
       "12  4.8          3.4         1.6          0.2         setosa   \n",
       "13  4.8          3.0         1.4          0.1         setosa   \n",
       "14  4.3          3.0         1.1          0.1         setosa   \n",
       "15  5.8          4.0         1.2          0.2         setosa   \n",
       "16  5.7          4.4         1.5          0.4         setosa   \n",
       "17  5.4          3.9         1.3          0.4         setosa   \n",
       "18  5.1          3.5         1.4          0.3         setosa   \n",
       "19  5.7          3.8         1.7          0.3         setosa   \n",
       "20  5.1          3.8         1.5          0.3         setosa   \n",
       "21  5.4          3.4         1.7          0.2         setosa   \n",
       "22  5.1          3.7         1.5          0.4         setosa   \n",
       "23  4.6          3.6         1.0          0.2         setosa   \n",
       "24  5.1          3.3         1.7          0.5         setosa   \n",
       "25  4.8          3.4         1.9          0.2         setosa   \n",
       "26  5.0          3.0         1.6          0.2         setosa   \n",
       "27  5.0          3.4         1.6          0.4         setosa   \n",
       "28  5.2          3.5         1.5          0.2         setosa   \n",
       "29  5.2          3.4         1.4          0.2         setosa   \n",
       "30  4.7          3.2         1.6          0.2         setosa   \n",
       "... ...          ...         ...          ...         ...      \n",
       "121 6.9          3.2         5.7          2.3         virginica\n",
       "122 5.6          2.8         4.9          2.0         virginica\n",
       "123 7.7          2.8         6.7          2.0         virginica\n",
       "124 6.3          2.7         4.9          1.8         virginica\n",
       "125 6.7          3.3         5.7          2.1         virginica\n",
       "126 7.2          3.2         6.0          1.8         virginica\n",
       "127 6.2          2.8         4.8          1.8         virginica\n",
       "128 6.1          3.0         4.9          1.8         virginica\n",
       "129 6.4          2.8         5.6          2.1         virginica\n",
       "130 7.2          3.0         5.8          1.6         virginica\n",
       "131 7.4          2.8         6.1          1.9         virginica\n",
       "132 7.9          3.8         6.4          2.0         virginica\n",
       "133 6.4          2.8         5.6          2.2         virginica\n",
       "134 6.3          2.8         5.1          1.5         virginica\n",
       "135 6.1          2.6         5.6          1.4         virginica\n",
       "136 7.7          3.0         6.1          2.3         virginica\n",
       "137 6.3          3.4         5.6          2.4         virginica\n",
       "138 6.4          3.1         5.5          1.8         virginica\n",
       "139 6.0          3.0         4.8          1.8         virginica\n",
       "140 6.9          3.1         5.4          2.1         virginica\n",
       "141 6.7          3.1         5.6          2.4         virginica\n",
       "142 6.9          3.1         5.1          2.3         virginica\n",
       "143 5.8          2.7         5.1          1.9         virginica\n",
       "144 6.8          3.2         5.9          2.3         virginica\n",
       "145 6.7          3.3         5.7          2.5         virginica\n",
       "146 6.7          3.0         5.2          2.3         virginica\n",
       "147 6.3          2.5         5.0          1.9         virginica\n",
       "148 6.5          3.0         5.2          2.0         virginica\n",
       "149 6.2          3.4         5.4          2.3         virginica\n",
       "150 5.9          3.0         5.1          1.8         virginica"
      ]
     },
     "metadata": {},
     "output_type": "display_data"
    }
   ],
   "source": [
    "iris\n"
   ]
  },
  {
   "cell_type": "code",
   "execution_count": 4,
   "id": "bbcc1696",
   "metadata": {},
   "outputs": [
    {
     "data": {
      "image/png": "[encoded data removed]",
      "text/plain": [
       "plot without title"
      ]
     },
     "metadata": {
      "image/png": {
       "height": 420,
       "width": 420
      }
     },
     "output_type": "display_data"
    }
   ],
   "source": [
    "library(ggplot2)\n",
    "ggplot(data=iris, aes(x=Sepal.Length, y=Sepal.Width, color=Species)) + geom_point(size=3)\n"
   ]
  },
  {
   "cell_type": "code",
   "execution_count": 6,
   "id": "bdebdd1d",
   "metadata": {},
   "outputs": [
    {
     "ename": "ERROR",
     "evalue": "Error in read.table(file = file, header = header, sep = sep, quote = quote, : object 'data_olympics2021_Athletes.xlsx' not found\n",
     "output_type": "error",
     "traceback": [
      "Error in read.table(file = file, header = header, sep = sep, quote = quote, : object 'data_olympics2021_Athletes.xlsx' not found\nTraceback:\n",
      "1. read.csv(data_olympics2021_Athletes.xlsx)",
      "2. read.table(file = file, header = header, sep = sep, quote = quote, \n .     dec = dec, fill = fill, comment.char = comment.char, ...)"
     ]
    }
   ],
   "source": [
    "df <- read.csv(data_olympics2021_Athletes.xlsx)"
   ]
  },
  {
   "cell_type": "code",
   "execution_count": 7,
   "id": "bc3797c2",
   "metadata": {},
   "outputs": [
    {
     "data": {
      "text/html": [
       "<pre class=language-r><code>function (x, df1, df2, ncp, log = FALSE) \n",
       "{\n",
       "<span style=white-space:pre-wrap>    if (missing(ncp)) </span>\n",
       "<span style=white-space:pre-wrap>        .Call(C_df, x, df1, df2, log)</span>\n",
       "<span style=white-space:pre-wrap>    else .Call(C_dnf, x, df1, df2, ncp, log)</span>\n",
       "}</code></pre>"
      ],
      "text/latex": [
       "\\begin{minted}{r}\n",
       "function (x, df1, df2, ncp, log = FALSE) \n",
       "\\{\n",
       "    if (missing(ncp)) \n",
       "        .Call(C\\_df, x, df1, df2, log)\n",
       "    else .Call(C\\_dnf, x, df1, df2, ncp, log)\n",
       "\\}\n",
       "\\end{minted}"
      ],
      "text/markdown": [
       "```r\n",
       "function (x, df1, df2, ncp, log = FALSE) \n",
       "{\n",
       "    if (missing(ncp)) \n",
       "        .Call(C_df, x, df1, df2, log)\n",
       "    else .Call(C_dnf, x, df1, df2, ncp, log)\n",
       "}\n",
       "```"
      ],
      "text/plain": [
       "function (x, df1, df2, ncp, log = FALSE) \n",
       "{\n",
       "    if (missing(ncp)) \n",
       "        .Call(C_df, x, df1, df2, log)\n",
       "    else .Call(C_dnf, x, df1, df2, ncp, log)\n",
       "}\n",
       "<bytecode: 0x0000000020408db8>\n",
       "<environment: namespace:stats>"
      ]
     },
     "metadata": {},
     "output_type": "display_data"
    }
   ],
   "source": [
    "df"
   ]
  },
  {
   "cell_type": "code",
   "execution_count": 8,
   "id": "42c9978c",
   "metadata": {},
   "outputs": [],
   "source": [
    "library(readxl)"
   ]
  },
  {
   "cell_type": "code",
   "execution_count": 9,
   "id": "894466b7",
   "metadata": {},
   "outputs": [],
   "source": [
    "df<- read_xlsx('data_olympics2021_Athletes.xlsx')"
   ]
  },
  {
   "cell_type": "code",
   "execution_count": 10,
   "id": "f9889e1c",
   "metadata": {
    "scrolled": true
   },
   "outputs": [
    {
     "data": {
      "text/html": [
       "<table class=\"dataframe\">\n",
       "<caption>A tibble: 11085 × 3</caption>\n",
       "<thead>\n",
       "\t<tr><th scope=col>Name</th><th scope=col>NOC</th><th scope=col>Discipline</th></tr>\n",
       "\t<tr><th scope=col>&lt;chr&gt;</th><th scope=col>&lt;chr&gt;</th><th scope=col>&lt;chr&gt;</th></tr>\n",
       "</thead>\n",
       "<tbody>\n",
       "\t<tr><td>AALERUD Katrine                    </td><td>Norway                  </td><td>Cycling Road       </td></tr>\n",
       "\t<tr><td>ABAD Nestor                        </td><td>Spain                   </td><td>Artistic Gymnastics</td></tr>\n",
       "\t<tr><td>ABAGNALE Giovanni                  </td><td>Italy                   </td><td>Rowing             </td></tr>\n",
       "\t<tr><td>ABALDE Alberto                     </td><td>Spain                   </td><td>Basketball         </td></tr>\n",
       "\t<tr><td>ABALDE Tamara                      </td><td>Spain                   </td><td>Basketball         </td></tr>\n",
       "\t<tr><td>ABALO Luc                          </td><td>France                  </td><td>Handball           </td></tr>\n",
       "\t<tr><td>ABAROA Cesar                       </td><td>Chile                   </td><td>Rowing             </td></tr>\n",
       "\t<tr><td>ABASS Abobakr                      </td><td>Sudan                   </td><td>Swimming           </td></tr>\n",
       "\t<tr><td>ABBASALI Hamideh                   </td><td>Islamic Republic of Iran</td><td>Karate             </td></tr>\n",
       "\t<tr><td>ABBASOV Islam                      </td><td>Azerbaijan              </td><td>Wrestling          </td></tr>\n",
       "\t<tr><td>ABBINGH Lois                       </td><td>Netherlands             </td><td>Handball           </td></tr>\n",
       "\t<tr><td>ABBOT Emily                        </td><td>Australia               </td><td>Rhythmic Gymnastics</td></tr>\n",
       "\t<tr><td>ABBOTT Monica                      </td><td>United States of America</td><td>Baseball/Softball  </td></tr>\n",
       "\t<tr><td>ABDALLA Abubaker Haydar            </td><td>Qatar                   </td><td>Athletics          </td></tr>\n",
       "\t<tr><td>ABDALLA Maryam                     </td><td>Egypt                   </td><td>Artistic Swimming  </td></tr>\n",
       "\t<tr><td>ABDALLAH Shahd                     </td><td>Egypt                   </td><td>Artistic Swimming  </td></tr>\n",
       "\t<tr><td>ABDALRASOOL Mohamed                </td><td>Sudan                   </td><td>Judo               </td></tr>\n",
       "\t<tr><td>ABDEL LATIF Radwa                  </td><td>Egypt                   </td><td>Shooting           </td></tr>\n",
       "\t<tr><td>ABDEL RAZEK Samy                   </td><td>Egypt                   </td><td>Shooting           </td></tr>\n",
       "\t<tr><td>ABDELAZIZ Abdalla                  </td><td>Egypt                   </td><td>Karate             </td></tr>\n",
       "\t<tr><td>ABDELAZIZ Farah                    </td><td>Egypt                   </td><td>Table Tennis       </td></tr>\n",
       "\t<tr><td>ABDELAZIZ Feryal                   </td><td>Egypt                   </td><td>Karate             </td></tr>\n",
       "\t<tr><td>ABDELMAWGOUD Mohamed               </td><td>Egypt                   </td><td>Judo               </td></tr>\n",
       "\t<tr><td>ABDELMOTTALEB Diaaeldin Kamal Gouda</td><td>Egypt                   </td><td>Wrestling          </td></tr>\n",
       "\t<tr><td>ABDELRAHMAN Ihab                   </td><td>Egypt                   </td><td>Athletics          </td></tr>\n",
       "\t<tr><td>ABDELSALAM Mohamed                 </td><td>Egypt                   </td><td>Football           </td></tr>\n",
       "\t<tr><td>ABDELSALAM Nour                    </td><td>Egypt                   </td><td>Taekwondo          </td></tr>\n",
       "\t<tr><td>ABDELWAHED Ahmed                   </td><td>Italy                   </td><td>Athletics          </td></tr>\n",
       "\t<tr><td>ABDI Bashir                        </td><td>Belgium                 </td><td>Athletics          </td></tr>\n",
       "\t<tr><td>ABDIRAHMAN Abdi                    </td><td>United States of America</td><td>Athletics          </td></tr>\n",
       "\t<tr><td>...</td><td>...</td><td>...</td></tr>\n",
       "\t<tr><td>ZILLMANN Katarzyna   </td><td>Poland                    </td><td>Rowing             </td></tr>\n",
       "\t<tr><td>ZIMBA Stephen        </td><td>Zambia                    </td><td>Boxing             </td></tr>\n",
       "\t<tr><td>ZIMMERMANN Sonja     </td><td>Germany                   </td><td>Hockey             </td></tr>\n",
       "\t<tr><td>ZIRK Kregor          </td><td>Estonia                   </td><td>Swimming           </td></tr>\n",
       "\t<tr><td>ZIUKAS Marius        </td><td>Lithuania                 </td><td>Athletics          </td></tr>\n",
       "\t<tr><td>ZMUSHKA Alina        </td><td>Belarus                   </td><td>Swimming           </td></tr>\n",
       "\t<tr><td>ZOGHLAMI Ala         </td><td>Italy                     </td><td>Athletics          </td></tr>\n",
       "\t<tr><td>ZOGHLAMI Osama       </td><td>Italy                     </td><td>Athletics          </td></tr>\n",
       "\t<tr><td>ZOHRI Lalu Muhammad  </td><td>Indonesia                 </td><td>Athletics          </td></tr>\n",
       "\t<tr><td>ZOIDZE Ramaz         </td><td>Georgia                   </td><td>Wrestling          </td></tr>\n",
       "\t<tr><td>ZOIROV Shakhobidin   </td><td>Uzbekistan                </td><td>Boxing             </td></tr>\n",
       "\t<tr><td>ZOKIROVA Nilufar     </td><td>Uzbekistan                </td><td>Canoe Sprint       </td></tr>\n",
       "\t<tr><td>ZOLOEV Vladimir      </td><td>Kyrgyzstan                </td><td>Judo               </td></tr>\n",
       "\t<tr><td>ZOLOTIC Anastasija   </td><td>United States of America  </td><td>Taekwondo          </td></tr>\n",
       "\t<tr><td>ZOMBORI Gabor        </td><td>Hungary                   </td><td>Swimming           </td></tr>\n",
       "\t<tr><td>ZONDERLAND Epke      </td><td>Netherlands               </td><td>Artistic Gymnastics</td></tr>\n",
       "\t<tr><td>ZOU Jingyuan         </td><td>People's Republic of China</td><td>Artistic Gymnastics</td></tr>\n",
       "\t<tr><td>ZSOMBOR-MURRAY Nathan</td><td>Canada                    </td><td>Diving             </td></tr>\n",
       "\t<tr><td>ZUBIMENDI Martin     </td><td>Spain                     </td><td>Football           </td></tr>\n",
       "\t<tr><td>ZUEV Alexander       </td><td>ROC                       </td><td>3x3 Basketball     </td></tr>\n",
       "\t<tr><td>ZUKHUROV Siyovush    </td><td>Tajikistan                </td><td>Boxing             </td></tr>\n",
       "\t<tr><td>ZULU Onthatile       </td><td>South Africa              </td><td>Hockey             </td></tr>\n",
       "\t<tr><td>ZVARA Ondrej         </td><td>Czech Republic            </td><td>Equestrian         </td></tr>\n",
       "\t<tr><td>ZVEREV Alexander     </td><td>Germany                   </td><td>Tennis             </td></tr>\n",
       "\t<tr><td>ZWETSLOOT Roos       </td><td>Netherlands               </td><td>Skateboarding      </td></tr>\n",
       "\t<tr><td>ZWICKER Martin Detlef</td><td>Germany                   </td><td>Hockey             </td></tr>\n",
       "\t<tr><td>ZWOLINSKA Klaudia    </td><td>Poland                    </td><td>Canoe Slalom       </td></tr>\n",
       "\t<tr><td>ZYKOVA Yulia         </td><td>ROC                       </td><td>Shooting           </td></tr>\n",
       "\t<tr><td>ZYUZINA Ekaterina    </td><td>ROC                       </td><td>Sailing            </td></tr>\n",
       "\t<tr><td>ZYZANSKA Sylwia      </td><td>Poland                    </td><td>Archery            </td></tr>\n",
       "</tbody>\n",
       "</table>\n"
      ],
      "text/latex": [
       "A tibble: 11085 × 3\n",
       "\\begin{tabular}{lll}\n",
       " Name & NOC & Discipline\\\\\n",
       " <chr> & <chr> & <chr>\\\\\n",
       "\\hline\n",
       "\t AALERUD Katrine                     & Norway                   & Cycling Road       \\\\\n",
       "\t ABAD Nestor                         & Spain                    & Artistic Gymnastics\\\\\n",
       "\t ABAGNALE Giovanni                   & Italy                    & Rowing             \\\\\n",
       "\t ABALDE Alberto                      & Spain                    & Basketball         \\\\\n",
       "\t ABALDE Tamara                       & Spain                    & Basketball         \\\\\n",
       "\t ABALO Luc                           & France                   & Handball           \\\\\n",
       "\t ABAROA Cesar                        & Chile                    & Rowing             \\\\\n",
       "\t ABASS Abobakr                       & Sudan                    & Swimming           \\\\\n",
       "\t ABBASALI Hamideh                    & Islamic Republic of Iran & Karate             \\\\\n",
       "\t ABBASOV Islam                       & Azerbaijan               & Wrestling          \\\\\n",
       "\t ABBINGH Lois                        & Netherlands              & Handball           \\\\\n",
       "\t ABBOT Emily                         & Australia                & Rhythmic Gymnastics\\\\\n",
       "\t ABBOTT Monica                       & United States of America & Baseball/Softball  \\\\\n",
       "\t ABDALLA Abubaker Haydar             & Qatar                    & Athletics          \\\\\n",
       "\t ABDALLA Maryam                      & Egypt                    & Artistic Swimming  \\\\\n",
       "\t ABDALLAH Shahd                      & Egypt                    & Artistic Swimming  \\\\\n",
       "\t ABDALRASOOL Mohamed                 & Sudan                    & Judo               \\\\\n",
       "\t ABDEL LATIF Radwa                   & Egypt                    & Shooting           \\\\\n",
       "\t ABDEL RAZEK Samy                    & Egypt                    & Shooting           \\\\\n",
       "\t ABDELAZIZ Abdalla                   & Egypt                    & Karate             \\\\\n",
       "\t ABDELAZIZ Farah                     & Egypt                    & Table Tennis       \\\\\n",
       "\t ABDELAZIZ Feryal                    & Egypt                    & Karate             \\\\\n",
       "\t ABDELMAWGOUD Mohamed                & Egypt                    & Judo               \\\\\n",
       "\t ABDELMOTTALEB Diaaeldin Kamal Gouda & Egypt                    & Wrestling          \\\\\n",
       "\t ABDELRAHMAN Ihab                    & Egypt                    & Athletics          \\\\\n",
       "\t ABDELSALAM Mohamed                  & Egypt                    & Football           \\\\\n",
       "\t ABDELSALAM Nour                     & Egypt                    & Taekwondo          \\\\\n",
       "\t ABDELWAHED Ahmed                    & Italy                    & Athletics          \\\\\n",
       "\t ABDI Bashir                         & Belgium                  & Athletics          \\\\\n",
       "\t ABDIRAHMAN Abdi                     & United States of America & Athletics          \\\\\n",
       "\t ... & ... & ...\\\\\n",
       "\t ZILLMANN Katarzyna    & Poland                     & Rowing             \\\\\n",
       "\t ZIMBA Stephen         & Zambia                     & Boxing             \\\\\n",
       "\t ZIMMERMANN Sonja      & Germany                    & Hockey             \\\\\n",
       "\t ZIRK Kregor           & Estonia                    & Swimming           \\\\\n",
       "\t ZIUKAS Marius         & Lithuania                  & Athletics          \\\\\n",
       "\t ZMUSHKA Alina         & Belarus                    & Swimming           \\\\\n",
       "\t ZOGHLAMI Ala          & Italy                      & Athletics          \\\\\n",
       "\t ZOGHLAMI Osama        & Italy                      & Athletics          \\\\\n",
       "\t ZOHRI Lalu Muhammad   & Indonesia                  & Athletics          \\\\\n",
       "\t ZOIDZE Ramaz          & Georgia                    & Wrestling          \\\\\n",
       "\t ZOIROV Shakhobidin    & Uzbekistan                 & Boxing             \\\\\n",
       "\t ZOKIROVA Nilufar      & Uzbekistan                 & Canoe Sprint       \\\\\n",
       "\t ZOLOEV Vladimir       & Kyrgyzstan                 & Judo               \\\\\n",
       "\t ZOLOTIC Anastasija    & United States of America   & Taekwondo          \\\\\n",
       "\t ZOMBORI Gabor         & Hungary                    & Swimming           \\\\\n",
       "\t ZONDERLAND Epke       & Netherlands                & Artistic Gymnastics\\\\\n",
       "\t ZOU Jingyuan          & People's Republic of China & Artistic Gymnastics\\\\\n",
       "\t ZSOMBOR-MURRAY Nathan & Canada                     & Diving             \\\\\n",
       "\t ZUBIMENDI Martin      & Spain                      & Football           \\\\\n",
       "\t ZUEV Alexander        & ROC                        & 3x3 Basketball     \\\\\n",
       "\t ZUKHUROV Siyovush     & Tajikistan                 & Boxing             \\\\\n",
       "\t ZULU Onthatile        & South Africa               & Hockey             \\\\\n",
       "\t ZVARA Ondrej          & Czech Republic             & Equestrian         \\\\\n",
       "\t ZVEREV Alexander      & Germany                    & Tennis             \\\\\n",
       "\t ZWETSLOOT Roos        & Netherlands                & Skateboarding      \\\\\n",
       "\t ZWICKER Martin Detlef & Germany                    & Hockey             \\\\\n",
       "\t ZWOLINSKA Klaudia     & Poland                     & Canoe Slalom       \\\\\n",
       "\t ZYKOVA Yulia          & ROC                        & Shooting           \\\\\n",
       "\t ZYUZINA Ekaterina     & ROC                        & Sailing            \\\\\n",
       "\t ZYZANSKA Sylwia       & Poland                     & Archery            \\\\\n",
       "\\end{tabular}\n"
      ],
      "text/markdown": [
       "\n",
       "A tibble: 11085 × 3\n",
       "\n",
       "| Name &lt;chr&gt; | NOC &lt;chr&gt; | Discipline &lt;chr&gt; |\n",
       "|---|---|---|\n",
       "| AALERUD Katrine                     | Norway                   | Cycling Road        |\n",
       "| ABAD Nestor                         | Spain                    | Artistic Gymnastics |\n",
       "| ABAGNALE Giovanni                   | Italy                    | Rowing              |\n",
       "| ABALDE Alberto                      | Spain                    | Basketball          |\n",
       "| ABALDE Tamara                       | Spain                    | Basketball          |\n",
       "| ABALO Luc                           | France                   | Handball            |\n",
       "| ABAROA Cesar                        | Chile                    | Rowing              |\n",
       "| ABASS Abobakr                       | Sudan                    | Swimming            |\n",
       "| ABBASALI Hamideh                    | Islamic Republic of Iran | Karate              |\n",
       "| ABBASOV Islam                       | Azerbaijan               | Wrestling           |\n",
       "| ABBINGH Lois                        | Netherlands              | Handball            |\n",
       "| ABBOT Emily                         | Australia                | Rhythmic Gymnastics |\n",
       "| ABBOTT Monica                       | United States of America | Baseball/Softball   |\n",
       "| ABDALLA Abubaker Haydar             | Qatar                    | Athletics           |\n",
       "| ABDALLA Maryam                      | Egypt                    | Artistic Swimming   |\n",
       "| ABDALLAH Shahd                      | Egypt                    | Artistic Swimming   |\n",
       "| ABDALRASOOL Mohamed                 | Sudan                    | Judo                |\n",
       "| ABDEL LATIF Radwa                   | Egypt                    | Shooting            |\n",
       "| ABDEL RAZEK Samy                    | Egypt                    | Shooting            |\n",
       "| ABDELAZIZ Abdalla                   | Egypt                    | Karate              |\n",
       "| ABDELAZIZ Farah                     | Egypt                    | Table Tennis        |\n",
       "| ABDELAZIZ Feryal                    | Egypt                    | Karate              |\n",
       "| ABDELMAWGOUD Mohamed                | Egypt                    | Judo                |\n",
       "| ABDELMOTTALEB Diaaeldin Kamal Gouda | Egypt                    | Wrestling           |\n",
       "| ABDELRAHMAN Ihab                    | Egypt                    | Athletics           |\n",
       "| ABDELSALAM Mohamed                  | Egypt                    | Football            |\n",
       "| ABDELSALAM Nour                     | Egypt                    | Taekwondo           |\n",
       "| ABDELWAHED Ahmed                    | Italy                    | Athletics           |\n",
       "| ABDI Bashir                         | Belgium                  | Athletics           |\n",
       "| ABDIRAHMAN Abdi                     | United States of America | Athletics           |\n",
       "| ... | ... | ... |\n",
       "| ZILLMANN Katarzyna    | Poland                     | Rowing              |\n",
       "| ZIMBA Stephen         | Zambia                     | Boxing              |\n",
       "| ZIMMERMANN Sonja      | Germany                    | Hockey              |\n",
       "| ZIRK Kregor           | Estonia                    | Swimming            |\n",
       "| ZIUKAS Marius         | Lithuania                  | Athletics           |\n",
       "| ZMUSHKA Alina         | Belarus                    | Swimming            |\n",
       "| ZOGHLAMI Ala          | Italy                      | Athletics           |\n",
       "| ZOGHLAMI Osama        | Italy                      | Athletics           |\n",
       "| ZOHRI Lalu Muhammad   | Indonesia                  | Athletics           |\n",
       "| ZOIDZE Ramaz          | Georgia                    | Wrestling           |\n",
       "| ZOIROV Shakhobidin    | Uzbekistan                 | Boxing              |\n",
       "| ZOKIROVA Nilufar      | Uzbekistan                 | Canoe Sprint        |\n",
       "| ZOLOEV Vladimir       | Kyrgyzstan                 | Judo                |\n",
       "| ZOLOTIC Anastasija    | United States of America   | Taekwondo           |\n",
       "| ZOMBORI Gabor         | Hungary                    | Swimming            |\n",
       "| ZONDERLAND Epke       | Netherlands                | Artistic Gymnastics |\n",
       "| ZOU Jingyuan          | People's Republic of China | Artistic Gymnastics |\n",
       "| ZSOMBOR-MURRAY Nathan | Canada                     | Diving              |\n",
       "| ZUBIMENDI Martin      | Spain                      | Football            |\n",
       "| ZUEV Alexander        | ROC                        | 3x3 Basketball      |\n",
       "| ZUKHUROV Siyovush     | Tajikistan                 | Boxing              |\n",
       "| ZULU Onthatile        | South Africa               | Hockey              |\n",
       "| ZVARA Ondrej          | Czech Republic             | Equestrian          |\n",
       "| ZVEREV Alexander      | Germany                    | Tennis              |\n",
       "| ZWETSLOOT Roos        | Netherlands                | Skateboarding       |\n",
       "| ZWICKER Martin Detlef | Germany                    | Hockey              |\n",
       "| ZWOLINSKA Klaudia     | Poland                     | Canoe Slalom        |\n",
       "| ZYKOVA Yulia          | ROC                        | Shooting            |\n",
       "| ZYUZINA Ekaterina     | ROC                        | Sailing             |\n",
       "| ZYZANSKA Sylwia       | Poland                     | Archery             |\n",
       "\n"
      ],
      "text/plain": [
       "      Name                                NOC                       \n",
       "1     AALERUD Katrine                     Norway                    \n",
       "2     ABAD Nestor                         Spain                     \n",
       "3     ABAGNALE Giovanni                   Italy                     \n",
       "4     ABALDE Alberto                      Spain                     \n",
       "5     ABALDE Tamara                       Spain                     \n",
       "6     ABALO Luc                           France                    \n",
       "7     ABAROA Cesar                        Chile                     \n",
       "8     ABASS Abobakr                       Sudan                     \n",
       "9     ABBASALI Hamideh                    Islamic Republic of Iran  \n",
       "10    ABBASOV Islam                       Azerbaijan                \n",
       "11    ABBINGH Lois                        Netherlands               \n",
       "12    ABBOT Emily                         Australia                 \n",
       "13    ABBOTT Monica                       United States of America  \n",
       "14    ABDALLA Abubaker Haydar             Qatar                     \n",
       "15    ABDALLA Maryam                      Egypt                     \n",
       "16    ABDALLAH Shahd                      Egypt                     \n",
       "17    ABDALRASOOL Mohamed                 Sudan                     \n",
       "18    ABDEL LATIF Radwa                   Egypt                     \n",
       "19    ABDEL RAZEK Samy                    Egypt                     \n",
       "20    ABDELAZIZ Abdalla                   Egypt                     \n",
       "21    ABDELAZIZ Farah                     Egypt                     \n",
       "22    ABDELAZIZ Feryal                    Egypt                     \n",
       "23    ABDELMAWGOUD Mohamed                Egypt                     \n",
       "24    ABDELMOTTALEB Diaaeldin Kamal Gouda Egypt                     \n",
       "25    ABDELRAHMAN Ihab                    Egypt                     \n",
       "26    ABDELSALAM Mohamed                  Egypt                     \n",
       "27    ABDELSALAM Nour                     Egypt                     \n",
       "28    ABDELWAHED Ahmed                    Italy                     \n",
       "29    ABDI Bashir                         Belgium                   \n",
       "30    ABDIRAHMAN Abdi                     United States of America  \n",
       "...   ...                                 ...                       \n",
       "11056 ZILLMANN Katarzyna                  Poland                    \n",
       "11057 ZIMBA Stephen                       Zambia                    \n",
       "11058 ZIMMERMANN Sonja                    Germany                   \n",
       "11059 ZIRK Kregor                         Estonia                   \n",
       "11060 ZIUKAS Marius                       Lithuania                 \n",
       "11061 ZMUSHKA Alina                       Belarus                   \n",
       "11062 ZOGHLAMI Ala                        Italy                     \n",
       "11063 ZOGHLAMI Osama                      Italy                     \n",
       "11064 ZOHRI Lalu Muhammad                 Indonesia                 \n",
       "11065 ZOIDZE Ramaz                        Georgia                   \n",
       "11066 ZOIROV Shakhobidin                  Uzbekistan                \n",
       "11067 ZOKIROVA Nilufar                    Uzbekistan                \n",
       "11068 ZOLOEV Vladimir                     Kyrgyzstan                \n",
       "11069 ZOLOTIC Anastasija                  United States of America  \n",
       "11070 ZOMBORI Gabor                       Hungary                   \n",
       "11071 ZONDERLAND Epke                     Netherlands               \n",
       "11072 ZOU Jingyuan                        People's Republic of China\n",
       "11073 ZSOMBOR-MURRAY Nathan               Canada                    \n",
       "11074 ZUBIMENDI Martin                    Spain                     \n",
       "11075 ZUEV Alexander                      ROC                       \n",
       "11076 ZUKHUROV Siyovush                   Tajikistan                \n",
       "11077 ZULU Onthatile                      South Africa              \n",
       "11078 ZVARA Ondrej                        Czech Republic            \n",
       "11079 ZVEREV Alexander                    Germany                   \n",
       "11080 ZWETSLOOT Roos                      Netherlands               \n",
       "11081 ZWICKER Martin Detlef               Germany                   \n",
       "11082 ZWOLINSKA Klaudia                   Poland                    \n",
       "11083 ZYKOVA Yulia                        ROC                       \n",
       "11084 ZYUZINA Ekaterina                   ROC                       \n",
       "11085 ZYZANSKA Sylwia                     Poland                    \n",
       "      Discipline         \n",
       "1     Cycling Road       \n",
       "2     Artistic Gymnastics\n",
       "3     Rowing             \n",
       "4     Basketball         \n",
       "5     Basketball         \n",
       "6     Handball           \n",
       "7     Rowing             \n",
       "8     Swimming           \n",
       "9     Karate             \n",
       "10    Wrestling          \n",
       "11    Handball           \n",
       "12    Rhythmic Gymnastics\n",
       "13    Baseball/Softball  \n",
       "14    Athletics          \n",
       "15    Artistic Swimming  \n",
       "16    Artistic Swimming  \n",
       "17    Judo               \n",
       "18    Shooting           \n",
       "19    Shooting           \n",
       "20    Karate             \n",
       "21    Table Tennis       \n",
       "22    Karate             \n",
       "23    Judo               \n",
       "24    Wrestling          \n",
       "25    Athletics          \n",
       "26    Football           \n",
       "27    Taekwondo          \n",
       "28    Athletics          \n",
       "29    Athletics          \n",
       "30    Athletics          \n",
       "...   ...                \n",
       "11056 Rowing             \n",
       "11057 Boxing             \n",
       "11058 Hockey             \n",
       "11059 Swimming           \n",
       "11060 Athletics          \n",
       "11061 Swimming           \n",
       "11062 Athletics          \n",
       "11063 Athletics          \n",
       "11064 Athletics          \n",
       "11065 Wrestling          \n",
       "11066 Boxing             \n",
       "11067 Canoe Sprint       \n",
       "11068 Judo               \n",
       "11069 Taekwondo          \n",
       "11070 Swimming           \n",
       "11071 Artistic Gymnastics\n",
       "11072 Artistic Gymnastics\n",
       "11073 Diving             \n",
       "11074 Football           \n",
       "11075 3x3 Basketball     \n",
       "11076 Boxing             \n",
       "11077 Hockey             \n",
       "11078 Equestrian         \n",
       "11079 Tennis             \n",
       "11080 Skateboarding      \n",
       "11081 Hockey             \n",
       "11082 Canoe Slalom       \n",
       "11083 Shooting           \n",
       "11084 Sailing            \n",
       "11085 Archery            "
      ]
     },
     "metadata": {},
     "output_type": "display_data"
    }
   ],
   "source": [
    "df"
   ]
  },
  {
   "cell_type": "code",
   "execution_count": 11,
   "id": "da6fd5d6",
   "metadata": {},
   "outputs": [
    {
     "name": "stdout",
     "output_type": "stream",
     "text": [
      "[1] \"x1\"\n"
     ]
    }
   ],
   "source": [
    "x1 <- 10\n",
    "print('x1')"
   ]
  },
  {
   "cell_type": "code",
   "execution_count": 12,
   "id": "faa190f1",
   "metadata": {},
   "outputs": [
    {
     "data": {
      "text/html": [
       "<style>\n",
       ".list-inline {list-style: none; margin:0; padding: 0}\n",
       ".list-inline>li {display: inline-block}\n",
       ".list-inline>li:not(:last-child)::after {content: \"\\00b7\"; padding: 0 .5ex}\n",
       "</style>\n",
       "<ol class=list-inline><li>4</li><li>5</li><li>6</li><li>7</li></ol>\n"
      ],
      "text/latex": [
       "\\begin{enumerate*}\n",
       "\\item 4\n",
       "\\item 5\n",
       "\\item 6\n",
       "\\item 7\n",
       "\\end{enumerate*}\n"
      ],
      "text/markdown": [
       "1. 4\n",
       "2. 5\n",
       "3. 6\n",
       "4. 7\n",
       "\n",
       "\n"
      ],
      "text/plain": [
       "[1] 4 5 6 7"
      ]
     },
     "metadata": {},
     "output_type": "display_data"
    }
   ],
   "source": [
    "x2  <- c(4, 5, 6, 7)\n",
    "x2"
   ]
  },
  {
   "cell_type": "code",
   "execution_count": 14,
   "id": "86f59d94",
   "metadata": {},
   "outputs": [
    {
     "data": {
      "text/html": [
       "<table class=\"dataframe\">\n",
       "<caption>A tibble: 5 × 3</caption>\n",
       "<thead>\n",
       "\t<tr><th scope=col>Name</th><th scope=col>NOC</th><th scope=col>Discipline</th></tr>\n",
       "\t<tr><th scope=col>&lt;chr&gt;</th><th scope=col>&lt;chr&gt;</th><th scope=col>&lt;chr&gt;</th></tr>\n",
       "</thead>\n",
       "<tbody>\n",
       "\t<tr><td>AALERUD Katrine  </td><td>Norway</td><td>Cycling Road       </td></tr>\n",
       "\t<tr><td>ABAD Nestor      </td><td>Spain </td><td>Artistic Gymnastics</td></tr>\n",
       "\t<tr><td>ABAGNALE Giovanni</td><td>Italy </td><td>Rowing             </td></tr>\n",
       "\t<tr><td>ABALDE Alberto   </td><td>Spain </td><td>Basketball         </td></tr>\n",
       "\t<tr><td>ABALDE Tamara    </td><td>Spain </td><td>Basketball         </td></tr>\n",
       "</tbody>\n",
       "</table>\n"
      ],
      "text/latex": [
       "A tibble: 5 × 3\n",
       "\\begin{tabular}{lll}\n",
       " Name & NOC & Discipline\\\\\n",
       " <chr> & <chr> & <chr>\\\\\n",
       "\\hline\n",
       "\t AALERUD Katrine   & Norway & Cycling Road       \\\\\n",
       "\t ABAD Nestor       & Spain  & Artistic Gymnastics\\\\\n",
       "\t ABAGNALE Giovanni & Italy  & Rowing             \\\\\n",
       "\t ABALDE Alberto    & Spain  & Basketball         \\\\\n",
       "\t ABALDE Tamara     & Spain  & Basketball         \\\\\n",
       "\\end{tabular}\n"
      ],
      "text/markdown": [
       "\n",
       "A tibble: 5 × 3\n",
       "\n",
       "| Name &lt;chr&gt; | NOC &lt;chr&gt; | Discipline &lt;chr&gt; |\n",
       "|---|---|---|\n",
       "| AALERUD Katrine   | Norway | Cycling Road        |\n",
       "| ABAD Nestor       | Spain  | Artistic Gymnastics |\n",
       "| ABAGNALE Giovanni | Italy  | Rowing              |\n",
       "| ABALDE Alberto    | Spain  | Basketball          |\n",
       "| ABALDE Tamara     | Spain  | Basketball          |\n",
       "\n"
      ],
      "text/plain": [
       "  Name              NOC    Discipline         \n",
       "1 AALERUD Katrine   Norway Cycling Road       \n",
       "2 ABAD Nestor       Spain  Artistic Gymnastics\n",
       "3 ABAGNALE Giovanni Italy  Rowing             \n",
       "4 ABALDE Alberto    Spain  Basketball         \n",
       "5 ABALDE Tamara     Spain  Basketball         "
      ]
     },
     "metadata": {},
     "output_type": "display_data"
    }
   ],
   "source": [
    "head(df,5)"
   ]
  },
  {
   "cell_type": "code",
   "execution_count": 15,
   "id": "508a13a7",
   "metadata": {},
   "outputs": [
    {
     "data": {
      "text/html": [
       "<table class=\"dataframe\">\n",
       "<caption>A tibble: 5 × 3</caption>\n",
       "<thead>\n",
       "\t<tr><th scope=col>Name</th><th scope=col>NOC</th><th scope=col>Discipline</th></tr>\n",
       "\t<tr><th scope=col>&lt;chr&gt;</th><th scope=col>&lt;chr&gt;</th><th scope=col>&lt;chr&gt;</th></tr>\n",
       "</thead>\n",
       "<tbody>\n",
       "\t<tr><td>ZWICKER Martin Detlef</td><td>Germany</td><td>Hockey      </td></tr>\n",
       "\t<tr><td>ZWOLINSKA Klaudia    </td><td>Poland </td><td>Canoe Slalom</td></tr>\n",
       "\t<tr><td>ZYKOVA Yulia         </td><td>ROC    </td><td>Shooting    </td></tr>\n",
       "\t<tr><td>ZYUZINA Ekaterina    </td><td>ROC    </td><td>Sailing     </td></tr>\n",
       "\t<tr><td>ZYZANSKA Sylwia      </td><td>Poland </td><td>Archery     </td></tr>\n",
       "</tbody>\n",
       "</table>\n"
      ],
      "text/latex": [
       "A tibble: 5 × 3\n",
       "\\begin{tabular}{lll}\n",
       " Name & NOC & Discipline\\\\\n",
       " <chr> & <chr> & <chr>\\\\\n",
       "\\hline\n",
       "\t ZWICKER Martin Detlef & Germany & Hockey      \\\\\n",
       "\t ZWOLINSKA Klaudia     & Poland  & Canoe Slalom\\\\\n",
       "\t ZYKOVA Yulia          & ROC     & Shooting    \\\\\n",
       "\t ZYUZINA Ekaterina     & ROC     & Sailing     \\\\\n",
       "\t ZYZANSKA Sylwia       & Poland  & Archery     \\\\\n",
       "\\end{tabular}\n"
      ],
      "text/markdown": [
       "\n",
       "A tibble: 5 × 3\n",
       "\n",
       "| Name &lt;chr&gt; | NOC &lt;chr&gt; | Discipline &lt;chr&gt; |\n",
       "|---|---|---|\n",
       "| ZWICKER Martin Detlef | Germany | Hockey       |\n",
       "| ZWOLINSKA Klaudia     | Poland  | Canoe Slalom |\n",
       "| ZYKOVA Yulia          | ROC     | Shooting     |\n",
       "| ZYUZINA Ekaterina     | ROC     | Sailing      |\n",
       "| ZYZANSKA Sylwia       | Poland  | Archery      |\n",
       "\n"
      ],
      "text/plain": [
       "  Name                  NOC     Discipline  \n",
       "1 ZWICKER Martin Detlef Germany Hockey      \n",
       "2 ZWOLINSKA Klaudia     Poland  Canoe Slalom\n",
       "3 ZYKOVA Yulia          ROC     Shooting    \n",
       "4 ZYUZINA Ekaterina     ROC     Sailing     \n",
       "5 ZYZANSKA Sylwia       Poland  Archery     "
      ]
     },
     "metadata": {},
     "output_type": "display_data"
    }
   ],
   "source": [
    "tail(df,5)"
   ]
  },
  {
   "cell_type": "code",
   "execution_count": 16,
   "id": "e14048a7",
   "metadata": {},
   "outputs": [
    {
     "data": {
      "text/html": [
       "<style>\n",
       ".list-inline {list-style: none; margin:0; padding: 0}\n",
       ".list-inline>li {display: inline-block}\n",
       ".list-inline>li:not(:last-child)::after {content: \"\\00b7\"; padding: 0 .5ex}\n",
       "</style>\n",
       "<ol class=list-inline><li>1</li><li>2</li><li>3</li><li>4</li><li>5</li><li>6</li><li>7</li><li>8</li><li>9</li><li>10</li></ol>\n"
      ],
      "text/latex": [
       "\\begin{enumerate*}\n",
       "\\item 1\n",
       "\\item 2\n",
       "\\item 3\n",
       "\\item 4\n",
       "\\item 5\n",
       "\\item 6\n",
       "\\item 7\n",
       "\\item 8\n",
       "\\item 9\n",
       "\\item 10\n",
       "\\end{enumerate*}\n"
      ],
      "text/markdown": [
       "1. 1\n",
       "2. 2\n",
       "3. 3\n",
       "4. 4\n",
       "5. 5\n",
       "6. 6\n",
       "7. 7\n",
       "8. 8\n",
       "9. 9\n",
       "10. 10\n",
       "\n",
       "\n"
      ],
      "text/plain": [
       " [1]  1  2  3  4  5  6  7  8  9 10"
      ]
     },
     "metadata": {},
     "output_type": "display_data"
    }
   ],
   "source": [
    "1:10"
   ]
  },
  {
   "cell_type": "markdown",
   "id": "6b102121",
   "metadata": {},
   "source": [
    "## Example 2 Arithmetic Operators"
   ]
  },
  {
   "cell_type": "code",
   "execution_count": 17,
   "id": "a1e3f247",
   "metadata": {},
   "outputs": [
    {
     "data": {
      "text/html": [
       "35"
      ],
      "text/latex": [
       "35"
      ],
      "text/markdown": [
       "35"
      ],
      "text/plain": [
       "[1] 35"
      ]
     },
     "metadata": {},
     "output_type": "display_data"
    }
   ],
   "source": [
    "x  <- 20\n",
    "y  <- 15\n",
    "\n",
    "x+y"
   ]
  },
  {
   "cell_type": "code",
   "execution_count": 18,
   "id": "690e5da9",
   "metadata": {},
   "outputs": [
    {
     "data": {
      "text/html": [
       "370"
      ],
      "text/latex": [
       "370"
      ],
      "text/markdown": [
       "370"
      ],
      "text/plain": [
       "[1] 370"
      ]
     },
     "metadata": {},
     "output_type": "display_data"
    }
   ],
   "source": [
    "x^2 -2*y"
   ]
  },
  {
   "cell_type": "code",
   "execution_count": 19,
   "id": "8de8e9b8",
   "metadata": {},
   "outputs": [
    {
     "data": {
      "text/html": [
       "0.75"
      ],
      "text/latex": [
       "0.75"
      ],
      "text/markdown": [
       "0.75"
      ],
      "text/plain": [
       "[1] 0.75"
      ]
     },
     "metadata": {},
     "output_type": "display_data"
    }
   ],
   "source": [
    "y/x"
   ]
  },
  {
   "cell_type": "code",
   "execution_count": 20,
   "id": "6d6a2872",
   "metadata": {},
   "outputs": [
    {
     "data": {
      "text/html": [
       "FALSE"
      ],
      "text/latex": [
       "FALSE"
      ],
      "text/markdown": [
       "FALSE"
      ],
      "text/plain": [
       "[1] FALSE"
      ]
     },
     "metadata": {},
     "output_type": "display_data"
    }
   ],
   "source": [
    "x <- 20; y <- 15\n",
    "x < y"
   ]
  },
  {
   "cell_type": "code",
   "execution_count": 21,
   "id": "cc6f78f8",
   "metadata": {},
   "outputs": [
    {
     "data": {
      "text/html": [
       "FALSE"
      ],
      "text/latex": [
       "FALSE"
      ],
      "text/markdown": [
       "FALSE"
      ],
      "text/plain": [
       "[1] FALSE"
      ]
     },
     "metadata": {},
     "output_type": "display_data"
    }
   ],
   "source": [
    "x < y"
   ]
  },
  {
   "cell_type": "code",
   "execution_count": 22,
   "id": "9266646a",
   "metadata": {},
   "outputs": [
    {
     "data": {
      "text/html": [
       "TRUE"
      ],
      "text/latex": [
       "TRUE"
      ],
      "text/markdown": [
       "TRUE"
      ],
      "text/plain": [
       "[1] TRUE"
      ]
     },
     "metadata": {},
     "output_type": "display_data"
    }
   ],
   "source": [
    " x > y"
   ]
  },
  {
   "cell_type": "code",
   "execution_count": 24,
   "id": "d8ce9720",
   "metadata": {},
   "outputs": [
    {
     "data": {
      "text/html": [
       "TRUE"
      ],
      "text/latex": [
       "TRUE"
      ],
      "text/markdown": [
       "TRUE"
      ],
      "text/plain": [
       "[1] TRUE"
      ]
     },
     "metadata": {},
     "output_type": "display_data"
    },
    {
     "data": {
      "text/html": [
       "FALSE"
      ],
      "text/latex": [
       "FALSE"
      ],
      "text/markdown": [
       "FALSE"
      ],
      "text/plain": [
       "[1] FALSE"
      ]
     },
     "metadata": {},
     "output_type": "display_data"
    },
    {
     "data": {
      "text/html": [
       "TRUE"
      ],
      "text/latex": [
       "TRUE"
      ],
      "text/markdown": [
       "TRUE"
      ],
      "text/plain": [
       "[1] TRUE"
      ]
     },
     "metadata": {},
     "output_type": "display_data"
    }
   ],
   "source": [
    "x <= 50\n",
    "y >= 20\n",
    "y != 10"
   ]
  },
  {
   "cell_type": "code",
   "execution_count": 25,
   "id": "812bf30f",
   "metadata": {},
   "outputs": [
    {
     "data": {
      "text/html": [
       "<style>\n",
       ".list-inline {list-style: none; margin:0; padding: 0}\n",
       ".list-inline>li {display: inline-block}\n",
       ".list-inline>li:not(:last-child)::after {content: \"\\00b7\"; padding: 0 .5ex}\n",
       "</style>\n",
       "<ol class=list-inline><li>1</li><li>0</li><li>0</li><li>6</li><li>100</li></ol>\n"
      ],
      "text/latex": [
       "\\begin{enumerate*}\n",
       "\\item 1\n",
       "\\item 0\n",
       "\\item 0\n",
       "\\item 6\n",
       "\\item 100\n",
       "\\end{enumerate*}\n"
      ],
      "text/markdown": [
       "1. 1\n",
       "2. 0\n",
       "3. 0\n",
       "4. 6\n",
       "5. 100\n",
       "\n",
       "\n"
      ],
      "text/plain": [
       "[1]   1   0   0   6 100"
      ]
     },
     "metadata": {},
     "output_type": "display_data"
    },
    {
     "data": {
      "text/html": [
       "<style>\n",
       ".list-inline {list-style: none; margin:0; padding: 0}\n",
       ".list-inline>li {display: inline-block}\n",
       ".list-inline>li:not(:last-child)::after {content: \"\\00b7\"; padding: 0 .5ex}\n",
       "</style>\n",
       "<ol class=list-inline><li>FALSE</li><li>TRUE</li><li>FALSE</li><li>TRUE</li></ol>\n"
      ],
      "text/latex": [
       "\\begin{enumerate*}\n",
       "\\item FALSE\n",
       "\\item TRUE\n",
       "\\item FALSE\n",
       "\\item TRUE\n",
       "\\end{enumerate*}\n"
      ],
      "text/markdown": [
       "1. FALSE\n",
       "2. TRUE\n",
       "3. FALSE\n",
       "4. TRUE\n",
       "\n",
       "\n"
      ],
      "text/plain": [
       "[1] FALSE  TRUE FALSE  TRUE"
      ]
     },
     "metadata": {},
     "output_type": "display_data"
    },
    {
     "data": {
      "text/html": [
       "<style>\n",
       ".list-inline {list-style: none; margin:0; padding: 0}\n",
       ".list-inline>li {display: inline-block}\n",
       ".list-inline>li:not(:last-child)::after {content: \"\\00b7\"; padding: 0 .5ex}\n",
       "</style>\n",
       "<ol class=list-inline><li>FALSE</li><li>TRUE</li><li>TRUE</li><li>FALSE</li><li>FALSE</li></ol>\n"
      ],
      "text/latex": [
       "\\begin{enumerate*}\n",
       "\\item FALSE\n",
       "\\item TRUE\n",
       "\\item TRUE\n",
       "\\item FALSE\n",
       "\\item FALSE\n",
       "\\end{enumerate*}\n"
      ],
      "text/markdown": [
       "1. FALSE\n",
       "2. TRUE\n",
       "3. TRUE\n",
       "4. FALSE\n",
       "5. FALSE\n",
       "\n",
       "\n"
      ],
      "text/plain": [
       "[1] FALSE  TRUE  TRUE FALSE FALSE"
      ]
     },
     "metadata": {},
     "output_type": "display_data"
    },
    {
     "name": "stderr",
     "output_type": "stream",
     "text": [
      "Warning message in x & y:\n",
      "\"longer object length is not a multiple of shorter object length\"\n"
     ]
    },
    {
     "data": {
      "text/html": [
       "<style>\n",
       ".list-inline {list-style: none; margin:0; padding: 0}\n",
       ".list-inline>li {display: inline-block}\n",
       ".list-inline>li:not(:last-child)::after {content: \"\\00b7\"; padding: 0 .5ex}\n",
       "</style>\n",
       "<ol class=list-inline><li>FALSE</li><li>FALSE</li><li>FALSE</li><li>TRUE</li><li>FALSE</li></ol>\n"
      ],
      "text/latex": [
       "\\begin{enumerate*}\n",
       "\\item FALSE\n",
       "\\item FALSE\n",
       "\\item FALSE\n",
       "\\item TRUE\n",
       "\\item FALSE\n",
       "\\end{enumerate*}\n"
      ],
      "text/markdown": [
       "1. FALSE\n",
       "2. FALSE\n",
       "3. FALSE\n",
       "4. TRUE\n",
       "5. FALSE\n",
       "\n",
       "\n"
      ],
      "text/plain": [
       "[1] FALSE FALSE FALSE  TRUE FALSE"
      ]
     },
     "metadata": {},
     "output_type": "display_data"
    },
    {
     "data": {
      "text/html": [
       "<style>\n",
       ".list-inline {list-style: none; margin:0; padding: 0}\n",
       ".list-inline>li {display: inline-block}\n",
       ".list-inline>li:not(:last-child)::after {content: \"\\00b7\"; padding: 0 .5ex}\n",
       "</style>\n",
       "<ol class=list-inline><li>FALSE</li><li>TRUE</li><li>FALSE</li><li>TRUE</li><li>TRUE</li></ol>\n"
      ],
      "text/latex": [
       "\\begin{enumerate*}\n",
       "\\item FALSE\n",
       "\\item TRUE\n",
       "\\item FALSE\n",
       "\\item TRUE\n",
       "\\item TRUE\n",
       "\\end{enumerate*}\n"
      ],
      "text/markdown": [
       "1. FALSE\n",
       "2. TRUE\n",
       "3. FALSE\n",
       "4. TRUE\n",
       "5. TRUE\n",
       "\n",
       "\n"
      ],
      "text/plain": [
       "[1] FALSE  TRUE FALSE  TRUE  TRUE"
      ]
     },
     "metadata": {},
     "output_type": "display_data"
    },
    {
     "data": {
      "text/html": [
       "<style>\n",
       ".list-inline {list-style: none; margin:0; padding: 0}\n",
       ".list-inline>li {display: inline-block}\n",
       ".list-inline>li:not(:last-child)::after {content: \"\\00b7\"; padding: 0 .5ex}\n",
       "</style>\n",
       "<ol class=list-inline><li>FALSE</li><li>FALSE</li><li>FALSE</li><li>TRUE</li><li>TRUE</li></ol>\n"
      ],
      "text/latex": [
       "\\begin{enumerate*}\n",
       "\\item FALSE\n",
       "\\item FALSE\n",
       "\\item FALSE\n",
       "\\item TRUE\n",
       "\\item TRUE\n",
       "\\end{enumerate*}\n"
      ],
      "text/markdown": [
       "1. FALSE\n",
       "2. FALSE\n",
       "3. FALSE\n",
       "4. TRUE\n",
       "5. TRUE\n",
       "\n",
       "\n"
      ],
      "text/plain": [
       "[1] FALSE FALSE FALSE  TRUE  TRUE"
      ]
     },
     "metadata": {},
     "output_type": "display_data"
    },
    {
     "data": {
      "text/html": [
       "FALSE"
      ],
      "text/latex": [
       "FALSE"
      ],
      "text/markdown": [
       "FALSE"
      ],
      "text/plain": [
       "[1] FALSE"
      ]
     },
     "metadata": {},
     "output_type": "display_data"
    },
    {
     "data": {
      "text/html": [
       "<style>\n",
       ".list-inline {list-style: none; margin:0; padding: 0}\n",
       ".list-inline>li {display: inline-block}\n",
       ".list-inline>li:not(:last-child)::after {content: \"\\00b7\"; padding: 0 .5ex}\n",
       "</style>\n",
       "<ol class=list-inline><li>TRUE</li><li>TRUE</li><li>FALSE</li><li>TRUE</li><li>TRUE</li></ol>\n"
      ],
      "text/latex": [
       "\\begin{enumerate*}\n",
       "\\item TRUE\n",
       "\\item TRUE\n",
       "\\item FALSE\n",
       "\\item TRUE\n",
       "\\item TRUE\n",
       "\\end{enumerate*}\n"
      ],
      "text/markdown": [
       "1. TRUE\n",
       "2. TRUE\n",
       "3. FALSE\n",
       "4. TRUE\n",
       "5. TRUE\n",
       "\n",
       "\n"
      ],
      "text/plain": [
       "[1]  TRUE  TRUE FALSE  TRUE  TRUE"
      ]
     },
     "metadata": {},
     "output_type": "display_data"
    },
    {
     "data": {
      "text/html": [
       "TRUE"
      ],
      "text/latex": [
       "TRUE"
      ],
      "text/markdown": [
       "TRUE"
      ],
      "text/plain": [
       "[1] TRUE"
      ]
     },
     "metadata": {},
     "output_type": "display_data"
    }
   ],
   "source": [
    "x <- c(TRUE,FALSE,0,6,100); x\n",
    "y <- c(FALSE,TRUE,FALSE,TRUE); y\n",
    "!x\n",
    "x&y\n",
    "y1 <- c(FALSE,TRUE,FALSE,TRUE,TRUE); y1\n",
    "x&y1\n",
    "x&&y\n",
    "x|y1\n",
    "x||y"
   ]
  },
  {
   "cell_type": "code",
   "execution_count": 28,
   "id": "b0b817e2",
   "metadata": {},
   "outputs": [],
   "source": [
    "df_medal<- read_xlsx('Medals_olympics2021.xlsx')"
   ]
  },
  {
   "cell_type": "code",
   "execution_count": 29,
   "id": "f2b28dd7",
   "metadata": {},
   "outputs": [
    {
     "data": {
      "text/html": [
       "<table class=\"dataframe\">\n",
       "<caption>A tibble: 5 × 7</caption>\n",
       "<thead>\n",
       "\t<tr><th scope=col>Rank</th><th scope=col>Team/NOC</th><th scope=col>Gold</th><th scope=col>Silver</th><th scope=col>Bronze</th><th scope=col>Total</th><th scope=col>Rank by Total</th></tr>\n",
       "\t<tr><th scope=col>&lt;dbl&gt;</th><th scope=col>&lt;chr&gt;</th><th scope=col>&lt;dbl&gt;</th><th scope=col>&lt;dbl&gt;</th><th scope=col>&lt;dbl&gt;</th><th scope=col>&lt;dbl&gt;</th><th scope=col>&lt;dbl&gt;</th></tr>\n",
       "</thead>\n",
       "<tbody>\n",
       "\t<tr><td>1</td><td>United States of America  </td><td>39</td><td>41</td><td>33</td><td>113</td><td>1</td></tr>\n",
       "\t<tr><td>2</td><td>People's Republic of China</td><td>38</td><td>32</td><td>18</td><td> 88</td><td>2</td></tr>\n",
       "\t<tr><td>3</td><td>Japan                     </td><td>27</td><td>14</td><td>17</td><td> 58</td><td>5</td></tr>\n",
       "\t<tr><td>4</td><td>Great Britain             </td><td>22</td><td>21</td><td>22</td><td> 65</td><td>4</td></tr>\n",
       "\t<tr><td>5</td><td>ROC                       </td><td>20</td><td>28</td><td>23</td><td> 71</td><td>3</td></tr>\n",
       "</tbody>\n",
       "</table>\n"
      ],
      "text/latex": [
       "A tibble: 5 × 7\n",
       "\\begin{tabular}{lllllll}\n",
       " Rank & Team/NOC & Gold & Silver & Bronze & Total & Rank by Total\\\\\n",
       " <dbl> & <chr> & <dbl> & <dbl> & <dbl> & <dbl> & <dbl>\\\\\n",
       "\\hline\n",
       "\t 1 & United States of America   & 39 & 41 & 33 & 113 & 1\\\\\n",
       "\t 2 & People's Republic of China & 38 & 32 & 18 &  88 & 2\\\\\n",
       "\t 3 & Japan                      & 27 & 14 & 17 &  58 & 5\\\\\n",
       "\t 4 & Great Britain              & 22 & 21 & 22 &  65 & 4\\\\\n",
       "\t 5 & ROC                        & 20 & 28 & 23 &  71 & 3\\\\\n",
       "\\end{tabular}\n"
      ],
      "text/markdown": [
       "\n",
       "A tibble: 5 × 7\n",
       "\n",
       "| Rank &lt;dbl&gt; | Team/NOC &lt;chr&gt; | Gold &lt;dbl&gt; | Silver &lt;dbl&gt; | Bronze &lt;dbl&gt; | Total &lt;dbl&gt; | Rank by Total &lt;dbl&gt; |\n",
       "|---|---|---|---|---|---|---|\n",
       "| 1 | United States of America   | 39 | 41 | 33 | 113 | 1 |\n",
       "| 2 | People's Republic of China | 38 | 32 | 18 |  88 | 2 |\n",
       "| 3 | Japan                      | 27 | 14 | 17 |  58 | 5 |\n",
       "| 4 | Great Britain              | 22 | 21 | 22 |  65 | 4 |\n",
       "| 5 | ROC                        | 20 | 28 | 23 |  71 | 3 |\n",
       "\n"
      ],
      "text/plain": [
       "  Rank Team/NOC                   Gold Silver Bronze Total Rank by Total\n",
       "1 1    United States of America   39   41     33     113   1            \n",
       "2 2    People's Republic of China 38   32     18      88   2            \n",
       "3 3    Japan                      27   14     17      58   5            \n",
       "4 4    Great Britain              22   21     22      65   4            \n",
       "5 5    ROC                        20   28     23      71   3            "
      ]
     },
     "metadata": {},
     "output_type": "display_data"
    }
   ],
   "source": [
    "head(df_medal,5)\n"
   ]
  },
  {
   "cell_type": "code",
   "execution_count": 30,
   "id": "0b99fb25",
   "metadata": {},
   "outputs": [
    {
     "ename": "ERROR",
     "evalue": "Error in basicStats(df_medal): could not find function \"basicStats\"\n",
     "output_type": "error",
     "traceback": [
      "Error in basicStats(df_medal): could not find function \"basicStats\"\nTraceback:\n"
     ]
    }
   ],
   "source": [
    "basicStats(df_medal)"
   ]
  },
  {
   "cell_type": "code",
   "execution_count": 31,
   "id": "2ea2b9ca",
   "metadata": {},
   "outputs": [
    {
     "name": "stderr",
     "output_type": "stream",
     "text": [
      "Installing package into 'C:/Users/aiman/Documents/R/win-library/4.1'\n",
      "(as 'lib' is unspecified)\n",
      "\n"
     ]
    },
    {
     "name": "stdout",
     "output_type": "stream",
     "text": [
      "package 'fBasics' successfully unpacked and MD5 sums checked\n",
      "\n",
      "The downloaded binary packages are in\n",
      "\tC:\\Users\\aiman\\AppData\\Local\\Temp\\RtmpKQ2CVd\\downloaded_packages\n"
     ]
    }
   ],
   "source": [
    "install.packages(\"fBasics\")"
   ]
  },
  {
   "cell_type": "code",
   "execution_count": 32,
   "id": "a48d76ee",
   "metadata": {},
   "outputs": [
    {
     "name": "stderr",
     "output_type": "stream",
     "text": [
      "Loading required package: timeDate\n",
      "\n",
      "Loading required package: timeSeries\n",
      "\n"
     ]
    }
   ],
   "source": [
    "library(fBasics)"
   ]
  },
  {
   "cell_type": "code",
   "execution_count": 33,
   "id": "f5aa0f2c",
   "metadata": {},
   "outputs": [
    {
     "ename": "ERROR",
     "evalue": "Error in (1 - h) * qs[i]: non-numeric argument to binary operator\n",
     "output_type": "error",
     "traceback": [
      "Error in (1 - h) * qs[i]: non-numeric argument to binary operator\nTraceback:\n",
      "1. basicStats(df_medal)",
      "2. quantile(X, prob = 0.25, na.rm = TRUE)",
      "3. quantile(X, prob = 0.25, na.rm = TRUE)",
      "4. quantile.default(X, prob = 0.25, na.rm = TRUE)"
     ]
    }
   ],
   "source": [
    "basicStats(df_medal)"
   ]
  },
  {
   "cell_type": "code",
   "execution_count": 34,
   "id": "f0d02a55",
   "metadata": {},
   "outputs": [
    {
     "data": {
      "text/plain": [
       "      Rank      Team/NOC              Gold            Silver      \n",
       " Min.   : 1   Length:93          Min.   : 0.000   Min.   : 0.000  \n",
       " 1st Qu.:24   Class :character   1st Qu.: 0.000   1st Qu.: 0.000  \n",
       " Median :47   Mode  :character   Median : 1.000   Median : 1.000  \n",
       " Mean   :47                      Mean   : 3.656   Mean   : 3.634  \n",
       " 3rd Qu.:70                      3rd Qu.: 3.000   3rd Qu.: 4.000  \n",
       " Max.   :93                      Max.   :39.000   Max.   :41.000  \n",
       "     Bronze           Total        Rank by Total  \n",
       " Min.   : 0.000   Min.   :  1.00   Min.   : 1.00  \n",
       " 1st Qu.: 1.000   1st Qu.:  2.00   1st Qu.:23.00  \n",
       " Median : 2.000   Median :  4.00   Median :47.00  \n",
       " Mean   : 4.323   Mean   : 11.61   Mean   :43.49  \n",
       " 3rd Qu.: 5.000   3rd Qu.: 11.00   3rd Qu.:66.00  \n",
       " Max.   :33.000   Max.   :113.00   Max.   :77.00  "
      ]
     },
     "metadata": {},
     "output_type": "display_data"
    }
   ],
   "source": [
    "summary(df_medal)"
   ]
  },
  {
   "cell_type": "code",
   "execution_count": 35,
   "id": "28166595",
   "metadata": {},
   "outputs": [
    {
     "ename": "ERROR",
     "evalue": "Error in describe(df_medal): could not find function \"describe\"\n",
     "output_type": "error",
     "traceback": [
      "Error in describe(df_medal): could not find function \"describe\"\nTraceback:\n"
     ]
    }
   ],
   "source": [
    "describe(df_medal)"
   ]
  },
  {
   "cell_type": "code",
   "execution_count": 36,
   "id": "8b9d6fb9",
   "metadata": {},
   "outputs": [
    {
     "name": "stdout",
     "output_type": "stream",
     "text": [
      "[1] \"Showing LinkedIn information\"\n"
     ]
    }
   ],
   "source": [
    "# Variables related to your last day of recordings\n",
    "medium <- \"LinkedIn\"\n",
    "num_views <- 14\n",
    "\n",
    "# Examine the if statement for medium\n",
    "if (medium == \"LinkedIn\") {\n",
    "  print(\"Showing LinkedIn information\")\n",
    "}\n",
    "\n",
    "# Write the if statement for num_views\n",
    "if (num_views > 15){\n",
    "  print(\"You are popular!\")\n",
    "}"
   ]
  },
  {
   "cell_type": "code",
   "execution_count": 37,
   "id": "0b091147",
   "metadata": {},
   "outputs": [
    {
     "data": {
      "text/html": [
       "144"
      ],
      "text/latex": [
       "144"
      ],
      "text/markdown": [
       "144"
      ],
      "text/plain": [
       "[1] 144"
      ]
     },
     "metadata": {},
     "output_type": "display_data"
    },
    {
     "data": {
      "text/html": [
       "5"
      ],
      "text/latex": [
       "5"
      ],
      "text/markdown": [
       "5"
      ],
      "text/plain": [
       "[1] 5"
      ]
     },
     "metadata": {},
     "output_type": "display_data"
    }
   ],
   "source": [
    "# Create a function pow_two()\n",
    "pow_two <- function(a) {\n",
    "  a * a\n",
    "}\n",
    "# Use the function\n",
    "pow_two(12)\n",
    "\n",
    "# Create a function sum_abs()\n",
    "sum_abs <- function(a,b) {\n",
    "  abs(a) + abs(b)\n",
    "}\n",
    "# Use the function\n",
    "sum_abs(-2,3)"
   ]
  },
  {
   "cell_type": "code",
   "execution_count": 38,
   "id": "ebd74645",
   "metadata": {},
   "outputs": [
    {
     "data": {
      "text/html": [
       "<table class=\"dataframe\">\n",
       "<caption>A matrix: 3 × 2 of type dbl</caption>\n",
       "<thead>\n",
       "\t<tr><th></th><th scope=col>C1</th><th scope=col>C2</th></tr>\n",
       "</thead>\n",
       "<tbody>\n",
       "\t<tr><th scope=row>R1</th><td> 1</td><td>68</td></tr>\n",
       "\t<tr><th scope=row>R2</th><td>26</td><td>10</td></tr>\n",
       "\t<tr><th scope=row>R3</th><td>24</td><td>15</td></tr>\n",
       "</tbody>\n",
       "</table>\n"
      ],
      "text/latex": [
       "A matrix: 3 × 2 of type dbl\n",
       "\\begin{tabular}{r|ll}\n",
       "  & C1 & C2\\\\\n",
       "\\hline\n",
       "\tR1 &  1 & 68\\\\\n",
       "\tR2 & 26 & 10\\\\\n",
       "\tR3 & 24 & 15\\\\\n",
       "\\end{tabular}\n"
      ],
      "text/markdown": [
       "\n",
       "A matrix: 3 × 2 of type dbl\n",
       "\n",
       "| <!--/--> | C1 | C2 |\n",
       "|---|---|---|\n",
       "| R1 |  1 | 68 |\n",
       "| R2 | 26 | 10 |\n",
       "| R3 | 24 | 15 |\n",
       "\n"
      ],
      "text/plain": [
       "   C1 C2\n",
       "R1  1 68\n",
       "R2 26 10\n",
       "R3 24 15"
      ]
     },
     "metadata": {},
     "output_type": "display_data"
    }
   ],
   "source": [
    "# construct 3 by 2 matrix with labels\n",
    "dt <- c(1,26,24,68,10,15)\n",
    "rnames <- c(\"R1\", \"R2\",\"R3\")\n",
    "cnames <- c(\"C1\", \"C2\")\n",
    "mt1 <- matrix(dt, nrow=3, ncol=2,\n",
    "dimnames=list(rnames, cnames))\n",
    "mt1\n"
   ]
  },
  {
   "cell_type": "code",
   "execution_count": 39,
   "id": "e7b96eb6",
   "metadata": {},
   "outputs": [
    {
     "data": {
      "text/html": [
       "<table class=\"dataframe\">\n",
       "<caption>A matrix: 2 × 3 of type dbl</caption>\n",
       "<thead>\n",
       "\t<tr><th></th><th scope=col>R1</th><th scope=col>R2</th><th scope=col>R3</th></tr>\n",
       "</thead>\n",
       "<tbody>\n",
       "\t<tr><th scope=row>C1</th><td> 1</td><td>26</td><td>24</td></tr>\n",
       "\t<tr><th scope=row>C2</th><td>68</td><td>10</td><td>15</td></tr>\n",
       "</tbody>\n",
       "</table>\n"
      ],
      "text/latex": [
       "A matrix: 2 × 3 of type dbl\n",
       "\\begin{tabular}{r|lll}\n",
       "  & R1 & R2 & R3\\\\\n",
       "\\hline\n",
       "\tC1 &  1 & 26 & 24\\\\\n",
       "\tC2 & 68 & 10 & 15\\\\\n",
       "\\end{tabular}\n"
      ],
      "text/markdown": [
       "\n",
       "A matrix: 2 × 3 of type dbl\n",
       "\n",
       "| <!--/--> | R1 | R2 | R3 |\n",
       "|---|---|---|---|\n",
       "| C1 |  1 | 26 | 24 |\n",
       "| C2 | 68 | 10 | 15 |\n",
       "\n"
      ],
      "text/plain": [
       "   R1 R2 R3\n",
       "C1  1 26 24\n",
       "C2 68 10 15"
      ]
     },
     "metadata": {},
     "output_type": "display_data"
    }
   ],
   "source": [
    "# transpose a matrix\n",
    "t(mt1)\n"
   ]
  },
  {
   "cell_type": "code",
   "execution_count": 40,
   "id": "d41dbc6f",
   "metadata": {},
   "outputs": [
    {
     "data": {
      "text/html": [
       "<table class=\"dataframe\">\n",
       "<caption>A matrix: 2 × 2 of type int</caption>\n",
       "<thead>\n",
       "\t<tr><th></th><th scope=col>A</th><th scope=col>B</th></tr>\n",
       "</thead>\n",
       "<tbody>\n",
       "\t<tr><th scope=row>P</th><td>15</td><td>17</td></tr>\n",
       "\t<tr><th scope=row>Q</th><td>16</td><td>18</td></tr>\n",
       "</tbody>\n",
       "</table>\n"
      ],
      "text/latex": [
       "A matrix: 2 × 2 of type int\n",
       "\\begin{tabular}{r|ll}\n",
       "  & A & B\\\\\n",
       "\\hline\n",
       "\tP & 15 & 17\\\\\n",
       "\tQ & 16 & 18\\\\\n",
       "\\end{tabular}\n"
      ],
      "text/markdown": [
       "\n",
       "A matrix: 2 × 2 of type int\n",
       "\n",
       "| <!--/--> | A | B |\n",
       "|---|---|---|\n",
       "| P | 15 | 17 |\n",
       "| Q | 16 | 18 |\n",
       "\n"
      ],
      "text/plain": [
       "  A  B \n",
       "P 15 17\n",
       "Q 16 18"
      ]
     },
     "metadata": {},
     "output_type": "display_data"
    }
   ],
   "source": [
    "mt2 <- matrix(15:18, nrow = 2,\n",
    "dimnames = list(c(\"P\",\"Q\"), c(\"A\",\"B\")))\n",
    "mt2\n"
   ]
  },
  {
   "cell_type": "code",
   "execution_count": 41,
   "id": "bd836b8e",
   "metadata": {},
   "outputs": [
    {
     "data": {
      "text/html": [
       "<table class=\"dataframe\">\n",
       "<caption>A matrix: 4 × 4 of type dbl</caption>\n",
       "<tbody>\n",
       "\t<tr><td>1</td><td>0</td><td>0</td><td>0</td></tr>\n",
       "\t<tr><td>0</td><td>1</td><td>0</td><td>0</td></tr>\n",
       "\t<tr><td>0</td><td>0</td><td>1</td><td>0</td></tr>\n",
       "\t<tr><td>0</td><td>0</td><td>0</td><td>1</td></tr>\n",
       "</tbody>\n",
       "</table>\n"
      ],
      "text/latex": [
       "A matrix: 4 × 4 of type dbl\n",
       "\\begin{tabular}{llll}\n",
       "\t 1 & 0 & 0 & 0\\\\\n",
       "\t 0 & 1 & 0 & 0\\\\\n",
       "\t 0 & 0 & 1 & 0\\\\\n",
       "\t 0 & 0 & 0 & 1\\\\\n",
       "\\end{tabular}\n"
      ],
      "text/markdown": [
       "\n",
       "A matrix: 4 × 4 of type dbl\n",
       "\n",
       "| 1 | 0 | 0 | 0 |\n",
       "| 0 | 1 | 0 | 0 |\n",
       "| 0 | 0 | 1 | 0 |\n",
       "| 0 | 0 | 0 | 1 |\n",
       "\n"
      ],
      "text/plain": [
       "     [,1] [,2] [,3] [,4]\n",
       "[1,] 1    0    0    0   \n",
       "[2,] 0    1    0    0   \n",
       "[3,] 0    0    1    0   \n",
       "[4,] 0    0    0    1   "
      ]
     },
     "metadata": {},
     "output_type": "display_data"
    },
    {
     "data": {
      "text/html": [
       "<style>\n",
       ".list-inline {list-style: none; margin:0; padding: 0}\n",
       ".list-inline>li {display: inline-block}\n",
       ".list-inline>li:not(:last-child)::after {content: \"\\00b7\"; padding: 0 .5ex}\n",
       "</style>\n",
       "<ol class=list-inline><li>15</li><li>18</li></ol>\n"
      ],
      "text/latex": [
       "\\begin{enumerate*}\n",
       "\\item 15\n",
       "\\item 18\n",
       "\\end{enumerate*}\n"
      ],
      "text/markdown": [
       "1. 15\n",
       "2. 18\n",
       "\n",
       "\n"
      ],
      "text/plain": [
       "[1] 15 18"
      ]
     },
     "metadata": {},
     "output_type": "display_data"
    },
    {
     "data": {
      "text/html": [
       "<table class=\"dataframe\">\n",
       "<caption>A matrix: 4 × 4 of type dbl</caption>\n",
       "<tbody>\n",
       "\t<tr><td>3</td><td>0</td><td>0</td><td>0</td></tr>\n",
       "\t<tr><td>0</td><td>3</td><td>0</td><td>0</td></tr>\n",
       "\t<tr><td>0</td><td>0</td><td>3</td><td>0</td></tr>\n",
       "\t<tr><td>0</td><td>0</td><td>0</td><td>3</td></tr>\n",
       "</tbody>\n",
       "</table>\n"
      ],
      "text/latex": [
       "A matrix: 4 × 4 of type dbl\n",
       "\\begin{tabular}{llll}\n",
       "\t 3 & 0 & 0 & 0\\\\\n",
       "\t 0 & 3 & 0 & 0\\\\\n",
       "\t 0 & 0 & 3 & 0\\\\\n",
       "\t 0 & 0 & 0 & 3\\\\\n",
       "\\end{tabular}\n"
      ],
      "text/markdown": [
       "\n",
       "A matrix: 4 × 4 of type dbl\n",
       "\n",
       "| 3 | 0 | 0 | 0 |\n",
       "| 0 | 3 | 0 | 0 |\n",
       "| 0 | 0 | 3 | 0 |\n",
       "| 0 | 0 | 0 | 3 |\n",
       "\n"
      ],
      "text/plain": [
       "     [,1] [,2] [,3] [,4]\n",
       "[1,] 3    0    0    0   \n",
       "[2,] 0    3    0    0   \n",
       "[3,] 0    0    3    0   \n",
       "[4,] 0    0    0    3   "
      ]
     },
     "metadata": {},
     "output_type": "display_data"
    }
   ],
   "source": [
    "# create identity matrix and extract diagonal element\n",
    "diag(4)\n",
    "diag(mt2)\n",
    "diag(3,4)\n"
   ]
  },
  {
   "cell_type": "code",
   "execution_count": 42,
   "id": "eab683ee",
   "metadata": {},
   "outputs": [
    {
     "data": {
      "text/html": [
       "<table class=\"dataframe\">\n",
       "<caption>A matrix: 5 × 4 of type int</caption>\n",
       "<tbody>\n",
       "\t<tr><td>1</td><td> 6</td><td>11</td><td>16</td></tr>\n",
       "\t<tr><td>2</td><td> 7</td><td>12</td><td>17</td></tr>\n",
       "\t<tr><td>3</td><td> 8</td><td>13</td><td>18</td></tr>\n",
       "\t<tr><td>4</td><td> 9</td><td>14</td><td>19</td></tr>\n",
       "\t<tr><td>5</td><td>10</td><td>15</td><td>20</td></tr>\n",
       "</tbody>\n",
       "</table>\n"
      ],
      "text/latex": [
       "A matrix: 5 × 4 of type int\n",
       "\\begin{tabular}{llll}\n",
       "\t 1 &  6 & 11 & 16\\\\\n",
       "\t 2 &  7 & 12 & 17\\\\\n",
       "\t 3 &  8 & 13 & 18\\\\\n",
       "\t 4 &  9 & 14 & 19\\\\\n",
       "\t 5 & 10 & 15 & 20\\\\\n",
       "\\end{tabular}\n"
      ],
      "text/markdown": [
       "\n",
       "A matrix: 5 × 4 of type int\n",
       "\n",
       "| 1 |  6 | 11 | 16 |\n",
       "| 2 |  7 | 12 | 17 |\n",
       "| 3 |  8 | 13 | 18 |\n",
       "| 4 |  9 | 14 | 19 |\n",
       "| 5 | 10 | 15 | 20 |\n",
       "\n"
      ],
      "text/plain": [
       "     [,1] [,2] [,3] [,4]\n",
       "[1,] 1     6   11   16  \n",
       "[2,] 2     7   12   17  \n",
       "[3,] 3     8   13   18  \n",
       "[4,] 4     9   14   19  \n",
       "[5,] 5    10   15   20  "
      ]
     },
     "metadata": {},
     "output_type": "display_data"
    },
    {
     "data": {
      "text/html": [
       "<table class=\"dataframe\">\n",
       "<caption>A matrix: 5 × 4 of type int</caption>\n",
       "<tbody>\n",
       "\t<tr><td> 1</td><td> 2</td><td> 3</td><td> 4</td></tr>\n",
       "\t<tr><td> 5</td><td> 6</td><td> 7</td><td> 8</td></tr>\n",
       "\t<tr><td> 9</td><td>10</td><td>11</td><td>12</td></tr>\n",
       "\t<tr><td>13</td><td>14</td><td>15</td><td>16</td></tr>\n",
       "\t<tr><td>17</td><td>18</td><td>19</td><td>20</td></tr>\n",
       "</tbody>\n",
       "</table>\n"
      ],
      "text/latex": [
       "A matrix: 5 × 4 of type int\n",
       "\\begin{tabular}{llll}\n",
       "\t  1 &  2 &  3 &  4\\\\\n",
       "\t  5 &  6 &  7 &  8\\\\\n",
       "\t  9 & 10 & 11 & 12\\\\\n",
       "\t 13 & 14 & 15 & 16\\\\\n",
       "\t 17 & 18 & 19 & 20\\\\\n",
       "\\end{tabular}\n"
      ],
      "text/markdown": [
       "\n",
       "A matrix: 5 × 4 of type int\n",
       "\n",
       "|  1 |  2 |  3 |  4 |\n",
       "|  5 |  6 |  7 |  8 |\n",
       "|  9 | 10 | 11 | 12 |\n",
       "| 13 | 14 | 15 | 16 |\n",
       "| 17 | 18 | 19 | 20 |\n",
       "\n"
      ],
      "text/plain": [
       "     [,1] [,2] [,3] [,4]\n",
       "[1,]  1    2    3    4  \n",
       "[2,]  5    6    7    8  \n",
       "[3,]  9   10   11   12  \n",
       "[4,] 13   14   15   16  \n",
       "[5,] 17   18   19   20  "
      ]
     },
     "metadata": {},
     "output_type": "display_data"
    },
    {
     "data": {
      "text/html": [
       "<style>\n",
       ".list-inline {list-style: none; margin:0; padding: 0}\n",
       ".list-inline>li {display: inline-block}\n",
       ".list-inline>li:not(:last-child)::after {content: \"\\00b7\"; padding: 0 .5ex}\n",
       "</style>\n",
       "<ol class=list-inline><li>5</li><li>4</li></ol>\n"
      ],
      "text/latex": [
       "\\begin{enumerate*}\n",
       "\\item 5\n",
       "\\item 4\n",
       "\\end{enumerate*}\n"
      ],
      "text/markdown": [
       "1. 5\n",
       "2. 4\n",
       "\n",
       "\n"
      ],
      "text/plain": [
       "[1] 5 4"
      ]
     },
     "metadata": {},
     "output_type": "display_data"
    },
    {
     "data": {
      "text/html": [
       "<style>\n",
       ".list-inline {list-style: none; margin:0; padding: 0}\n",
       ".list-inline>li {display: inline-block}\n",
       ".list-inline>li:not(:last-child)::after {content: \"\\00b7\"; padding: 0 .5ex}\n",
       "</style>\n",
       "<ol class=list-inline><li>5</li><li>4</li></ol>\n"
      ],
      "text/latex": [
       "\\begin{enumerate*}\n",
       "\\item 5\n",
       "\\item 4\n",
       "\\end{enumerate*}\n"
      ],
      "text/markdown": [
       "1. 5\n",
       "2. 4\n",
       "\n",
       "\n"
      ],
      "text/plain": [
       "[1] 5 4"
      ]
     },
     "metadata": {},
     "output_type": "display_data"
    }
   ],
   "source": [
    "# generates 5 x 4 numeric matrix\n",
    "x <- matrix(1:20, nrow=5,ncol=4); x\n",
    "y <- matrix(1:20, nrow=5,ncol=4, byrow=TRUE); y\n",
    "dim(x); dim(y) # matrix dimension"
   ]
  },
  {
   "cell_type": "code",
   "execution_count": 43,
   "id": "d46b791e",
   "metadata": {},
   "outputs": [
    {
     "data": {
      "text/html": [
       "12"
      ],
      "text/latex": [
       "12"
      ],
      "text/markdown": [
       "12"
      ],
      "text/plain": [
       "[1] 12"
      ]
     },
     "metadata": {},
     "output_type": "display_data"
    },
    {
     "data": {
      "text/html": [
       "<style>\n",
       ".list-inline {list-style: none; margin:0; padding: 0}\n",
       ".list-inline>li {display: inline-block}\n",
       ".list-inline>li:not(:last-child)::after {content: \"\\00b7\"; padding: 0 .5ex}\n",
       "</style>\n",
       "<ol class=list-inline><li>16</li><li>17</li><li>18</li></ol>\n"
      ],
      "text/latex": [
       "\\begin{enumerate*}\n",
       "\\item 16\n",
       "\\item 17\n",
       "\\item 18\n",
       "\\end{enumerate*}\n"
      ],
      "text/markdown": [
       "1. 16\n",
       "2. 17\n",
       "3. 18\n",
       "\n",
       "\n"
      ],
      "text/plain": [
       "[1] 16 17 18"
      ]
     },
     "metadata": {},
     "output_type": "display_data"
    },
    {
     "data": {
      "text/html": [
       "<style>\n",
       ".list-inline {list-style: none; margin:0; padding: 0}\n",
       ".list-inline>li {display: inline-block}\n",
       ".list-inline>li:not(:last-child)::after {content: \"\\00b7\"; padding: 0 .5ex}\n",
       "</style>\n",
       "<ol class=list-inline><li>14</li><li>15</li><li>16</li></ol>\n"
      ],
      "text/latex": [
       "\\begin{enumerate*}\n",
       "\\item 14\n",
       "\\item 15\n",
       "\\item 16\n",
       "\\end{enumerate*}\n"
      ],
      "text/markdown": [
       "1. 14\n",
       "2. 15\n",
       "3. 16\n",
       "\n",
       "\n"
      ],
      "text/plain": [
       "[1] 14 15 16"
      ]
     },
     "metadata": {},
     "output_type": "display_data"
    }
   ],
   "source": [
    "# choose a specific cell, row or column of a matrix\n",
    "x[2,3]\n",
    "x[1:3,4]\n",
    "y[4,2:4]"
   ]
  },
  {
   "cell_type": "code",
   "execution_count": 44,
   "id": "405d043e",
   "metadata": {},
   "outputs": [
    {
     "data": {
      "text/html": [
       "'integer'"
      ],
      "text/latex": [
       "'integer'"
      ],
      "text/markdown": [
       "'integer'"
      ],
      "text/plain": [
       "[1] \"integer\""
      ]
     },
     "metadata": {},
     "output_type": "display_data"
    },
    {
     "data": {
      "text/html": [
       "<style>\n",
       ".list-inline {list-style: none; margin:0; padding: 0}\n",
       ".list-inline>li {display: inline-block}\n",
       ".list-inline>li:not(:last-child)::after {content: \"\\00b7\"; padding: 0 .5ex}\n",
       "</style>\n",
       "<ol class=list-inline><li>'matrix'</li><li>'array'</li></ol>\n"
      ],
      "text/latex": [
       "\\begin{enumerate*}\n",
       "\\item 'matrix'\n",
       "\\item 'array'\n",
       "\\end{enumerate*}\n"
      ],
      "text/markdown": [
       "1. 'matrix'\n",
       "2. 'array'\n",
       "\n",
       "\n"
      ],
      "text/plain": [
       "[1] \"matrix\" \"array\" "
      ]
     },
     "metadata": {},
     "output_type": "display_data"
    },
    {
     "data": {
      "text/html": [
       "<style>\n",
       ".list-inline {list-style: none; margin:0; padding: 0}\n",
       ".list-inline>li {display: inline-block}\n",
       ".list-inline>li:not(:last-child)::after {content: \"\\00b7\"; padding: 0 .5ex}\n",
       "</style>\n",
       "<ol class=list-inline><li>2</li><li>6</li></ol>\n"
      ],
      "text/latex": [
       "\\begin{enumerate*}\n",
       "\\item 2\n",
       "\\item 6\n",
       "\\end{enumerate*}\n"
      ],
      "text/markdown": [
       "1. 2\n",
       "2. 6\n",
       "\n",
       "\n"
      ],
      "text/plain": [
       "[1] 2 6"
      ]
     },
     "metadata": {},
     "output_type": "display_data"
    }
   ],
   "source": [
    "x <- 5:10; y <- 20:25\n",
    "p <- c(x,y)\n",
    "mt1 <- cbind(x, y) ## bind columns\n",
    "mt2 <- rbind(x,y) ## bind rows\n",
    "class(p)\n",
    "class(mt1)\n",
    "dim(mt2)\n"
   ]
  },
  {
   "cell_type": "markdown",
   "id": "b9e74935",
   "metadata": {},
   "source": [
    "## Example 9(d) Matrix Algebra"
   ]
  },
  {
   "cell_type": "code",
   "execution_count": 45,
   "id": "13618668",
   "metadata": {},
   "outputs": [
    {
     "data": {
      "text/html": [
       "<table class=\"dataframe\">\n",
       "<caption>A matrix: 4 × 4 of type int</caption>\n",
       "<tbody>\n",
       "\t<tr><td> 1</td><td> 2</td><td> 3</td><td> 4</td></tr>\n",
       "\t<tr><td> 5</td><td> 6</td><td> 7</td><td> 8</td></tr>\n",
       "\t<tr><td> 9</td><td>10</td><td>11</td><td>12</td></tr>\n",
       "\t<tr><td>13</td><td>14</td><td>15</td><td>16</td></tr>\n",
       "</tbody>\n",
       "</table>\n"
      ],
      "text/latex": [
       "A matrix: 4 × 4 of type int\n",
       "\\begin{tabular}{llll}\n",
       "\t  1 &  2 &  3 &  4\\\\\n",
       "\t  5 &  6 &  7 &  8\\\\\n",
       "\t  9 & 10 & 11 & 12\\\\\n",
       "\t 13 & 14 & 15 & 16\\\\\n",
       "\\end{tabular}\n"
      ],
      "text/markdown": [
       "\n",
       "A matrix: 4 × 4 of type int\n",
       "\n",
       "|  1 |  2 |  3 |  4 |\n",
       "|  5 |  6 |  7 |  8 |\n",
       "|  9 | 10 | 11 | 12 |\n",
       "| 13 | 14 | 15 | 16 |\n",
       "\n"
      ],
      "text/plain": [
       "     [,1] [,2] [,3] [,4]\n",
       "[1,]  1    2    3    4  \n",
       "[2,]  5    6    7    8  \n",
       "[3,]  9   10   11   12  \n",
       "[4,] 13   14   15   16  "
      ]
     },
     "metadata": {},
     "output_type": "display_data"
    },
    {
     "data": {
      "text/html": [
       "<table class=\"dataframe\">\n",
       "<caption>A matrix: 4 × 4 of type int</caption>\n",
       "<tbody>\n",
       "\t<tr><td>16</td><td>20</td><td>24</td><td>28</td></tr>\n",
       "\t<tr><td>17</td><td>21</td><td>25</td><td>29</td></tr>\n",
       "\t<tr><td>18</td><td>22</td><td>26</td><td>30</td></tr>\n",
       "\t<tr><td>19</td><td>23</td><td>27</td><td>31</td></tr>\n",
       "</tbody>\n",
       "</table>\n"
      ],
      "text/latex": [
       "A matrix: 4 × 4 of type int\n",
       "\\begin{tabular}{llll}\n",
       "\t 16 & 20 & 24 & 28\\\\\n",
       "\t 17 & 21 & 25 & 29\\\\\n",
       "\t 18 & 22 & 26 & 30\\\\\n",
       "\t 19 & 23 & 27 & 31\\\\\n",
       "\\end{tabular}\n"
      ],
      "text/markdown": [
       "\n",
       "A matrix: 4 × 4 of type int\n",
       "\n",
       "| 16 | 20 | 24 | 28 |\n",
       "| 17 | 21 | 25 | 29 |\n",
       "| 18 | 22 | 26 | 30 |\n",
       "| 19 | 23 | 27 | 31 |\n",
       "\n"
      ],
      "text/plain": [
       "     [,1] [,2] [,3] [,4]\n",
       "[1,] 16   20   24   28  \n",
       "[2,] 17   21   25   29  \n",
       "[3,] 18   22   26   30  \n",
       "[4,] 19   23   27   31  "
      ]
     },
     "metadata": {},
     "output_type": "display_data"
    },
    {
     "data": {
      "text/html": [
       "<table class=\"dataframe\">\n",
       "<caption>A matrix: 4 × 4 of type int</caption>\n",
       "<tbody>\n",
       "\t<tr><td>17</td><td>22</td><td>27</td><td>32</td></tr>\n",
       "\t<tr><td>22</td><td>27</td><td>32</td><td>37</td></tr>\n",
       "\t<tr><td>27</td><td>32</td><td>37</td><td>42</td></tr>\n",
       "\t<tr><td>32</td><td>37</td><td>42</td><td>47</td></tr>\n",
       "</tbody>\n",
       "</table>\n"
      ],
      "text/latex": [
       "A matrix: 4 × 4 of type int\n",
       "\\begin{tabular}{llll}\n",
       "\t 17 & 22 & 27 & 32\\\\\n",
       "\t 22 & 27 & 32 & 37\\\\\n",
       "\t 27 & 32 & 37 & 42\\\\\n",
       "\t 32 & 37 & 42 & 47\\\\\n",
       "\\end{tabular}\n"
      ],
      "text/markdown": [
       "\n",
       "A matrix: 4 × 4 of type int\n",
       "\n",
       "| 17 | 22 | 27 | 32 |\n",
       "| 22 | 27 | 32 | 37 |\n",
       "| 27 | 32 | 37 | 42 |\n",
       "| 32 | 37 | 42 | 47 |\n",
       "\n"
      ],
      "text/plain": [
       "     [,1] [,2] [,3] [,4]\n",
       "[1,] 17   22   27   32  \n",
       "[2,] 22   27   32   37  \n",
       "[3,] 27   32   37   42  \n",
       "[4,] 32   37   42   47  "
      ]
     },
     "metadata": {},
     "output_type": "display_data"
    },
    {
     "data": {
      "text/html": [
       "<table class=\"dataframe\">\n",
       "<caption>A matrix: 4 × 4 of type int</caption>\n",
       "<tbody>\n",
       "\t<tr><td>-15</td><td>-18</td><td>-21</td><td>-24</td></tr>\n",
       "\t<tr><td>-12</td><td>-15</td><td>-18</td><td>-21</td></tr>\n",
       "\t<tr><td> -9</td><td>-12</td><td>-15</td><td>-18</td></tr>\n",
       "\t<tr><td> -6</td><td> -9</td><td>-12</td><td>-15</td></tr>\n",
       "</tbody>\n",
       "</table>\n"
      ],
      "text/latex": [
       "A matrix: 4 × 4 of type int\n",
       "\\begin{tabular}{llll}\n",
       "\t -15 & -18 & -21 & -24\\\\\n",
       "\t -12 & -15 & -18 & -21\\\\\n",
       "\t  -9 & -12 & -15 & -18\\\\\n",
       "\t  -6 &  -9 & -12 & -15\\\\\n",
       "\\end{tabular}\n"
      ],
      "text/markdown": [
       "\n",
       "A matrix: 4 × 4 of type int\n",
       "\n",
       "| -15 | -18 | -21 | -24 |\n",
       "| -12 | -15 | -18 | -21 |\n",
       "|  -9 | -12 | -15 | -18 |\n",
       "|  -6 |  -9 | -12 | -15 |\n",
       "\n"
      ],
      "text/plain": [
       "     [,1] [,2] [,3] [,4]\n",
       "[1,] -15  -18  -21  -24 \n",
       "[2,] -12  -15  -18  -21 \n",
       "[3,]  -9  -12  -15  -18 \n",
       "[4,]  -6   -9  -12  -15 "
      ]
     },
     "metadata": {},
     "output_type": "display_data"
    },
    {
     "data": {
      "text/html": [
       "<table class=\"dataframe\">\n",
       "<caption>A matrix: 4 × 4 of type int</caption>\n",
       "<tbody>\n",
       "\t<tr><td> 16</td><td> 40</td><td> 72</td><td>112</td></tr>\n",
       "\t<tr><td> 85</td><td>126</td><td>175</td><td>232</td></tr>\n",
       "\t<tr><td>162</td><td>220</td><td>286</td><td>360</td></tr>\n",
       "\t<tr><td>247</td><td>322</td><td>405</td><td>496</td></tr>\n",
       "</tbody>\n",
       "</table>\n"
      ],
      "text/latex": [
       "A matrix: 4 × 4 of type int\n",
       "\\begin{tabular}{llll}\n",
       "\t  16 &  40 &  72 & 112\\\\\n",
       "\t  85 & 126 & 175 & 232\\\\\n",
       "\t 162 & 220 & 286 & 360\\\\\n",
       "\t 247 & 322 & 405 & 496\\\\\n",
       "\\end{tabular}\n"
      ],
      "text/markdown": [
       "\n",
       "A matrix: 4 × 4 of type int\n",
       "\n",
       "|  16 |  40 |  72 | 112 |\n",
       "|  85 | 126 | 175 | 232 |\n",
       "| 162 | 220 | 286 | 360 |\n",
       "| 247 | 322 | 405 | 496 |\n",
       "\n"
      ],
      "text/plain": [
       "     [,1] [,2] [,3] [,4]\n",
       "[1,]  16   40   72  112 \n",
       "[2,]  85  126  175  232 \n",
       "[3,] 162  220  286  360 \n",
       "[4,] 247  322  405  496 "
      ]
     },
     "metadata": {},
     "output_type": "display_data"
    },
    {
     "data": {
      "text/html": [
       "<table class=\"dataframe\">\n",
       "<caption>A matrix: 4 × 4 of type dbl</caption>\n",
       "<tbody>\n",
       "\t<tr><td>0.0625000</td><td>0.1000000</td><td>0.1250000</td><td>0.1428571</td></tr>\n",
       "\t<tr><td>0.2941176</td><td>0.2857143</td><td>0.2800000</td><td>0.2758621</td></tr>\n",
       "\t<tr><td>0.5000000</td><td>0.4545455</td><td>0.4230769</td><td>0.4000000</td></tr>\n",
       "\t<tr><td>0.6842105</td><td>0.6086957</td><td>0.5555556</td><td>0.5161290</td></tr>\n",
       "</tbody>\n",
       "</table>\n"
      ],
      "text/latex": [
       "A matrix: 4 × 4 of type dbl\n",
       "\\begin{tabular}{llll}\n",
       "\t 0.0625000 & 0.1000000 & 0.1250000 & 0.1428571\\\\\n",
       "\t 0.2941176 & 0.2857143 & 0.2800000 & 0.2758621\\\\\n",
       "\t 0.5000000 & 0.4545455 & 0.4230769 & 0.4000000\\\\\n",
       "\t 0.6842105 & 0.6086957 & 0.5555556 & 0.5161290\\\\\n",
       "\\end{tabular}\n"
      ],
      "text/markdown": [
       "\n",
       "A matrix: 4 × 4 of type dbl\n",
       "\n",
       "| 0.0625000 | 0.1000000 | 0.1250000 | 0.1428571 |\n",
       "| 0.2941176 | 0.2857143 | 0.2800000 | 0.2758621 |\n",
       "| 0.5000000 | 0.4545455 | 0.4230769 | 0.4000000 |\n",
       "| 0.6842105 | 0.6086957 | 0.5555556 | 0.5161290 |\n",
       "\n"
      ],
      "text/plain": [
       "     [,1]      [,2]      [,3]      [,4]     \n",
       "[1,] 0.0625000 0.1000000 0.1250000 0.1428571\n",
       "[2,] 0.2941176 0.2857143 0.2800000 0.2758621\n",
       "[3,] 0.5000000 0.4545455 0.4230769 0.4000000\n",
       "[4,] 0.6842105 0.6086957 0.5555556 0.5161290"
      ]
     },
     "metadata": {},
     "output_type": "display_data"
    },
    {
     "data": {
      "text/html": [
       "<table class=\"dataframe\">\n",
       "<caption>A matrix: 4 × 4 of type dbl</caption>\n",
       "<tbody>\n",
       "\t<tr><td> 5</td><td>10</td><td>15</td><td>20</td></tr>\n",
       "\t<tr><td>25</td><td>30</td><td>35</td><td>40</td></tr>\n",
       "\t<tr><td>45</td><td>50</td><td>55</td><td>60</td></tr>\n",
       "\t<tr><td>65</td><td>70</td><td>75</td><td>80</td></tr>\n",
       "</tbody>\n",
       "</table>\n"
      ],
      "text/latex": [
       "A matrix: 4 × 4 of type dbl\n",
       "\\begin{tabular}{llll}\n",
       "\t  5 & 10 & 15 & 20\\\\\n",
       "\t 25 & 30 & 35 & 40\\\\\n",
       "\t 45 & 50 & 55 & 60\\\\\n",
       "\t 65 & 70 & 75 & 80\\\\\n",
       "\\end{tabular}\n"
      ],
      "text/markdown": [
       "\n",
       "A matrix: 4 × 4 of type dbl\n",
       "\n",
       "|  5 | 10 | 15 | 20 |\n",
       "| 25 | 30 | 35 | 40 |\n",
       "| 45 | 50 | 55 | 60 |\n",
       "| 65 | 70 | 75 | 80 |\n",
       "\n"
      ],
      "text/plain": [
       "     [,1] [,2] [,3] [,4]\n",
       "[1,]  5   10   15   20  \n",
       "[2,] 25   30   35   40  \n",
       "[3,] 45   50   55   60  \n",
       "[4,] 65   70   75   80  "
      ]
     },
     "metadata": {},
     "output_type": "display_data"
    },
    {
     "data": {
      "text/html": [
       "<table class=\"dataframe\">\n",
       "<caption>A matrix: 4 × 4 of type dbl</caption>\n",
       "<tbody>\n",
       "\t<tr><td> 180</td><td> 220</td><td> 260</td><td> 300</td></tr>\n",
       "\t<tr><td> 460</td><td> 564</td><td> 668</td><td> 772</td></tr>\n",
       "\t<tr><td> 740</td><td> 908</td><td>1076</td><td>1244</td></tr>\n",
       "\t<tr><td>1020</td><td>1252</td><td>1484</td><td>1716</td></tr>\n",
       "</tbody>\n",
       "</table>\n"
      ],
      "text/latex": [
       "A matrix: 4 × 4 of type dbl\n",
       "\\begin{tabular}{llll}\n",
       "\t  180 &  220 &  260 &  300\\\\\n",
       "\t  460 &  564 &  668 &  772\\\\\n",
       "\t  740 &  908 & 1076 & 1244\\\\\n",
       "\t 1020 & 1252 & 1484 & 1716\\\\\n",
       "\\end{tabular}\n"
      ],
      "text/markdown": [
       "\n",
       "A matrix: 4 × 4 of type dbl\n",
       "\n",
       "|  180 |  220 |  260 |  300 |\n",
       "|  460 |  564 |  668 |  772 |\n",
       "|  740 |  908 | 1076 | 1244 |\n",
       "| 1020 | 1252 | 1484 | 1716 |\n",
       "\n"
      ],
      "text/plain": [
       "     [,1] [,2] [,3] [,4]\n",
       "[1,]  180  220  260  300\n",
       "[2,]  460  564  668  772\n",
       "[3,]  740  908 1076 1244\n",
       "[4,] 1020 1252 1484 1716"
      ]
     },
     "metadata": {},
     "output_type": "display_data"
    },
    {
     "data": {
      "text/html": [
       "<table class=\"dataframe\">\n",
       "<caption>A matrix: 4 × 4 of type dbl</caption>\n",
       "<tbody>\n",
       "\t<tr><td>240</td><td>592</td><td> 944</td><td>1296</td></tr>\n",
       "\t<tr><td>250</td><td>618</td><td> 986</td><td>1354</td></tr>\n",
       "\t<tr><td>260</td><td>644</td><td>1028</td><td>1412</td></tr>\n",
       "\t<tr><td>270</td><td>670</td><td>1070</td><td>1470</td></tr>\n",
       "</tbody>\n",
       "</table>\n"
      ],
      "text/latex": [
       "A matrix: 4 × 4 of type dbl\n",
       "\\begin{tabular}{llll}\n",
       "\t 240 & 592 &  944 & 1296\\\\\n",
       "\t 250 & 618 &  986 & 1354\\\\\n",
       "\t 260 & 644 & 1028 & 1412\\\\\n",
       "\t 270 & 670 & 1070 & 1470\\\\\n",
       "\\end{tabular}\n"
      ],
      "text/markdown": [
       "\n",
       "A matrix: 4 × 4 of type dbl\n",
       "\n",
       "| 240 | 592 |  944 | 1296 |\n",
       "| 250 | 618 |  986 | 1354 |\n",
       "| 260 | 644 | 1028 | 1412 |\n",
       "| 270 | 670 | 1070 | 1470 |\n",
       "\n"
      ],
      "text/plain": [
       "     [,1] [,2] [,3] [,4]\n",
       "[1,] 240  592   944 1296\n",
       "[2,] 250  618   986 1354\n",
       "[3,] 260  644  1028 1412\n",
       "[4,] 270  670  1070 1470"
      ]
     },
     "metadata": {},
     "output_type": "display_data"
    }
   ],
   "source": [
    "# Mathematical Operation on Matrix - element-wise\n",
    "A <- matrix(data = 1:16, nrow = 4, ncol = 4,\n",
    "byrow = TRUE); A\n",
    "B <- matrix(data = 16:31, nrow = 4, ncol = 4,\n",
    "byrow = FALSE); B\n",
    "A + B\n",
    "A - B\n",
    "A * B\n",
    "A/B\n",
    "# Matrix Algebra\n",
    "5*A # scalar multiplication\n",
    "A %*% B # matrix multiplication\n",
    "B %*% t(A)"
   ]
  },
  {
   "cell_type": "markdown",
   "id": "64c6ecec",
   "metadata": {},
   "source": [
    "## Example 9(e) - Mean and Sum of Matrix by Row or Column"
   ]
  },
  {
   "cell_type": "code",
   "execution_count": 46,
   "id": "02942751",
   "metadata": {},
   "outputs": [
    {
     "data": {
      "text/html": [
       "<style>\n",
       ".list-inline {list-style: none; margin:0; padding: 0}\n",
       ".list-inline>li {display: inline-block}\n",
       ".list-inline>li:not(:last-child)::after {content: \"\\00b7\"; padding: 0 .5ex}\n",
       "</style>\n",
       "<ol class=list-inline><li>7</li><li>8</li><li>9</li><li>10</li></ol>\n"
      ],
      "text/latex": [
       "\\begin{enumerate*}\n",
       "\\item 7\n",
       "\\item 8\n",
       "\\item 9\n",
       "\\item 10\n",
       "\\end{enumerate*}\n"
      ],
      "text/markdown": [
       "1. 7\n",
       "2. 8\n",
       "3. 9\n",
       "4. 10\n",
       "\n",
       "\n"
      ],
      "text/plain": [
       "[1]  7  8  9 10"
      ]
     },
     "metadata": {},
     "output_type": "display_data"
    },
    {
     "data": {
      "text/html": [
       "<style>\n",
       ".list-inline {list-style: none; margin:0; padding: 0}\n",
       ".list-inline>li {display: inline-block}\n",
       ".list-inline>li:not(:last-child)::after {content: \"\\00b7\"; padding: 0 .5ex}\n",
       "</style>\n",
       "<ol class=list-inline><li>17.5</li><li>21.5</li><li>25.5</li><li>29.5</li></ol>\n"
      ],
      "text/latex": [
       "\\begin{enumerate*}\n",
       "\\item 17.5\n",
       "\\item 21.5\n",
       "\\item 25.5\n",
       "\\item 29.5\n",
       "\\end{enumerate*}\n"
      ],
      "text/markdown": [
       "1. 17.5\n",
       "2. 21.5\n",
       "3. 25.5\n",
       "4. 29.5\n",
       "\n",
       "\n"
      ],
      "text/plain": [
       "[1] 17.5 21.5 25.5 29.5"
      ]
     },
     "metadata": {},
     "output_type": "display_data"
    },
    {
     "data": {
      "text/html": [
       "<style>\n",
       ".list-inline {list-style: none; margin:0; padding: 0}\n",
       ".list-inline>li {display: inline-block}\n",
       ".list-inline>li:not(:last-child)::after {content: \"\\00b7\"; padding: 0 .5ex}\n",
       "</style>\n",
       "<ol class=list-inline><li>2.5</li><li>6.5</li><li>10.5</li><li>14.5</li></ol>\n"
      ],
      "text/latex": [
       "\\begin{enumerate*}\n",
       "\\item 2.5\n",
       "\\item 6.5\n",
       "\\item 10.5\n",
       "\\item 14.5\n",
       "\\end{enumerate*}\n"
      ],
      "text/markdown": [
       "1. 2.5\n",
       "2. 6.5\n",
       "3. 10.5\n",
       "4. 14.5\n",
       "\n",
       "\n"
      ],
      "text/plain": [
       "[1]  2.5  6.5 10.5 14.5"
      ]
     },
     "metadata": {},
     "output_type": "display_data"
    },
    {
     "data": {
      "text/html": [
       "<style>\n",
       ".list-inline {list-style: none; margin:0; padding: 0}\n",
       ".list-inline>li {display: inline-block}\n",
       ".list-inline>li:not(:last-child)::after {content: \"\\00b7\"; padding: 0 .5ex}\n",
       "</style>\n",
       "<ol class=list-inline><li>22</li><li>23</li><li>24</li><li>25</li></ol>\n"
      ],
      "text/latex": [
       "\\begin{enumerate*}\n",
       "\\item 22\n",
       "\\item 23\n",
       "\\item 24\n",
       "\\item 25\n",
       "\\end{enumerate*}\n"
      ],
      "text/markdown": [
       "1. 22\n",
       "2. 23\n",
       "3. 24\n",
       "4. 25\n",
       "\n",
       "\n"
      ],
      "text/plain": [
       "[1] 22 23 24 25"
      ]
     },
     "metadata": {},
     "output_type": "display_data"
    },
    {
     "data": {
      "text/html": [
       "<style>\n",
       ".list-inline {list-style: none; margin:0; padding: 0}\n",
       ".list-inline>li {display: inline-block}\n",
       ".list-inline>li:not(:last-child)::after {content: \"\\00b7\"; padding: 0 .5ex}\n",
       "</style>\n",
       "<ol class=list-inline><li>28</li><li>32</li><li>36</li><li>40</li></ol>\n"
      ],
      "text/latex": [
       "\\begin{enumerate*}\n",
       "\\item 28\n",
       "\\item 32\n",
       "\\item 36\n",
       "\\item 40\n",
       "\\end{enumerate*}\n"
      ],
      "text/markdown": [
       "1. 28\n",
       "2. 32\n",
       "3. 36\n",
       "4. 40\n",
       "\n",
       "\n"
      ],
      "text/plain": [
       "[1] 28 32 36 40"
      ]
     },
     "metadata": {},
     "output_type": "display_data"
    },
    {
     "data": {
      "text/html": [
       "<style>\n",
       ".list-inline {list-style: none; margin:0; padding: 0}\n",
       ".list-inline>li {display: inline-block}\n",
       ".list-inline>li:not(:last-child)::after {content: \"\\00b7\"; padding: 0 .5ex}\n",
       "</style>\n",
       "<ol class=list-inline><li>70</li><li>86</li><li>102</li><li>118</li></ol>\n"
      ],
      "text/latex": [
       "\\begin{enumerate*}\n",
       "\\item 70\n",
       "\\item 86\n",
       "\\item 102\n",
       "\\item 118\n",
       "\\end{enumerate*}\n"
      ],
      "text/markdown": [
       "1. 70\n",
       "2. 86\n",
       "3. 102\n",
       "4. 118\n",
       "\n",
       "\n"
      ],
      "text/plain": [
       "[1]  70  86 102 118"
      ]
     },
     "metadata": {},
     "output_type": "display_data"
    },
    {
     "data": {
      "text/html": [
       "<style>\n",
       ".list-inline {list-style: none; margin:0; padding: 0}\n",
       ".list-inline>li {display: inline-block}\n",
       ".list-inline>li:not(:last-child)::after {content: \"\\00b7\"; padding: 0 .5ex}\n",
       "</style>\n",
       "<ol class=list-inline><li>10</li><li>26</li><li>42</li><li>58</li></ol>\n"
      ],
      "text/latex": [
       "\\begin{enumerate*}\n",
       "\\item 10\n",
       "\\item 26\n",
       "\\item 42\n",
       "\\item 58\n",
       "\\end{enumerate*}\n"
      ],
      "text/markdown": [
       "1. 10\n",
       "2. 26\n",
       "3. 42\n",
       "4. 58\n",
       "\n",
       "\n"
      ],
      "text/plain": [
       "[1] 10 26 42 58"
      ]
     },
     "metadata": {},
     "output_type": "display_data"
    },
    {
     "data": {
      "text/html": [
       "<style>\n",
       ".list-inline {list-style: none; margin:0; padding: 0}\n",
       ".list-inline>li {display: inline-block}\n",
       ".list-inline>li:not(:last-child)::after {content: \"\\00b7\"; padding: 0 .5ex}\n",
       "</style>\n",
       "<ol class=list-inline><li>88</li><li>92</li><li>96</li><li>100</li></ol>\n"
      ],
      "text/latex": [
       "\\begin{enumerate*}\n",
       "\\item 88\n",
       "\\item 92\n",
       "\\item 96\n",
       "\\item 100\n",
       "\\end{enumerate*}\n"
      ],
      "text/markdown": [
       "1. 88\n",
       "2. 92\n",
       "3. 96\n",
       "4. 100\n",
       "\n",
       "\n"
      ],
      "text/plain": [
       "[1]  88  92  96 100"
      ]
     },
     "metadata": {},
     "output_type": "display_data"
    },
    {
     "data": {
      "text/plain": [
       "eigen() decomposition\n",
       "$values\n",
       "[1]  3.620937e+01 -2.209373e+00 -3.188632e-15 -1.348401e-16\n",
       "\n",
       "$vectors\n",
       "           [,1]       [,2]       [,3]        [,4]\n",
       "[1,] -0.1511543  0.7270500  0.5037002 -0.06456091\n",
       "[2,] -0.3492373  0.2832088 -0.8319577 -0.31932112\n",
       "[3,] -0.5473203 -0.1606324  0.1528148  0.83232496\n",
       "[4,] -0.7454033 -0.6044736  0.1754427 -0.44844294\n"
      ]
     },
     "metadata": {},
     "output_type": "display_data"
    },
    {
     "data": {
      "text/html": [
       "<style>\n",
       ".list-inline {list-style: none; margin:0; padding: 0}\n",
       ".list-inline>li {display: inline-block}\n",
       ".list-inline>li:not(:last-child)::after {content: \"\\00b7\"; padding: 0 .5ex}\n",
       "</style>\n",
       "<ol class=list-inline><li>36.2093727122986</li><li>-2.20937271229855</li><li>-3.18863231840111e-15</li><li>-1.34840081448312e-16</li></ol>\n"
      ],
      "text/latex": [
       "\\begin{enumerate*}\n",
       "\\item 36.2093727122986\n",
       "\\item -2.20937271229855\n",
       "\\item -3.18863231840111e-15\n",
       "\\item -1.34840081448312e-16\n",
       "\\end{enumerate*}\n"
      ],
      "text/markdown": [
       "1. 36.2093727122986\n",
       "2. -2.20937271229855\n",
       "3. -3.18863231840111e-15\n",
       "4. -1.34840081448312e-16\n",
       "\n",
       "\n"
      ],
      "text/plain": [
       "[1]  3.620937e+01 -2.209373e+00 -3.188632e-15 -1.348401e-16"
      ]
     },
     "metadata": {},
     "output_type": "display_data"
    },
    {
     "data": {
      "text/html": [
       "<table class=\"dataframe\">\n",
       "<caption>A matrix: 4 × 4 of type dbl</caption>\n",
       "<tbody>\n",
       "\t<tr><td>-0.1511543</td><td> 0.7270500</td><td> 0.5037002</td><td>-0.06456091</td></tr>\n",
       "\t<tr><td>-0.3492373</td><td> 0.2832088</td><td>-0.8319577</td><td>-0.31932112</td></tr>\n",
       "\t<tr><td>-0.5473203</td><td>-0.1606324</td><td> 0.1528148</td><td> 0.83232496</td></tr>\n",
       "\t<tr><td>-0.7454033</td><td>-0.6044736</td><td> 0.1754427</td><td>-0.44844294</td></tr>\n",
       "</tbody>\n",
       "</table>\n"
      ],
      "text/latex": [
       "A matrix: 4 × 4 of type dbl\n",
       "\\begin{tabular}{llll}\n",
       "\t -0.1511543 &  0.7270500 &  0.5037002 & -0.06456091\\\\\n",
       "\t -0.3492373 &  0.2832088 & -0.8319577 & -0.31932112\\\\\n",
       "\t -0.5473203 & -0.1606324 &  0.1528148 &  0.83232496\\\\\n",
       "\t -0.7454033 & -0.6044736 &  0.1754427 & -0.44844294\\\\\n",
       "\\end{tabular}\n"
      ],
      "text/markdown": [
       "\n",
       "A matrix: 4 × 4 of type dbl\n",
       "\n",
       "| -0.1511543 |  0.7270500 |  0.5037002 | -0.06456091 |\n",
       "| -0.3492373 |  0.2832088 | -0.8319577 | -0.31932112 |\n",
       "| -0.5473203 | -0.1606324 |  0.1528148 |  0.83232496 |\n",
       "| -0.7454033 | -0.6044736 |  0.1754427 | -0.44844294 |\n",
       "\n"
      ],
      "text/plain": [
       "     [,1]       [,2]       [,3]       [,4]       \n",
       "[1,] -0.1511543  0.7270500  0.5037002 -0.06456091\n",
       "[2,] -0.3492373  0.2832088 -0.8319577 -0.31932112\n",
       "[3,] -0.5473203 -0.1606324  0.1528148  0.83232496\n",
       "[4,] -0.7454033 -0.6044736  0.1754427 -0.44844294"
      ]
     },
     "metadata": {},
     "output_type": "display_data"
    }
   ],
   "source": [
    "# Calculate mean by column-wise and row-wise\n",
    "colMeans(A); colMeans(B)\n",
    "rowMeans(A); rowMeans(B)\n",
    "# Calculate sum by column-wise and row-wise\n",
    "colSums(A); colSums(B)\n",
    "rowSums(A); rowSums(B)\n",
    "# eigen values and eigen vectors\n",
    "eigA <- eigen(A); eigA\n",
    "eigA$values\n",
    "eigA$vectors"
   ]
  },
  {
   "cell_type": "markdown",
   "id": "2c772499",
   "metadata": {},
   "source": [
    "## Example 10 - Lists"
   ]
  },
  {
   "cell_type": "code",
   "execution_count": 47,
   "id": "548bd961",
   "metadata": {},
   "outputs": [
    {
     "data": {
      "text/html": [
       "<ol>\n",
       "\t<li><style>\n",
       ".list-inline {list-style: none; margin:0; padding: 0}\n",
       ".list-inline>li {display: inline-block}\n",
       ".list-inline>li:not(:last-child)::after {content: \"\\00b7\"; padding: 0 .5ex}\n",
       "</style>\n",
       "<ol class=list-inline><li>5</li><li>18</li><li>20</li></ol>\n",
       "</li>\n",
       "\t<li><style>\n",
       ".list-inline {list-style: none; margin:0; padding: 0}\n",
       ".list-inline>li {display: inline-block}\n",
       ".list-inline>li:not(:last-child)::after {content: \"\\00b7\"; padding: 0 .5ex}\n",
       "</style>\n",
       "<ol class=list-inline><li>'Data Science'</li><li>'Data Analytics'</li><li>'Data Mining'</li></ol>\n",
       "</li>\n",
       "\t<li><style>\n",
       ".list-inline {list-style: none; margin:0; padding: 0}\n",
       ".list-inline>li {display: inline-block}\n",
       ".list-inline>li:not(:last-child)::after {content: \"\\00b7\"; padding: 0 .5ex}\n",
       "</style>\n",
       "<ol class=list-inline><li>TRUE</li><li>FALSE</li><li>TRUE</li><li>FALSE</li></ol>\n",
       "</li>\n",
       "</ol>\n"
      ],
      "text/latex": [
       "\\begin{enumerate}\n",
       "\\item \\begin{enumerate*}\n",
       "\\item 5\n",
       "\\item 18\n",
       "\\item 20\n",
       "\\end{enumerate*}\n",
       "\n",
       "\\item \\begin{enumerate*}\n",
       "\\item 'Data Science'\n",
       "\\item 'Data Analytics'\n",
       "\\item 'Data Mining'\n",
       "\\end{enumerate*}\n",
       "\n",
       "\\item \\begin{enumerate*}\n",
       "\\item TRUE\n",
       "\\item FALSE\n",
       "\\item TRUE\n",
       "\\item FALSE\n",
       "\\end{enumerate*}\n",
       "\n",
       "\\end{enumerate}\n"
      ],
      "text/markdown": [
       "1. 1. 5\n",
       "2. 18\n",
       "3. 20\n",
       "\n",
       "\n",
       "\n",
       "2. 1. 'Data Science'\n",
       "2. 'Data Analytics'\n",
       "3. 'Data Mining'\n",
       "\n",
       "\n",
       "\n",
       "3. 1. TRUE\n",
       "2. FALSE\n",
       "3. TRUE\n",
       "4. FALSE\n",
       "\n",
       "\n",
       "\n",
       "\n",
       "\n"
      ],
      "text/plain": [
       "[[1]]\n",
       "[1]  5 18 20\n",
       "\n",
       "[[2]]\n",
       "[1] \"Data Science\"   \"Data Analytics\" \"Data Mining\"   \n",
       "\n",
       "[[3]]\n",
       "[1]  TRUE FALSE  TRUE FALSE\n"
      ]
     },
     "metadata": {},
     "output_type": "display_data"
    },
    {
     "data": {
      "text/html": [
       "<style>\n",
       ".list-inline {list-style: none; margin:0; padding: 0}\n",
       ".list-inline>li {display: inline-block}\n",
       ".list-inline>li:not(:last-child)::after {content: \"\\00b7\"; padding: 0 .5ex}\n",
       "</style>\n",
       "<ol class=list-inline><li>'Data Science'</li><li>'Data Analytics'</li><li>'Data Mining'</li></ol>\n"
      ],
      "text/latex": [
       "\\begin{enumerate*}\n",
       "\\item 'Data Science'\n",
       "\\item 'Data Analytics'\n",
       "\\item 'Data Mining'\n",
       "\\end{enumerate*}\n"
      ],
      "text/markdown": [
       "1. 'Data Science'\n",
       "2. 'Data Analytics'\n",
       "3. 'Data Mining'\n",
       "\n",
       "\n"
      ],
      "text/plain": [
       "[1] \"Data Science\"   \"Data Analytics\" \"Data Mining\"   "
      ]
     },
     "metadata": {},
     "output_type": "display_data"
    },
    {
     "data": {
      "text/html": [
       "<ol>\n",
       "\t<li><style>\n",
       ".list-inline {list-style: none; margin:0; padding: 0}\n",
       ".list-inline>li {display: inline-block}\n",
       ".list-inline>li:not(:last-child)::after {content: \"\\00b7\"; padding: 0 .5ex}\n",
       "</style>\n",
       "<ol class=list-inline><li>'Mon'</li><li>'Tue'</li><li>'Wed'</li></ol>\n",
       "</li>\n",
       "\t<li><table class=\"dataframe\">\n",
       "<caption>A matrix: 2 × 2 of type dbl</caption>\n",
       "<tbody>\n",
       "\t<tr><td>2</td><td>6</td></tr>\n",
       "\t<tr><td>4</td><td>8</td></tr>\n",
       "</tbody>\n",
       "</table>\n",
       "</li>\n",
       "\t<li><ol>\n",
       "\t<li>'Red'</li>\n",
       "\t<li>12.3</li>\n",
       "</ol>\n",
       "</li>\n",
       "</ol>\n"
      ],
      "text/latex": [
       "\\begin{enumerate}\n",
       "\\item \\begin{enumerate*}\n",
       "\\item 'Mon'\n",
       "\\item 'Tue'\n",
       "\\item 'Wed'\n",
       "\\end{enumerate*}\n",
       "\n",
       "\\item A matrix: 2 × 2 of type dbl\n",
       "\\begin{tabular}{ll}\n",
       "\t 2 & 6\\\\\n",
       "\t 4 & 8\\\\\n",
       "\\end{tabular}\n",
       "\n",
       "\\item \\begin{enumerate}\n",
       "\\item 'Red'\n",
       "\\item 12.3\n",
       "\\end{enumerate}\n",
       "\n",
       "\\end{enumerate}\n"
      ],
      "text/markdown": [
       "1. 1. 'Mon'\n",
       "2. 'Tue'\n",
       "3. 'Wed'\n",
       "\n",
       "\n",
       "\n",
       "2. \n",
       "A matrix: 2 × 2 of type dbl\n",
       "\n",
       "| 2 | 6 |\n",
       "| 4 | 8 |\n",
       "\n",
       "\n",
       "3. 1. 'Red'\n",
       "2. 12.3\n",
       "\n",
       "\n",
       "\n",
       "\n",
       "\n"
      ],
      "text/plain": [
       "[[1]]\n",
       "[1] \"Mon\" \"Tue\" \"Wed\"\n",
       "\n",
       "[[2]]\n",
       "     [,1] [,2]\n",
       "[1,]    2    6\n",
       "[2,]    4    8\n",
       "\n",
       "[[3]]\n",
       "[[3]][[1]]\n",
       "[1] \"Red\"\n",
       "\n",
       "[[3]][[2]]\n",
       "[1] 12.3\n",
       "\n"
      ]
     },
     "metadata": {},
     "output_type": "display_data"
    },
    {
     "data": {
      "text/html": [
       "<dl>\n",
       "\t<dt>$Day</dt>\n",
       "\t\t<dd><style>\n",
       ".list-inline {list-style: none; margin:0; padding: 0}\n",
       ".list-inline>li {display: inline-block}\n",
       ".list-inline>li:not(:last-child)::after {content: \"\\00b7\"; padding: 0 .5ex}\n",
       "</style>\n",
       "<ol class=list-inline><li>'Mon'</li><li>'Tue'</li><li>'Wed'</li></ol>\n",
       "</dd>\n",
       "\t<dt>$Matrix</dt>\n",
       "\t\t<dd><table class=\"dataframe\">\n",
       "<caption>A matrix: 2 × 2 of type dbl</caption>\n",
       "<tbody>\n",
       "\t<tr><td>2</td><td>6</td></tr>\n",
       "\t<tr><td>4</td><td>8</td></tr>\n",
       "</tbody>\n",
       "</table>\n",
       "</dd>\n",
       "\t<dt>$Variety</dt>\n",
       "\t\t<dd><ol>\n",
       "\t<li>'Red'</li>\n",
       "\t<li>12.3</li>\n",
       "</ol>\n",
       "</dd>\n",
       "</dl>\n"
      ],
      "text/latex": [
       "\\begin{description}\n",
       "\\item[\\$Day] \\begin{enumerate*}\n",
       "\\item 'Mon'\n",
       "\\item 'Tue'\n",
       "\\item 'Wed'\n",
       "\\end{enumerate*}\n",
       "\n",
       "\\item[\\$Matrix] A matrix: 2 × 2 of type dbl\n",
       "\\begin{tabular}{ll}\n",
       "\t 2 & 6\\\\\n",
       "\t 4 & 8\\\\\n",
       "\\end{tabular}\n",
       "\n",
       "\\item[\\$Variety] \\begin{enumerate}\n",
       "\\item 'Red'\n",
       "\\item 12.3\n",
       "\\end{enumerate}\n",
       "\n",
       "\\end{description}\n"
      ],
      "text/markdown": [
       "$Day\n",
       ":   1. 'Mon'\n",
       "2. 'Tue'\n",
       "3. 'Wed'\n",
       "\n",
       "\n",
       "\n",
       "$Matrix\n",
       ":   \n",
       "A matrix: 2 × 2 of type dbl\n",
       "\n",
       "| 2 | 6 |\n",
       "| 4 | 8 |\n",
       "\n",
       "\n",
       "$Variety\n",
       ":   1. 'Red'\n",
       "2. 12.3\n",
       "\n",
       "\n",
       "\n",
       "\n",
       "\n"
      ],
      "text/plain": [
       "$Day\n",
       "[1] \"Mon\" \"Tue\" \"Wed\"\n",
       "\n",
       "$Matrix\n",
       "     [,1] [,2]\n",
       "[1,]    2    6\n",
       "[2,]    4    8\n",
       "\n",
       "$Variety\n",
       "$Variety[[1]]\n",
       "[1] \"Red\"\n",
       "\n",
       "$Variety[[2]]\n",
       "[1] 12.3\n",
       "\n"
      ]
     },
     "metadata": {},
     "output_type": "display_data"
    },
    {
     "data": {
      "text/html": [
       "3"
      ],
      "text/latex": [
       "3"
      ],
      "text/markdown": [
       "3"
      ],
      "text/plain": [
       "[1] 3"
      ]
     },
     "metadata": {},
     "output_type": "display_data"
    },
    {
     "data": {
      "text/html": [
       "<style>\n",
       ".list-inline {list-style: none; margin:0; padding: 0}\n",
       ".list-inline>li {display: inline-block}\n",
       ".list-inline>li:not(:last-child)::after {content: \"\\00b7\"; padding: 0 .5ex}\n",
       "</style>\n",
       "<ol class=list-inline><li>'Day'</li><li>'Matrix'</li><li>'Variety'</li></ol>\n"
      ],
      "text/latex": [
       "\\begin{enumerate*}\n",
       "\\item 'Day'\n",
       "\\item 'Matrix'\n",
       "\\item 'Variety'\n",
       "\\end{enumerate*}\n"
      ],
      "text/markdown": [
       "1. 'Day'\n",
       "2. 'Matrix'\n",
       "3. 'Variety'\n",
       "\n",
       "\n"
      ],
      "text/plain": [
       "[1] \"Day\"     \"Matrix\"  \"Variety\""
      ]
     },
     "metadata": {},
     "output_type": "display_data"
    },
    {
     "data": {
      "text/html": [
       "'list'"
      ],
      "text/latex": [
       "'list'"
      ],
      "text/markdown": [
       "'list'"
      ],
      "text/plain": [
       "[1] \"list\""
      ]
     },
     "metadata": {},
     "output_type": "display_data"
    },
    {
     "name": "stdout",
     "output_type": "stream",
     "text": [
      "List of 3\n",
      " $ Day    : chr [1:3] \"Mon\" \"Tue\" \"Wed\"\n",
      " $ Matrix : num [1:2, 1:2] 2 4 6 8\n",
      " $ Variety:List of 2\n",
      "  ..$ : chr \"Red\"\n",
      "  ..$ : num 12.3\n"
     ]
    }
   ],
   "source": [
    "# list contain vector, string & logical components\n",
    "vec <- c(5,18,20)\n",
    "char_vec <- c(\"Data Science\", \"Data Analytics\",\n",
    "\"Data Mining\")\n",
    "logic_vec <- c(TRUE,FALSE,TRUE,FALSE)\n",
    "out_list <- list(vec,char_vec,logic_vec); out_list\n",
    "out_list[[2]] # second component\n",
    "# list contain string, matrix, list & logical components\n",
    "data_list <- list(c(\"Mon\",\"Tue\",\"Wed\"), matrix(c(2,4,6,8),\n",
    "nrow = 2),list(\"Red\",12.3))\n",
    "data_list\n",
    "names(data_list) <- c(\"Day\",\"Matrix\",\"Variety\")\n",
    "data_list\n",
    "length(data_list) #length of data\n",
    "ls(data_list) #list all the components\n",
    "class(data_list) #classify the component\n",
    "str(data_list) #data structure\n"
   ]
  },
  {
   "cell_type": "markdown",
   "id": "e0a888fb",
   "metadata": {},
   "source": [
    "## Example 11 - Data Frames"
   ]
  },
  {
   "cell_type": "code",
   "execution_count": 48,
   "id": "06598006",
   "metadata": {},
   "outputs": [
    {
     "data": {
      "text/html": [
       "<table class=\"dataframe\">\n",
       "<caption>A data.frame: 4 × 3</caption>\n",
       "<thead>\n",
       "\t<tr><th scope=col>ID</th><th scope=col>Color</th><th scope=col>Status</th></tr>\n",
       "\t<tr><th scope=col>&lt;dbl&gt;</th><th scope=col>&lt;chr&gt;</th><th scope=col>&lt;lgl&gt;</th></tr>\n",
       "</thead>\n",
       "<tbody>\n",
       "\t<tr><td>1</td><td>red  </td><td> TRUE</td></tr>\n",
       "\t<tr><td>2</td><td>white</td><td> TRUE</td></tr>\n",
       "\t<tr><td>3</td><td>red  </td><td> TRUE</td></tr>\n",
       "\t<tr><td>4</td><td>NA   </td><td>FALSE</td></tr>\n",
       "</tbody>\n",
       "</table>\n"
      ],
      "text/latex": [
       "A data.frame: 4 × 3\n",
       "\\begin{tabular}{lll}\n",
       " ID & Color & Status\\\\\n",
       " <dbl> & <chr> & <lgl>\\\\\n",
       "\\hline\n",
       "\t 1 & red   &  TRUE\\\\\n",
       "\t 2 & white &  TRUE\\\\\n",
       "\t 3 & red   &  TRUE\\\\\n",
       "\t 4 & NA    & FALSE\\\\\n",
       "\\end{tabular}\n"
      ],
      "text/markdown": [
       "\n",
       "A data.frame: 4 × 3\n",
       "\n",
       "| ID &lt;dbl&gt; | Color &lt;chr&gt; | Status &lt;lgl&gt; |\n",
       "|---|---|---|\n",
       "| 1 | red   |  TRUE |\n",
       "| 2 | white |  TRUE |\n",
       "| 3 | red   |  TRUE |\n",
       "| 4 | NA    | FALSE |\n",
       "\n"
      ],
      "text/plain": [
       "  ID Color Status\n",
       "1 1  red    TRUE \n",
       "2 2  white  TRUE \n",
       "3 3  red    TRUE \n",
       "4 4  NA    FALSE "
      ]
     },
     "metadata": {},
     "output_type": "display_data"
    },
    {
     "data": {
      "text/html": [
       "<style>\n",
       ".list-inline {list-style: none; margin:0; padding: 0}\n",
       ".list-inline>li {display: inline-block}\n",
       ".list-inline>li:not(:last-child)::after {content: \"\\00b7\"; padding: 0 .5ex}\n",
       "</style>\n",
       "<ol class=list-inline><li>TRUE</li><li>TRUE</li><li>TRUE</li><li>FALSE</li></ol>\n"
      ],
      "text/latex": [
       "\\begin{enumerate*}\n",
       "\\item TRUE\n",
       "\\item TRUE\n",
       "\\item TRUE\n",
       "\\item FALSE\n",
       "\\end{enumerate*}\n"
      ],
      "text/markdown": [
       "1. TRUE\n",
       "2. TRUE\n",
       "3. TRUE\n",
       "4. FALSE\n",
       "\n",
       "\n"
      ],
      "text/plain": [
       "[1]  TRUE  TRUE  TRUE FALSE"
      ]
     },
     "metadata": {},
     "output_type": "display_data"
    },
    {
     "data": {
      "text/html": [
       "<style>\n",
       ".list-inline {list-style: none; margin:0; padding: 0}\n",
       ".list-inline>li {display: inline-block}\n",
       ".list-inline>li:not(:last-child)::after {content: \"\\00b7\"; padding: 0 .5ex}\n",
       "</style>\n",
       "<ol class=list-inline><li>TRUE</li><li>TRUE</li><li>TRUE</li><li>FALSE</li></ol>\n"
      ],
      "text/latex": [
       "\\begin{enumerate*}\n",
       "\\item TRUE\n",
       "\\item TRUE\n",
       "\\item TRUE\n",
       "\\item FALSE\n",
       "\\end{enumerate*}\n"
      ],
      "text/markdown": [
       "1. TRUE\n",
       "2. TRUE\n",
       "3. TRUE\n",
       "4. FALSE\n",
       "\n",
       "\n"
      ],
      "text/plain": [
       "[1]  TRUE  TRUE  TRUE FALSE"
      ]
     },
     "metadata": {},
     "output_type": "display_data"
    },
    {
     "data": {
      "text/html": [
       "<table class=\"dataframe\">\n",
       "<caption>A data.frame: 10 × 3</caption>\n",
       "<thead>\n",
       "\t<tr><th scope=col>id</th><th scope=col>x</th><th scope=col>y</th></tr>\n",
       "\t<tr><th scope=col>&lt;chr&gt;</th><th scope=col>&lt;int&gt;</th><th scope=col>&lt;chr&gt;</th></tr>\n",
       "</thead>\n",
       "<tbody>\n",
       "\t<tr><td>a</td><td> 1</td><td>January  </td></tr>\n",
       "\t<tr><td>b</td><td> 2</td><td>February </td></tr>\n",
       "\t<tr><td>c</td><td> 3</td><td>March    </td></tr>\n",
       "\t<tr><td>d</td><td> 4</td><td>April    </td></tr>\n",
       "\t<tr><td>e</td><td> 5</td><td>May      </td></tr>\n",
       "\t<tr><td>f</td><td> 6</td><td>June     </td></tr>\n",
       "\t<tr><td>g</td><td> 7</td><td>July     </td></tr>\n",
       "\t<tr><td>h</td><td> 8</td><td>August   </td></tr>\n",
       "\t<tr><td>i</td><td> 9</td><td>September</td></tr>\n",
       "\t<tr><td>j</td><td>10</td><td>October  </td></tr>\n",
       "</tbody>\n",
       "</table>\n"
      ],
      "text/latex": [
       "A data.frame: 10 × 3\n",
       "\\begin{tabular}{lll}\n",
       " id & x & y\\\\\n",
       " <chr> & <int> & <chr>\\\\\n",
       "\\hline\n",
       "\t a &  1 & January  \\\\\n",
       "\t b &  2 & February \\\\\n",
       "\t c &  3 & March    \\\\\n",
       "\t d &  4 & April    \\\\\n",
       "\t e &  5 & May      \\\\\n",
       "\t f &  6 & June     \\\\\n",
       "\t g &  7 & July     \\\\\n",
       "\t h &  8 & August   \\\\\n",
       "\t i &  9 & September\\\\\n",
       "\t j & 10 & October  \\\\\n",
       "\\end{tabular}\n"
      ],
      "text/markdown": [
       "\n",
       "A data.frame: 10 × 3\n",
       "\n",
       "| id &lt;chr&gt; | x &lt;int&gt; | y &lt;chr&gt; |\n",
       "|---|---|---|\n",
       "| a |  1 | January   |\n",
       "| b |  2 | February  |\n",
       "| c |  3 | March     |\n",
       "| d |  4 | April     |\n",
       "| e |  5 | May       |\n",
       "| f |  6 | June      |\n",
       "| g |  7 | July      |\n",
       "| h |  8 | August    |\n",
       "| i |  9 | September |\n",
       "| j | 10 | October   |\n",
       "\n"
      ],
      "text/plain": [
       "   id x  y        \n",
       "1  a   1 January  \n",
       "2  b   2 February \n",
       "3  c   3 March    \n",
       "4  d   4 April    \n",
       "5  e   5 May      \n",
       "6  f   6 June     \n",
       "7  g   7 July     \n",
       "8  h   8 August   \n",
       "9  i   9 September\n",
       "10 j  10 October  "
      ]
     },
     "metadata": {},
     "output_type": "display_data"
    },
    {
     "data": {
      "text/html": [
       "<table class=\"dataframe\">\n",
       "<caption>A data.frame: 10 × 3</caption>\n",
       "<thead>\n",
       "\t<tr><th scope=col>Letter</th><th scope=col>Number</th><th scope=col>Month</th></tr>\n",
       "\t<tr><th scope=col>&lt;chr&gt;</th><th scope=col>&lt;int&gt;</th><th scope=col>&lt;chr&gt;</th></tr>\n",
       "</thead>\n",
       "<tbody>\n",
       "\t<tr><td>a</td><td> 1</td><td>January  </td></tr>\n",
       "\t<tr><td>b</td><td> 2</td><td>February </td></tr>\n",
       "\t<tr><td>c</td><td> 3</td><td>March    </td></tr>\n",
       "\t<tr><td>d</td><td> 4</td><td>April    </td></tr>\n",
       "\t<tr><td>e</td><td> 5</td><td>May      </td></tr>\n",
       "\t<tr><td>f</td><td> 6</td><td>June     </td></tr>\n",
       "\t<tr><td>g</td><td> 7</td><td>July     </td></tr>\n",
       "\t<tr><td>h</td><td> 8</td><td>August   </td></tr>\n",
       "\t<tr><td>i</td><td> 9</td><td>September</td></tr>\n",
       "\t<tr><td>j</td><td>10</td><td>October  </td></tr>\n",
       "</tbody>\n",
       "</table>\n"
      ],
      "text/latex": [
       "A data.frame: 10 × 3\n",
       "\\begin{tabular}{lll}\n",
       " Letter & Number & Month\\\\\n",
       " <chr> & <int> & <chr>\\\\\n",
       "\\hline\n",
       "\t a &  1 & January  \\\\\n",
       "\t b &  2 & February \\\\\n",
       "\t c &  3 & March    \\\\\n",
       "\t d &  4 & April    \\\\\n",
       "\t e &  5 & May      \\\\\n",
       "\t f &  6 & June     \\\\\n",
       "\t g &  7 & July     \\\\\n",
       "\t h &  8 & August   \\\\\n",
       "\t i &  9 & September\\\\\n",
       "\t j & 10 & October  \\\\\n",
       "\\end{tabular}\n"
      ],
      "text/markdown": [
       "\n",
       "A data.frame: 10 × 3\n",
       "\n",
       "| Letter &lt;chr&gt; | Number &lt;int&gt; | Month &lt;chr&gt; |\n",
       "|---|---|---|\n",
       "| a |  1 | January   |\n",
       "| b |  2 | February  |\n",
       "| c |  3 | March     |\n",
       "| d |  4 | April     |\n",
       "| e |  5 | May       |\n",
       "| f |  6 | June      |\n",
       "| g |  7 | July      |\n",
       "| h |  8 | August    |\n",
       "| i |  9 | September |\n",
       "| j | 10 | October   |\n",
       "\n"
      ],
      "text/plain": [
       "   Letter Number Month    \n",
       "1  a       1     January  \n",
       "2  b       2     February \n",
       "3  c       3     March    \n",
       "4  d       4     April    \n",
       "5  e       5     May      \n",
       "6  f       6     June     \n",
       "7  g       7     July     \n",
       "8  h       8     August   \n",
       "9  i       9     September\n",
       "10 j      10     October  "
      ]
     },
     "metadata": {},
     "output_type": "display_data"
    }
   ],
   "source": [
    "# create data frames\n",
    "d <- c(1,2,3,4)\n",
    "e <- c(\"red\", \"white\", \"red\", NA)\n",
    "f <- c(TRUE,TRUE,TRUE,FALSE)\n",
    "mydata <- data.frame(d,e,f)\n",
    "names(mydata) <- c(\"ID\",\"Color\",\"Status\")\n",
    "mydata\n",
    "mydata[[3]]\n",
    "mydata$Status\n",
    "id_dt <- data.frame(id = letters[1:10], x = 1:10,\n",
    "y = month.name[1:10])\n",
    "id_dt\n",
    "names(id_dt) <- c(\"Letter\",\"Number\",\"Month\")\n",
    "id_dt"
   ]
  },
  {
   "cell_type": "markdown",
   "id": "60060127",
   "metadata": {},
   "source": [
    "## Example 12(a)"
   ]
  },
  {
   "cell_type": "code",
   "execution_count": 52,
   "id": "c223be99",
   "metadata": {},
   "outputs": [
    {
     "data": {
      "text/html": [
       "<style>\n",
       ".list-inline {list-style: none; margin:0; padding: 0}\n",
       ".list-inline>li {display: inline-block}\n",
       ".list-inline>li:not(:last-child)::after {content: \"\\00b7\"; padding: 0 .5ex}\n",
       "</style>\n",
       "<ol class=list-inline><li>5</li><li>9</li><li>3</li><li>20</li><li>-1</li><li>0</li><li>10</li><li>11</li><li>12</li><li>13</li><li>14</li><li>15</li><li>5</li><li>9</li><li>3</li><li>20</li><li>-1</li><li>0</li><li>10</li><li>11</li><li>12</li><li>13</li><li>14</li><li>15</li></ol>\n"
      ],
      "text/latex": [
       "\\begin{enumerate*}\n",
       "\\item 5\n",
       "\\item 9\n",
       "\\item 3\n",
       "\\item 20\n",
       "\\item -1\n",
       "\\item 0\n",
       "\\item 10\n",
       "\\item 11\n",
       "\\item 12\n",
       "\\item 13\n",
       "\\item 14\n",
       "\\item 15\n",
       "\\item 5\n",
       "\\item 9\n",
       "\\item 3\n",
       "\\item 20\n",
       "\\item -1\n",
       "\\item 0\n",
       "\\item 10\n",
       "\\item 11\n",
       "\\item 12\n",
       "\\item 13\n",
       "\\item 14\n",
       "\\item 15\n",
       "\\end{enumerate*}\n"
      ],
      "text/markdown": [
       "1. 5\n",
       "2. 9\n",
       "3. 3\n",
       "4. 20\n",
       "5. -1\n",
       "6. 0\n",
       "7. 10\n",
       "8. 11\n",
       "9. 12\n",
       "10. 13\n",
       "11. 14\n",
       "12. 15\n",
       "13. 5\n",
       "14. 9\n",
       "15. 3\n",
       "16. 20\n",
       "17. -1\n",
       "18. 0\n",
       "19. 10\n",
       "20. 11\n",
       "21. 12\n",
       "22. 13\n",
       "23. 14\n",
       "24. 15\n",
       "\n",
       "\n"
      ],
      "text/plain": [
       ", , 1\n",
       "\n",
       "     [,1] [,2] [,3]\n",
       "[1,]    5   -1   12\n",
       "[2,]    9    0   13\n",
       "[3,]    3   10   14\n",
       "[4,]   20   11   15\n",
       "\n",
       ", , 2\n",
       "\n",
       "     [,1] [,2] [,3]\n",
       "[1,]    5   -1   12\n",
       "[2,]    9    0   13\n",
       "[3,]    3   10   14\n",
       "[4,]   20   11   15\n"
      ]
     },
     "metadata": {},
     "output_type": "display_data"
    }
   ],
   "source": [
    "# Create two vectors of different lengths.\n",
    "vt1 <- c(5,9,3,20,-1,0)\n",
    "vt2 <- c(10,11,12,13,14,15)\n",
    "vt_all <- c(vt1,vt2)\n",
    "array1 <- array(vt_all,dim=c(4,3,2))\n",
    "array1\n"
   ]
  },
  {
   "cell_type": "code",
   "execution_count": 53,
   "id": "66ed2a81",
   "metadata": {},
   "outputs": [
    {
     "data": {
      "text/html": [
       "<style>\n",
       ".list-inline {list-style: none; margin:0; padding: 0}\n",
       ".list-inline>li {display: inline-block}\n",
       ".list-inline>li:not(:last-child)::after {content: \"\\00b7\"; padding: 0 .5ex}\n",
       "</style>\n",
       "<ol class=list-inline><li>5</li><li>9</li><li>3</li><li>20</li><li>-1</li><li>0</li><li>10</li><li>11</li><li>12</li><li>13</li><li>14</li><li>15</li><li>5</li><li>9</li><li>3</li><li>20</li><li>-1</li><li>0</li><li>10</li><li>11</li><li>12</li><li>13</li><li>14</li><li>15</li></ol>\n"
      ],
      "text/latex": [
       "\\begin{enumerate*}\n",
       "\\item 5\n",
       "\\item 9\n",
       "\\item 3\n",
       "\\item 20\n",
       "\\item -1\n",
       "\\item 0\n",
       "\\item 10\n",
       "\\item 11\n",
       "\\item 12\n",
       "\\item 13\n",
       "\\item 14\n",
       "\\item 15\n",
       "\\item 5\n",
       "\\item 9\n",
       "\\item 3\n",
       "\\item 20\n",
       "\\item -1\n",
       "\\item 0\n",
       "\\item 10\n",
       "\\item 11\n",
       "\\item 12\n",
       "\\item 13\n",
       "\\item 14\n",
       "\\item 15\n",
       "\\end{enumerate*}\n"
      ],
      "text/markdown": [
       "1. 5\n",
       "2. 9\n",
       "3. 3\n",
       "4. 20\n",
       "5. -1\n",
       "6. 0\n",
       "7. 10\n",
       "8. 11\n",
       "9. 12\n",
       "10. 13\n",
       "11. 14\n",
       "12. 15\n",
       "13. 5\n",
       "14. 9\n",
       "15. 3\n",
       "16. 20\n",
       "17. -1\n",
       "18. 0\n",
       "19. 10\n",
       "20. 11\n",
       "21. 12\n",
       "22. 13\n",
       "23. 14\n",
       "24. 15\n",
       "\n",
       "\n"
      ],
      "text/plain": [
       ", , 1\n",
       "\n",
       "     [,1] [,2] [,3]\n",
       "[1,]    5   -1   12\n",
       "[2,]    9    0   13\n",
       "[3,]    3   10   14\n",
       "[4,]   20   11   15\n",
       "\n",
       ", , 2\n",
       "\n",
       "     [,1] [,2] [,3]\n",
       "[1,]    5   -1   12\n",
       "[2,]    9    0   13\n",
       "[3,]    3   10   14\n",
       "[4,]   20   11   15\n"
      ]
     },
     "metadata": {},
     "output_type": "display_data"
    }
   ],
   "source": [
    "array1"
   ]
  },
  {
   "cell_type": "code",
   "execution_count": 54,
   "id": "8cbd2fd5",
   "metadata": {},
   "outputs": [
    {
     "data": {
      "text/html": [
       "<style>\n",
       ".list-inline {list-style: none; margin:0; padding: 0}\n",
       ".list-inline>li {display: inline-block}\n",
       ".list-inline>li:not(:last-child)::after {content: \"\\00b7\"; padding: 0 .5ex}\n",
       "</style>\n",
       "<ol class=list-inline><li>5</li><li>9</li><li>3</li><li>20</li><li>-1</li><li>0</li><li>10</li><li>11</li><li>12</li><li>13</li><li>14</li><li>15</li><li>5</li><li>9</li><li>3</li><li>20</li><li>-1</li><li>0</li><li>10</li><li>11</li><li>12</li><li>13</li><li>14</li><li>15</li></ol>\n"
      ],
      "text/latex": [
       "\\begin{enumerate*}\n",
       "\\item 5\n",
       "\\item 9\n",
       "\\item 3\n",
       "\\item 20\n",
       "\\item -1\n",
       "\\item 0\n",
       "\\item 10\n",
       "\\item 11\n",
       "\\item 12\n",
       "\\item 13\n",
       "\\item 14\n",
       "\\item 15\n",
       "\\item 5\n",
       "\\item 9\n",
       "\\item 3\n",
       "\\item 20\n",
       "\\item -1\n",
       "\\item 0\n",
       "\\item 10\n",
       "\\item 11\n",
       "\\item 12\n",
       "\\item 13\n",
       "\\item 14\n",
       "\\item 15\n",
       "\\end{enumerate*}\n"
      ],
      "text/markdown": [
       "1. 5\n",
       "2. 9\n",
       "3. 3\n",
       "4. 20\n",
       "5. -1\n",
       "6. 0\n",
       "7. 10\n",
       "8. 11\n",
       "9. 12\n",
       "10. 13\n",
       "11. 14\n",
       "12. 15\n",
       "13. 5\n",
       "14. 9\n",
       "15. 3\n",
       "16. 20\n",
       "17. -1\n",
       "18. 0\n",
       "19. 10\n",
       "20. 11\n",
       "21. 12\n",
       "22. 13\n",
       "23. 14\n",
       "24. 15\n",
       "\n",
       "\n"
      ],
      "text/plain": [
       ", , Matrix1\n",
       "\n",
       "   C1 C2 C3\n",
       "R1  5 -1 12\n",
       "R2  9  0 13\n",
       "R3  3 10 14\n",
       "R4 20 11 15\n",
       "\n",
       ", , Matrix2\n",
       "\n",
       "   C1 C2 C3\n",
       "R1  5 -1 12\n",
       "R2  9  0 13\n",
       "R3  3 10 14\n",
       "R4 20 11 15\n"
      ]
     },
     "metadata": {},
     "output_type": "display_data"
    }
   ],
   "source": [
    "# Naming the rows, columns and matrices\n",
    "row.names <- c(\"R1\",\"R2\",\"R3\",\"R4\")\n",
    "column.names <- c(\"C1\",\"C2\",\"C3\")\n",
    "matrix.names <- c(\"Matrix1\",\"Matrix2\")\n",
    "array1_name <- array(vt_all,dim = c(4,3,2),\n",
    "dimnames = list(row.names,column.names,matrix.names))\n",
    "array1_name"
   ]
  },
  {
   "cell_type": "markdown",
   "id": "6b94ee57",
   "metadata": {},
   "source": [
    "## Example 13(a) - Testing for Missing Values"
   ]
  },
  {
   "cell_type": "code",
   "execution_count": 55,
   "id": "620b45da",
   "metadata": {},
   "outputs": [
    {
     "data": {
      "text/html": [
       "<style>\n",
       ".list-inline {list-style: none; margin:0; padding: 0}\n",
       ".list-inline>li {display: inline-block}\n",
       ".list-inline>li:not(:last-child)::after {content: \"\\00b7\"; padding: 0 .5ex}\n",
       "</style>\n",
       "<ol class=list-inline><li>5</li><li>6</li><li>7</li><li>8</li><li>9</li><li>&lt;NA&gt;</li><li>1</li><li>2</li><li>3</li><li>4</li><li>&lt;NA&gt;</li></ol>\n"
      ],
      "text/latex": [
       "\\begin{enumerate*}\n",
       "\\item 5\n",
       "\\item 6\n",
       "\\item 7\n",
       "\\item 8\n",
       "\\item 9\n",
       "\\item <NA>\n",
       "\\item 1\n",
       "\\item 2\n",
       "\\item 3\n",
       "\\item 4\n",
       "\\item <NA>\n",
       "\\end{enumerate*}\n"
      ],
      "text/markdown": [
       "1. 5\n",
       "2. 6\n",
       "3. 7\n",
       "4. 8\n",
       "5. 9\n",
       "6. &lt;NA&gt;\n",
       "7. 1\n",
       "8. 2\n",
       "9. 3\n",
       "10. 4\n",
       "11. &lt;NA&gt;\n",
       "\n",
       "\n"
      ],
      "text/plain": [
       " [1]  5  6  7  8  9 NA  1  2  3  4 NA"
      ]
     },
     "metadata": {},
     "output_type": "display_data"
    }
   ],
   "source": [
    "# Create a vector\n",
    "x1 <- c(5:9, NA, 1:4, NA)\n",
    "x1"
   ]
  },
  {
   "cell_type": "code",
   "execution_count": 56,
   "id": "4d42d6ca",
   "metadata": {},
   "outputs": [
    {
     "data": {
      "text/html": [
       "<style>\n",
       ".list-inline {list-style: none; margin:0; padding: 0}\n",
       ".list-inline>li {display: inline-block}\n",
       ".list-inline>li:not(:last-child)::after {content: \"\\00b7\"; padding: 0 .5ex}\n",
       "</style>\n",
       "<ol class=list-inline><li>FALSE</li><li>FALSE</li><li>FALSE</li><li>FALSE</li><li>FALSE</li><li>TRUE</li><li>FALSE</li><li>FALSE</li><li>FALSE</li><li>FALSE</li><li>TRUE</li></ol>\n"
      ],
      "text/latex": [
       "\\begin{enumerate*}\n",
       "\\item FALSE\n",
       "\\item FALSE\n",
       "\\item FALSE\n",
       "\\item FALSE\n",
       "\\item FALSE\n",
       "\\item TRUE\n",
       "\\item FALSE\n",
       "\\item FALSE\n",
       "\\item FALSE\n",
       "\\item FALSE\n",
       "\\item TRUE\n",
       "\\end{enumerate*}\n"
      ],
      "text/markdown": [
       "1. FALSE\n",
       "2. FALSE\n",
       "3. FALSE\n",
       "4. FALSE\n",
       "5. FALSE\n",
       "6. TRUE\n",
       "7. FALSE\n",
       "8. FALSE\n",
       "9. FALSE\n",
       "10. FALSE\n",
       "11. TRUE\n",
       "\n",
       "\n"
      ],
      "text/plain": [
       " [1] FALSE FALSE FALSE FALSE FALSE  TRUE FALSE FALSE FALSE FALSE  TRUE"
      ]
     },
     "metadata": {},
     "output_type": "display_data"
    }
   ],
   "source": [
    "is.na(x1)"
   ]
  },
  {
   "cell_type": "code",
   "execution_count": 57,
   "id": "0353579e",
   "metadata": {},
   "outputs": [
    {
     "data": {
      "text/html": [
       "TRUE"
      ],
      "text/latex": [
       "TRUE"
      ],
      "text/markdown": [
       "TRUE"
      ],
      "text/plain": [
       "[1] TRUE"
      ]
     },
     "metadata": {},
     "output_type": "display_data"
    }
   ],
   "source": [
    "anyNA(x1)"
   ]
  },
  {
   "cell_type": "code",
   "execution_count": 58,
   "id": "3748f976",
   "metadata": {},
   "outputs": [
    {
     "data": {
      "text/html": [
       "<style>\n",
       ".list-inline {list-style: none; margin:0; padding: 0}\n",
       ".list-inline>li {display: inline-block}\n",
       ".list-inline>li:not(:last-child)::after {content: \"\\00b7\"; padding: 0 .5ex}\n",
       "</style>\n",
       "<ol class=list-inline><li>6</li><li>11</li></ol>\n"
      ],
      "text/latex": [
       "\\begin{enumerate*}\n",
       "\\item 6\n",
       "\\item 11\n",
       "\\end{enumerate*}\n"
      ],
      "text/markdown": [
       "1. 6\n",
       "2. 11\n",
       "\n",
       "\n"
      ],
      "text/plain": [
       "[1]  6 11"
      ]
     },
     "metadata": {},
     "output_type": "display_data"
    }
   ],
   "source": [
    "which(is.na(x1))"
   ]
  },
  {
   "cell_type": "code",
   "execution_count": 59,
   "id": "04df024e",
   "metadata": {},
   "outputs": [
    {
     "data": {
      "text/html": [
       "2"
      ],
      "text/latex": [
       "2"
      ],
      "text/markdown": [
       "2"
      ],
      "text/plain": [
       "[1] 2"
      ]
     },
     "metadata": {},
     "output_type": "display_data"
    }
   ],
   "source": [
    "sum(is.na(x1))"
   ]
  },
  {
   "cell_type": "code",
   "execution_count": 60,
   "id": "bd132848",
   "metadata": {},
   "outputs": [
    {
     "data": {
      "text/html": [
       "<table class=\"dataframe\">\n",
       "<caption>A data.frame: 5 × 4</caption>\n",
       "<thead>\n",
       "\t<tr><th scope=col>No.</th><th scope=col>Letters</th><th scope=col>Complex</th><th scope=col>Logical</th></tr>\n",
       "\t<tr><th scope=col>&lt;int&gt;</th><th scope=col>&lt;chr&gt;</th><th scope=col>&lt;cpl&gt;</th><th scope=col>&lt;lgl&gt;</th></tr>\n",
       "</thead>\n",
       "<tbody>\n",
       "\t<tr><td>NA</td><td>L</td><td>1.0+5i</td><td> TRUE</td></tr>\n",
       "\t<tr><td> 5</td><td>a</td><td>2.0-3i</td><td>FALSE</td></tr>\n",
       "\t<tr><td> 6</td><td>T</td><td>    NA</td><td>   NA</td></tr>\n",
       "\t<tr><td> 7</td><td>e</td><td>    NA</td><td> TRUE</td></tr>\n",
       "\t<tr><td> 8</td><td>X</td><td>3.5+0i</td><td>FALSE</td></tr>\n",
       "</tbody>\n",
       "</table>\n"
      ],
      "text/latex": [
       "A data.frame: 5 × 4\n",
       "\\begin{tabular}{llll}\n",
       " No. & Letters & Complex & Logical\\\\\n",
       " <int> & <chr> & <cpl> & <lgl>\\\\\n",
       "\\hline\n",
       "\t NA & L & 1.0+5i &  TRUE\\\\\n",
       "\t  5 & a & 2.0-3i & FALSE\\\\\n",
       "\t  6 & T &     NA &    NA\\\\\n",
       "\t  7 & e &     NA &  TRUE\\\\\n",
       "\t  8 & X & 3.5+0i & FALSE\\\\\n",
       "\\end{tabular}\n"
      ],
      "text/markdown": [
       "\n",
       "A data.frame: 5 × 4\n",
       "\n",
       "| No. &lt;int&gt; | Letters &lt;chr&gt; | Complex &lt;cpl&gt; | Logical &lt;lgl&gt; |\n",
       "|---|---|---|---|\n",
       "| NA | L | 1.0+5i |  TRUE |\n",
       "|  5 | a | 2.0-3i | FALSE |\n",
       "|  6 | T |     NA |    NA |\n",
       "|  7 | e |     NA |  TRUE |\n",
       "|  8 | X | 3.5+0i | FALSE |\n",
       "\n"
      ],
      "text/plain": [
       "  No. Letters Complex Logical\n",
       "1 NA  L       1.0+5i   TRUE  \n",
       "2  5  a       2.0-3i  FALSE  \n",
       "3  6  T           NA     NA  \n",
       "4  7  e           NA   TRUE  \n",
       "5  8  X       3.5+0i  FALSE  "
      ]
     },
     "metadata": {},
     "output_type": "display_data"
    }
   ],
   "source": [
    "# Create a data frame\n",
    "df <- data.frame(x2 <- c(NA, 5:8),\n",
    "x3 <- c(\"L\", \"a\", \"T\", \"e\", \"X\"),\n",
    "x4 <- c(1+5i, 2-3i, NA, NA, 3.5),\n",
    "x5 <- c(TRUE, FALSE, NA, TRUE, FALSE))\n",
    "names(df) <- c(\"No.\",\"Letters\",\"Complex\",\"Logical\")\n",
    "df"
   ]
  },
  {
   "cell_type": "code",
   "execution_count": 61,
   "id": "02a087c0",
   "metadata": {},
   "outputs": [
    {
     "data": {
      "text/html": [
       "<table class=\"dataframe\">\n",
       "<caption>A matrix: 5 × 4 of type lgl</caption>\n",
       "<thead>\n",
       "\t<tr><th scope=col>No.</th><th scope=col>Letters</th><th scope=col>Complex</th><th scope=col>Logical</th></tr>\n",
       "</thead>\n",
       "<tbody>\n",
       "\t<tr><td> TRUE</td><td>FALSE</td><td>FALSE</td><td>FALSE</td></tr>\n",
       "\t<tr><td>FALSE</td><td>FALSE</td><td>FALSE</td><td>FALSE</td></tr>\n",
       "\t<tr><td>FALSE</td><td>FALSE</td><td> TRUE</td><td> TRUE</td></tr>\n",
       "\t<tr><td>FALSE</td><td>FALSE</td><td> TRUE</td><td>FALSE</td></tr>\n",
       "\t<tr><td>FALSE</td><td>FALSE</td><td>FALSE</td><td>FALSE</td></tr>\n",
       "</tbody>\n",
       "</table>\n"
      ],
      "text/latex": [
       "A matrix: 5 × 4 of type lgl\n",
       "\\begin{tabular}{llll}\n",
       " No. & Letters & Complex & Logical\\\\\n",
       "\\hline\n",
       "\t  TRUE & FALSE & FALSE & FALSE\\\\\n",
       "\t FALSE & FALSE & FALSE & FALSE\\\\\n",
       "\t FALSE & FALSE &  TRUE &  TRUE\\\\\n",
       "\t FALSE & FALSE &  TRUE & FALSE\\\\\n",
       "\t FALSE & FALSE & FALSE & FALSE\\\\\n",
       "\\end{tabular}\n"
      ],
      "text/markdown": [
       "\n",
       "A matrix: 5 × 4 of type lgl\n",
       "\n",
       "| No. | Letters | Complex | Logical |\n",
       "|---|---|---|---|\n",
       "|  TRUE | FALSE | FALSE | FALSE |\n",
       "| FALSE | FALSE | FALSE | FALSE |\n",
       "| FALSE | FALSE |  TRUE |  TRUE |\n",
       "| FALSE | FALSE |  TRUE | FALSE |\n",
       "| FALSE | FALSE | FALSE | FALSE |\n",
       "\n"
      ],
      "text/plain": [
       "     No.   Letters Complex Logical\n",
       "[1,]  TRUE FALSE   FALSE   FALSE  \n",
       "[2,] FALSE FALSE   FALSE   FALSE  \n",
       "[3,] FALSE FALSE    TRUE    TRUE  \n",
       "[4,] FALSE FALSE    TRUE   FALSE  \n",
       "[5,] FALSE FALSE   FALSE   FALSE  "
      ]
     },
     "metadata": {},
     "output_type": "display_data"
    }
   ],
   "source": [
    "is.na(df)"
   ]
  },
  {
   "cell_type": "code",
   "execution_count": 62,
   "id": "4414effb",
   "metadata": {},
   "outputs": [
    {
     "data": {
      "text/html": [
       "TRUE"
      ],
      "text/latex": [
       "TRUE"
      ],
      "text/markdown": [
       "TRUE"
      ],
      "text/plain": [
       "[1] TRUE"
      ]
     },
     "metadata": {},
     "output_type": "display_data"
    }
   ],
   "source": [
    "anyNA(x1)"
   ]
  },
  {
   "cell_type": "code",
   "execution_count": 63,
   "id": "c1d18e05",
   "metadata": {},
   "outputs": [
    {
     "data": {
      "text/html": [
       "<style>\n",
       ".list-inline {list-style: none; margin:0; padding: 0}\n",
       ".list-inline>li {display: inline-block}\n",
       ".list-inline>li:not(:last-child)::after {content: \"\\00b7\"; padding: 0 .5ex}\n",
       "</style>\n",
       "<ol class=list-inline><li>FALSE</li><li>FALSE</li><li>TRUE</li><li>TRUE</li><li>FALSE</li></ol>\n"
      ],
      "text/latex": [
       "\\begin{enumerate*}\n",
       "\\item FALSE\n",
       "\\item FALSE\n",
       "\\item TRUE\n",
       "\\item TRUE\n",
       "\\item FALSE\n",
       "\\end{enumerate*}\n"
      ],
      "text/markdown": [
       "1. FALSE\n",
       "2. FALSE\n",
       "3. TRUE\n",
       "4. TRUE\n",
       "5. FALSE\n",
       "\n",
       "\n"
      ],
      "text/plain": [
       "[1] FALSE FALSE  TRUE  TRUE FALSE"
      ]
     },
     "metadata": {},
     "output_type": "display_data"
    }
   ],
   "source": [
    "is.na(df$Complex)"
   ]
  },
  {
   "cell_type": "code",
   "execution_count": 64,
   "id": "118a3919",
   "metadata": {},
   "outputs": [
    {
     "data": {
      "text/html": [
       "<style>\n",
       ".dl-inline {width: auto; margin:0; padding: 0}\n",
       ".dl-inline>dt, .dl-inline>dd {float: none; width: auto; display: inline-block}\n",
       ".dl-inline>dt::after {content: \":\\0020\"; padding-right: .5ex}\n",
       ".dl-inline>dt:not(:first-of-type) {padding-left: .5ex}\n",
       "</style><dl class=dl-inline><dt>No.</dt><dd>1</dd><dt>Letters</dt><dd>0</dd><dt>Complex</dt><dd>2</dd><dt>Logical</dt><dd>1</dd></dl>\n"
      ],
      "text/latex": [
       "\\begin{description*}\n",
       "\\item[No.] 1\n",
       "\\item[Letters] 0\n",
       "\\item[Complex] 2\n",
       "\\item[Logical] 1\n",
       "\\end{description*}\n"
      ],
      "text/markdown": [
       "No.\n",
       ":   1Letters\n",
       ":   0Complex\n",
       ":   2Logical\n",
       ":   1\n",
       "\n"
      ],
      "text/plain": [
       "    No. Letters Complex Logical \n",
       "      1       0       2       1 "
      ]
     },
     "metadata": {},
     "output_type": "display_data"
    }
   ],
   "source": [
    "colSums(is.na(df))"
   ]
  },
  {
   "cell_type": "markdown",
   "id": "00f3cfa9",
   "metadata": {},
   "source": [
    "## Example 13(b) - Recording for Missing Values"
   ]
  },
  {
   "cell_type": "code",
   "execution_count": 65,
   "id": "55cfba63",
   "metadata": {},
   "outputs": [
    {
     "data": {
      "text/html": [
       "<style>\n",
       ".list-inline {list-style: none; margin:0; padding: 0}\n",
       ".list-inline>li {display: inline-block}\n",
       ".list-inline>li:not(:last-child)::after {content: \"\\00b7\"; padding: 0 .5ex}\n",
       "</style>\n",
       "<ol class=list-inline><li>5</li><li>6</li><li>7</li><li>8</li><li>9</li><li>&lt;NA&gt;</li><li>10.4</li><li>20.5</li><li>&lt;NA&gt;</li></ol>\n"
      ],
      "text/latex": [
       "\\begin{enumerate*}\n",
       "\\item 5\n",
       "\\item 6\n",
       "\\item 7\n",
       "\\item 8\n",
       "\\item 9\n",
       "\\item <NA>\n",
       "\\item 10.4\n",
       "\\item 20.5\n",
       "\\item <NA>\n",
       "\\end{enumerate*}\n"
      ],
      "text/markdown": [
       "1. 5\n",
       "2. 6\n",
       "3. 7\n",
       "4. 8\n",
       "5. 9\n",
       "6. &lt;NA&gt;\n",
       "7. 10.4\n",
       "8. 20.5\n",
       "9. &lt;NA&gt;\n",
       "\n",
       "\n"
      ],
      "text/plain": [
       "[1]  5.0  6.0  7.0  8.0  9.0   NA 10.4 20.5   NA"
      ]
     },
     "metadata": {},
     "output_type": "display_data"
    }
   ],
   "source": [
    "y1 <- c(5:9, NA, 10.4, 20.5, NA)\n",
    "y1"
   ]
  },
  {
   "cell_type": "code",
   "execution_count": 66,
   "id": "d8ef75ef",
   "metadata": {},
   "outputs": [
    {
     "data": {
      "text/html": [
       "<style>\n",
       ".list-inline {list-style: none; margin:0; padding: 0}\n",
       ".list-inline>li {display: inline-block}\n",
       ".list-inline>li:not(:last-child)::after {content: \"\\00b7\"; padding: 0 .5ex}\n",
       "</style>\n",
       "<ol class=list-inline><li>5</li><li>6</li><li>7</li><li>8</li><li>9</li><li>9.41</li><li>10.4</li><li>20.5</li><li>9.41</li></ol>\n"
      ],
      "text/latex": [
       "\\begin{enumerate*}\n",
       "\\item 5\n",
       "\\item 6\n",
       "\\item 7\n",
       "\\item 8\n",
       "\\item 9\n",
       "\\item 9.41\n",
       "\\item 10.4\n",
       "\\item 20.5\n",
       "\\item 9.41\n",
       "\\end{enumerate*}\n"
      ],
      "text/markdown": [
       "1. 5\n",
       "2. 6\n",
       "3. 7\n",
       "4. 8\n",
       "5. 9\n",
       "6. 9.41\n",
       "7. 10.4\n",
       "8. 20.5\n",
       "9. 9.41\n",
       "\n",
       "\n"
      ],
      "text/plain": [
       "[1]  5.00  6.00  7.00  8.00  9.00  9.41 10.40 20.50  9.41"
      ]
     },
     "metadata": {},
     "output_type": "display_data"
    }
   ],
   "source": [
    "# replace missing values with the mean of the data\n",
    "y1[is.na(y1)] <- mean(y1, na.rm=TRUE); round(y1,2)\n"
   ]
  },
  {
   "cell_type": "code",
   "execution_count": 67,
   "id": "fd38b4b7",
   "metadata": {},
   "outputs": [
    {
     "data": {
      "text/html": [
       "<table class=\"dataframe\">\n",
       "<caption>A data.frame: 5 × 4</caption>\n",
       "<thead>\n",
       "\t<tr><th scope=col>No.</th><th scope=col>Letters</th><th scope=col>Complex</th><th scope=col>Logical</th></tr>\n",
       "\t<tr><th scope=col>&lt;dbl&gt;</th><th scope=col>&lt;chr&gt;</th><th scope=col>&lt;cpl&gt;</th><th scope=col>&lt;lgl&gt;</th></tr>\n",
       "</thead>\n",
       "<tbody>\n",
       "\t<tr><td> NA</td><td>L</td><td>1.0+5i</td><td> TRUE</td></tr>\n",
       "\t<tr><td>  5</td><td>a</td><td>2.0-3i</td><td>FALSE</td></tr>\n",
       "\t<tr><td> 10</td><td>T</td><td>    NA</td><td>   NA</td></tr>\n",
       "\t<tr><td>105</td><td>e</td><td>    NA</td><td> TRUE</td></tr>\n",
       "\t<tr><td> 99</td><td>X</td><td>3.5+0i</td><td>FALSE</td></tr>\n",
       "</tbody>\n",
       "</table>\n"
      ],
      "text/latex": [
       "A data.frame: 5 × 4\n",
       "\\begin{tabular}{llll}\n",
       " No. & Letters & Complex & Logical\\\\\n",
       " <dbl> & <chr> & <cpl> & <lgl>\\\\\n",
       "\\hline\n",
       "\t  NA & L & 1.0+5i &  TRUE\\\\\n",
       "\t   5 & a & 2.0-3i & FALSE\\\\\n",
       "\t  10 & T &     NA &    NA\\\\\n",
       "\t 105 & e &     NA &  TRUE\\\\\n",
       "\t  99 & X & 3.5+0i & FALSE\\\\\n",
       "\\end{tabular}\n"
      ],
      "text/markdown": [
       "\n",
       "A data.frame: 5 × 4\n",
       "\n",
       "| No. &lt;dbl&gt; | Letters &lt;chr&gt; | Complex &lt;cpl&gt; | Logical &lt;lgl&gt; |\n",
       "|---|---|---|---|\n",
       "|  NA | L | 1.0+5i |  TRUE |\n",
       "|   5 | a | 2.0-3i | FALSE |\n",
       "|  10 | T |     NA |    NA |\n",
       "| 105 | e |     NA |  TRUE |\n",
       "|  99 | X | 3.5+0i | FALSE |\n",
       "\n"
      ],
      "text/plain": [
       "  No. Letters Complex Logical\n",
       "1  NA L       1.0+5i   TRUE  \n",
       "2   5 a       2.0-3i  FALSE  \n",
       "3  10 T           NA     NA  \n",
       "4 105 e           NA   TRUE  \n",
       "5  99 X       3.5+0i  FALSE  "
      ]
     },
     "metadata": {},
     "output_type": "display_data"
    }
   ],
   "source": [
    "# code missing values as 99\n",
    "df2 <- data.frame(x2 <- c(NA, 5, 10, 105, 99),\n",
    "x3 <- c(\"L\", \"a\", \"T\", \"e\", \"X\"),\n",
    "x4 <- c(1+5i, 2-3i, NA, NA, 3.5),\n",
    "x5 <- c(TRUE, FALSE, NA, TRUE, FALSE))\n",
    "names(df2) <- c(\"No.\",\"Letters\",\"Complex\",\"Logical\")\n",
    "df2\n"
   ]
  },
  {
   "cell_type": "code",
   "execution_count": 68,
   "id": "52170062",
   "metadata": {},
   "outputs": [
    {
     "data": {
      "text/html": [
       "<table class=\"dataframe\">\n",
       "<caption>A data.frame: 5 × 4</caption>\n",
       "<thead>\n",
       "\t<tr><th scope=col>No.</th><th scope=col>Letters</th><th scope=col>Complex</th><th scope=col>Logical</th></tr>\n",
       "\t<tr><th scope=col>&lt;dbl&gt;</th><th scope=col>&lt;chr&gt;</th><th scope=col>&lt;cpl&gt;</th><th scope=col>&lt;lgl&gt;</th></tr>\n",
       "</thead>\n",
       "<tbody>\n",
       "\t<tr><td> NA</td><td>L</td><td>1.0+5i</td><td> TRUE</td></tr>\n",
       "\t<tr><td>  5</td><td>a</td><td>2.0-3i</td><td>FALSE</td></tr>\n",
       "\t<tr><td> 10</td><td>T</td><td>    NA</td><td>   NA</td></tr>\n",
       "\t<tr><td>105</td><td>e</td><td>    NA</td><td> TRUE</td></tr>\n",
       "\t<tr><td> NA</td><td>X</td><td>3.5+0i</td><td>FALSE</td></tr>\n",
       "</tbody>\n",
       "</table>\n"
      ],
      "text/latex": [
       "A data.frame: 5 × 4\n",
       "\\begin{tabular}{llll}\n",
       " No. & Letters & Complex & Logical\\\\\n",
       " <dbl> & <chr> & <cpl> & <lgl>\\\\\n",
       "\\hline\n",
       "\t  NA & L & 1.0+5i &  TRUE\\\\\n",
       "\t   5 & a & 2.0-3i & FALSE\\\\\n",
       "\t  10 & T &     NA &    NA\\\\\n",
       "\t 105 & e &     NA &  TRUE\\\\\n",
       "\t  NA & X & 3.5+0i & FALSE\\\\\n",
       "\\end{tabular}\n"
      ],
      "text/markdown": [
       "\n",
       "A data.frame: 5 × 4\n",
       "\n",
       "| No. &lt;dbl&gt; | Letters &lt;chr&gt; | Complex &lt;cpl&gt; | Logical &lt;lgl&gt; |\n",
       "|---|---|---|---|\n",
       "|  NA | L | 1.0+5i |  TRUE |\n",
       "|   5 | a | 2.0-3i | FALSE |\n",
       "|  10 | T |     NA |    NA |\n",
       "| 105 | e |     NA |  TRUE |\n",
       "|  NA | X | 3.5+0i | FALSE |\n",
       "\n"
      ],
      "text/plain": [
       "  No. Letters Complex Logical\n",
       "1  NA L       1.0+5i   TRUE  \n",
       "2   5 a       2.0-3i  FALSE  \n",
       "3  10 T           NA     NA  \n",
       "4 105 e           NA   TRUE  \n",
       "5  NA X       3.5+0i  FALSE  "
      ]
     },
     "metadata": {},
     "output_type": "display_data"
    }
   ],
   "source": [
    "# replace values of 99 or more to be NA\n",
    "df2[df2 == 99] <- NA\n",
    "df2\n"
   ]
  },
  {
   "cell_type": "code",
   "execution_count": 70,
   "id": "deedd28f",
   "metadata": {},
   "outputs": [
    {
     "name": "stderr",
     "output_type": "stream",
     "text": [
      "Installing package into 'C:/Users/aiman/Documents/R/win-library/4.1'\n",
      "(as 'lib' is unspecified)\n",
      "\n",
      "also installing the dependencies 'tmvnsim', 'mnormt'\n",
      "\n",
      "\n"
     ]
    },
    {
     "name": "stdout",
     "output_type": "stream",
     "text": [
      "package 'tmvnsim' successfully unpacked and MD5 sums checked\n",
      "package 'mnormt' successfully unpacked and MD5 sums checked\n",
      "package 'psych' successfully unpacked and MD5 sums checked\n",
      "\n",
      "The downloaded binary packages are in\n",
      "\tC:\\Users\\aiman\\AppData\\Local\\Temp\\RtmpKQ2CVd\\downloaded_packages\n"
     ]
    }
   ],
   "source": [
    "install.packages('psych')"
   ]
  },
  {
   "cell_type": "code",
   "execution_count": 71,
   "id": "6643c4a4",
   "metadata": {},
   "outputs": [
    {
     "name": "stderr",
     "output_type": "stream",
     "text": [
      "\n",
      "Attaching package: 'psych'\n",
      "\n",
      "\n",
      "The following object is masked from 'package:fBasics':\n",
      "\n",
      "    tr\n",
      "\n",
      "\n",
      "The following object is masked from 'package:timeSeries':\n",
      "\n",
      "    outlier\n",
      "\n",
      "\n",
      "The following objects are masked from 'package:ggplot2':\n",
      "\n",
      "    %+%, alpha\n",
      "\n",
      "\n"
     ]
    }
   ],
   "source": [
    "library(psych)\n",
    "library(fBasics)"
   ]
  },
  {
   "cell_type": "code",
   "execution_count": 72,
   "id": "daa34eca",
   "metadata": {},
   "outputs": [
    {
     "ename": "ERROR",
     "evalue": "Error in eval(expr, envir, enclos): object 'Chickweight' not found\n",
     "output_type": "error",
     "traceback": [
      "Error in eval(expr, envir, enclos): object 'Chickweight' not found\nTraceback:\n"
     ]
    }
   ],
   "source": [
    "Chickweight"
   ]
  },
  {
   "cell_type": "code",
   "execution_count": 78,
   "id": "3cd5987f",
   "metadata": {},
   "outputs": [],
   "source": [
    "data(ChickWeight)"
   ]
  },
  {
   "cell_type": "code",
   "execution_count": 80,
   "id": "36655777",
   "metadata": {},
   "outputs": [
    {
     "data": {
      "text/plain": [
       "     weight           Time           Chick     Diet   \n",
       " Min.   : 35.0   Min.   : 0.00   13     : 12   1:220  \n",
       " 1st Qu.: 63.0   1st Qu.: 4.00   9      : 12   2:120  \n",
       " Median :103.0   Median :10.00   20     : 12   3:120  \n",
       " Mean   :121.8   Mean   :10.72   10     : 12   4:118  \n",
       " 3rd Qu.:163.8   3rd Qu.:16.00   17     : 12          \n",
       " Max.   :373.0   Max.   :21.00   19     : 12          \n",
       "                                 (Other):506          "
      ]
     },
     "metadata": {},
     "output_type": "display_data"
    }
   ],
   "source": [
    "summary(ChickWeight)"
   ]
  },
  {
   "cell_type": "code",
   "execution_count": 81,
   "id": "66598b9f",
   "metadata": {},
   "outputs": [],
   "source": [
    "dt  <- ChickWeight"
   ]
  },
  {
   "cell_type": "code",
   "execution_count": 82,
   "id": "c003e71f",
   "metadata": {},
   "outputs": [
    {
     "data": {
      "text/html": [
       "<table class=\"dataframe\">\n",
       "<caption>A nfnGroupedData: 578 × 4</caption>\n",
       "<thead>\n",
       "\t<tr><th></th><th scope=col>weight</th><th scope=col>Time</th><th scope=col>Chick</th><th scope=col>Diet</th></tr>\n",
       "\t<tr><th></th><th scope=col>&lt;dbl&gt;</th><th scope=col>&lt;dbl&gt;</th><th scope=col>&lt;ord&gt;</th><th scope=col>&lt;fct&gt;</th></tr>\n",
       "</thead>\n",
       "<tbody>\n",
       "\t<tr><th scope=row>1</th><td> 42</td><td> 0</td><td>1</td><td>1</td></tr>\n",
       "\t<tr><th scope=row>2</th><td> 51</td><td> 2</td><td>1</td><td>1</td></tr>\n",
       "\t<tr><th scope=row>3</th><td> 59</td><td> 4</td><td>1</td><td>1</td></tr>\n",
       "\t<tr><th scope=row>4</th><td> 64</td><td> 6</td><td>1</td><td>1</td></tr>\n",
       "\t<tr><th scope=row>5</th><td> 76</td><td> 8</td><td>1</td><td>1</td></tr>\n",
       "\t<tr><th scope=row>6</th><td> 93</td><td>10</td><td>1</td><td>1</td></tr>\n",
       "\t<tr><th scope=row>7</th><td>106</td><td>12</td><td>1</td><td>1</td></tr>\n",
       "\t<tr><th scope=row>8</th><td>125</td><td>14</td><td>1</td><td>1</td></tr>\n",
       "\t<tr><th scope=row>9</th><td>149</td><td>16</td><td>1</td><td>1</td></tr>\n",
       "\t<tr><th scope=row>10</th><td>171</td><td>18</td><td>1</td><td>1</td></tr>\n",
       "\t<tr><th scope=row>11</th><td>199</td><td>20</td><td>1</td><td>1</td></tr>\n",
       "\t<tr><th scope=row>12</th><td>205</td><td>21</td><td>1</td><td>1</td></tr>\n",
       "\t<tr><th scope=row>13</th><td> 40</td><td> 0</td><td>2</td><td>1</td></tr>\n",
       "\t<tr><th scope=row>14</th><td> 49</td><td> 2</td><td>2</td><td>1</td></tr>\n",
       "\t<tr><th scope=row>15</th><td> 58</td><td> 4</td><td>2</td><td>1</td></tr>\n",
       "\t<tr><th scope=row>16</th><td> 72</td><td> 6</td><td>2</td><td>1</td></tr>\n",
       "\t<tr><th scope=row>17</th><td> 84</td><td> 8</td><td>2</td><td>1</td></tr>\n",
       "\t<tr><th scope=row>18</th><td>103</td><td>10</td><td>2</td><td>1</td></tr>\n",
       "\t<tr><th scope=row>19</th><td>122</td><td>12</td><td>2</td><td>1</td></tr>\n",
       "\t<tr><th scope=row>20</th><td>138</td><td>14</td><td>2</td><td>1</td></tr>\n",
       "\t<tr><th scope=row>21</th><td>162</td><td>16</td><td>2</td><td>1</td></tr>\n",
       "\t<tr><th scope=row>22</th><td>187</td><td>18</td><td>2</td><td>1</td></tr>\n",
       "\t<tr><th scope=row>23</th><td>209</td><td>20</td><td>2</td><td>1</td></tr>\n",
       "\t<tr><th scope=row>24</th><td>215</td><td>21</td><td>2</td><td>1</td></tr>\n",
       "\t<tr><th scope=row>25</th><td> 43</td><td> 0</td><td>3</td><td>1</td></tr>\n",
       "\t<tr><th scope=row>26</th><td> 39</td><td> 2</td><td>3</td><td>1</td></tr>\n",
       "\t<tr><th scope=row>27</th><td> 55</td><td> 4</td><td>3</td><td>1</td></tr>\n",
       "\t<tr><th scope=row>28</th><td> 67</td><td> 6</td><td>3</td><td>1</td></tr>\n",
       "\t<tr><th scope=row>29</th><td> 84</td><td> 8</td><td>3</td><td>1</td></tr>\n",
       "\t<tr><th scope=row>30</th><td> 99</td><td>10</td><td>3</td><td>1</td></tr>\n",
       "\t<tr><th scope=row>...</th><td>...</td><td>...</td><td>...</td><td>...</td></tr>\n",
       "\t<tr><th scope=row>549</th><td>154</td><td>12</td><td>48</td><td>4</td></tr>\n",
       "\t<tr><th scope=row>550</th><td>170</td><td>14</td><td>48</td><td>4</td></tr>\n",
       "\t<tr><th scope=row>551</th><td>222</td><td>16</td><td>48</td><td>4</td></tr>\n",
       "\t<tr><th scope=row>552</th><td>261</td><td>18</td><td>48</td><td>4</td></tr>\n",
       "\t<tr><th scope=row>553</th><td>303</td><td>20</td><td>48</td><td>4</td></tr>\n",
       "\t<tr><th scope=row>554</th><td>322</td><td>21</td><td>48</td><td>4</td></tr>\n",
       "\t<tr><th scope=row>555</th><td> 40</td><td> 0</td><td>49</td><td>4</td></tr>\n",
       "\t<tr><th scope=row>556</th><td> 53</td><td> 2</td><td>49</td><td>4</td></tr>\n",
       "\t<tr><th scope=row>557</th><td> 64</td><td> 4</td><td>49</td><td>4</td></tr>\n",
       "\t<tr><th scope=row>558</th><td> 85</td><td> 6</td><td>49</td><td>4</td></tr>\n",
       "\t<tr><th scope=row>559</th><td>108</td><td> 8</td><td>49</td><td>4</td></tr>\n",
       "\t<tr><th scope=row>560</th><td>128</td><td>10</td><td>49</td><td>4</td></tr>\n",
       "\t<tr><th scope=row>561</th><td>152</td><td>12</td><td>49</td><td>4</td></tr>\n",
       "\t<tr><th scope=row>562</th><td>166</td><td>14</td><td>49</td><td>4</td></tr>\n",
       "\t<tr><th scope=row>563</th><td>184</td><td>16</td><td>49</td><td>4</td></tr>\n",
       "\t<tr><th scope=row>564</th><td>203</td><td>18</td><td>49</td><td>4</td></tr>\n",
       "\t<tr><th scope=row>565</th><td>233</td><td>20</td><td>49</td><td>4</td></tr>\n",
       "\t<tr><th scope=row>566</th><td>237</td><td>21</td><td>49</td><td>4</td></tr>\n",
       "\t<tr><th scope=row>567</th><td> 41</td><td> 0</td><td>50</td><td>4</td></tr>\n",
       "\t<tr><th scope=row>568</th><td> 54</td><td> 2</td><td>50</td><td>4</td></tr>\n",
       "\t<tr><th scope=row>569</th><td> 67</td><td> 4</td><td>50</td><td>4</td></tr>\n",
       "\t<tr><th scope=row>570</th><td> 84</td><td> 6</td><td>50</td><td>4</td></tr>\n",
       "\t<tr><th scope=row>571</th><td>105</td><td> 8</td><td>50</td><td>4</td></tr>\n",
       "\t<tr><th scope=row>572</th><td>122</td><td>10</td><td>50</td><td>4</td></tr>\n",
       "\t<tr><th scope=row>573</th><td>155</td><td>12</td><td>50</td><td>4</td></tr>\n",
       "\t<tr><th scope=row>574</th><td>175</td><td>14</td><td>50</td><td>4</td></tr>\n",
       "\t<tr><th scope=row>575</th><td>205</td><td>16</td><td>50</td><td>4</td></tr>\n",
       "\t<tr><th scope=row>576</th><td>234</td><td>18</td><td>50</td><td>4</td></tr>\n",
       "\t<tr><th scope=row>577</th><td>264</td><td>20</td><td>50</td><td>4</td></tr>\n",
       "\t<tr><th scope=row>578</th><td>264</td><td>21</td><td>50</td><td>4</td></tr>\n",
       "</tbody>\n",
       "</table>\n"
      ],
      "text/latex": [
       "A nfnGroupedData: 578 × 4\n",
       "\\begin{tabular}{r|llll}\n",
       "  & weight & Time & Chick & Diet\\\\\n",
       "  & <dbl> & <dbl> & <ord> & <fct>\\\\\n",
       "\\hline\n",
       "\t1 &  42 &  0 & 1 & 1\\\\\n",
       "\t2 &  51 &  2 & 1 & 1\\\\\n",
       "\t3 &  59 &  4 & 1 & 1\\\\\n",
       "\t4 &  64 &  6 & 1 & 1\\\\\n",
       "\t5 &  76 &  8 & 1 & 1\\\\\n",
       "\t6 &  93 & 10 & 1 & 1\\\\\n",
       "\t7 & 106 & 12 & 1 & 1\\\\\n",
       "\t8 & 125 & 14 & 1 & 1\\\\\n",
       "\t9 & 149 & 16 & 1 & 1\\\\\n",
       "\t10 & 171 & 18 & 1 & 1\\\\\n",
       "\t11 & 199 & 20 & 1 & 1\\\\\n",
       "\t12 & 205 & 21 & 1 & 1\\\\\n",
       "\t13 &  40 &  0 & 2 & 1\\\\\n",
       "\t14 &  49 &  2 & 2 & 1\\\\\n",
       "\t15 &  58 &  4 & 2 & 1\\\\\n",
       "\t16 &  72 &  6 & 2 & 1\\\\\n",
       "\t17 &  84 &  8 & 2 & 1\\\\\n",
       "\t18 & 103 & 10 & 2 & 1\\\\\n",
       "\t19 & 122 & 12 & 2 & 1\\\\\n",
       "\t20 & 138 & 14 & 2 & 1\\\\\n",
       "\t21 & 162 & 16 & 2 & 1\\\\\n",
       "\t22 & 187 & 18 & 2 & 1\\\\\n",
       "\t23 & 209 & 20 & 2 & 1\\\\\n",
       "\t24 & 215 & 21 & 2 & 1\\\\\n",
       "\t25 &  43 &  0 & 3 & 1\\\\\n",
       "\t26 &  39 &  2 & 3 & 1\\\\\n",
       "\t27 &  55 &  4 & 3 & 1\\\\\n",
       "\t28 &  67 &  6 & 3 & 1\\\\\n",
       "\t29 &  84 &  8 & 3 & 1\\\\\n",
       "\t30 &  99 & 10 & 3 & 1\\\\\n",
       "\t... & ... & ... & ... & ...\\\\\n",
       "\t549 & 154 & 12 & 48 & 4\\\\\n",
       "\t550 & 170 & 14 & 48 & 4\\\\\n",
       "\t551 & 222 & 16 & 48 & 4\\\\\n",
       "\t552 & 261 & 18 & 48 & 4\\\\\n",
       "\t553 & 303 & 20 & 48 & 4\\\\\n",
       "\t554 & 322 & 21 & 48 & 4\\\\\n",
       "\t555 &  40 &  0 & 49 & 4\\\\\n",
       "\t556 &  53 &  2 & 49 & 4\\\\\n",
       "\t557 &  64 &  4 & 49 & 4\\\\\n",
       "\t558 &  85 &  6 & 49 & 4\\\\\n",
       "\t559 & 108 &  8 & 49 & 4\\\\\n",
       "\t560 & 128 & 10 & 49 & 4\\\\\n",
       "\t561 & 152 & 12 & 49 & 4\\\\\n",
       "\t562 & 166 & 14 & 49 & 4\\\\\n",
       "\t563 & 184 & 16 & 49 & 4\\\\\n",
       "\t564 & 203 & 18 & 49 & 4\\\\\n",
       "\t565 & 233 & 20 & 49 & 4\\\\\n",
       "\t566 & 237 & 21 & 49 & 4\\\\\n",
       "\t567 &  41 &  0 & 50 & 4\\\\\n",
       "\t568 &  54 &  2 & 50 & 4\\\\\n",
       "\t569 &  67 &  4 & 50 & 4\\\\\n",
       "\t570 &  84 &  6 & 50 & 4\\\\\n",
       "\t571 & 105 &  8 & 50 & 4\\\\\n",
       "\t572 & 122 & 10 & 50 & 4\\\\\n",
       "\t573 & 155 & 12 & 50 & 4\\\\\n",
       "\t574 & 175 & 14 & 50 & 4\\\\\n",
       "\t575 & 205 & 16 & 50 & 4\\\\\n",
       "\t576 & 234 & 18 & 50 & 4\\\\\n",
       "\t577 & 264 & 20 & 50 & 4\\\\\n",
       "\t578 & 264 & 21 & 50 & 4\\\\\n",
       "\\end{tabular}\n"
      ],
      "text/markdown": [
       "\n",
       "A nfnGroupedData: 578 × 4\n",
       "\n",
       "| <!--/--> | weight &lt;dbl&gt; | Time &lt;dbl&gt; | Chick &lt;ord&gt; | Diet &lt;fct&gt; |\n",
       "|---|---|---|---|---|\n",
       "| 1 |  42 |  0 | 1 | 1 |\n",
       "| 2 |  51 |  2 | 1 | 1 |\n",
       "| 3 |  59 |  4 | 1 | 1 |\n",
       "| 4 |  64 |  6 | 1 | 1 |\n",
       "| 5 |  76 |  8 | 1 | 1 |\n",
       "| 6 |  93 | 10 | 1 | 1 |\n",
       "| 7 | 106 | 12 | 1 | 1 |\n",
       "| 8 | 125 | 14 | 1 | 1 |\n",
       "| 9 | 149 | 16 | 1 | 1 |\n",
       "| 10 | 171 | 18 | 1 | 1 |\n",
       "| 11 | 199 | 20 | 1 | 1 |\n",
       "| 12 | 205 | 21 | 1 | 1 |\n",
       "| 13 |  40 |  0 | 2 | 1 |\n",
       "| 14 |  49 |  2 | 2 | 1 |\n",
       "| 15 |  58 |  4 | 2 | 1 |\n",
       "| 16 |  72 |  6 | 2 | 1 |\n",
       "| 17 |  84 |  8 | 2 | 1 |\n",
       "| 18 | 103 | 10 | 2 | 1 |\n",
       "| 19 | 122 | 12 | 2 | 1 |\n",
       "| 20 | 138 | 14 | 2 | 1 |\n",
       "| 21 | 162 | 16 | 2 | 1 |\n",
       "| 22 | 187 | 18 | 2 | 1 |\n",
       "| 23 | 209 | 20 | 2 | 1 |\n",
       "| 24 | 215 | 21 | 2 | 1 |\n",
       "| 25 |  43 |  0 | 3 | 1 |\n",
       "| 26 |  39 |  2 | 3 | 1 |\n",
       "| 27 |  55 |  4 | 3 | 1 |\n",
       "| 28 |  67 |  6 | 3 | 1 |\n",
       "| 29 |  84 |  8 | 3 | 1 |\n",
       "| 30 |  99 | 10 | 3 | 1 |\n",
       "| ... | ... | ... | ... | ... |\n",
       "| 549 | 154 | 12 | 48 | 4 |\n",
       "| 550 | 170 | 14 | 48 | 4 |\n",
       "| 551 | 222 | 16 | 48 | 4 |\n",
       "| 552 | 261 | 18 | 48 | 4 |\n",
       "| 553 | 303 | 20 | 48 | 4 |\n",
       "| 554 | 322 | 21 | 48 | 4 |\n",
       "| 555 |  40 |  0 | 49 | 4 |\n",
       "| 556 |  53 |  2 | 49 | 4 |\n",
       "| 557 |  64 |  4 | 49 | 4 |\n",
       "| 558 |  85 |  6 | 49 | 4 |\n",
       "| 559 | 108 |  8 | 49 | 4 |\n",
       "| 560 | 128 | 10 | 49 | 4 |\n",
       "| 561 | 152 | 12 | 49 | 4 |\n",
       "| 562 | 166 | 14 | 49 | 4 |\n",
       "| 563 | 184 | 16 | 49 | 4 |\n",
       "| 564 | 203 | 18 | 49 | 4 |\n",
       "| 565 | 233 | 20 | 49 | 4 |\n",
       "| 566 | 237 | 21 | 49 | 4 |\n",
       "| 567 |  41 |  0 | 50 | 4 |\n",
       "| 568 |  54 |  2 | 50 | 4 |\n",
       "| 569 |  67 |  4 | 50 | 4 |\n",
       "| 570 |  84 |  6 | 50 | 4 |\n",
       "| 571 | 105 |  8 | 50 | 4 |\n",
       "| 572 | 122 | 10 | 50 | 4 |\n",
       "| 573 | 155 | 12 | 50 | 4 |\n",
       "| 574 | 175 | 14 | 50 | 4 |\n",
       "| 575 | 205 | 16 | 50 | 4 |\n",
       "| 576 | 234 | 18 | 50 | 4 |\n",
       "| 577 | 264 | 20 | 50 | 4 |\n",
       "| 578 | 264 | 21 | 50 | 4 |\n",
       "\n"
      ],
      "text/plain": [
       "    weight Time Chick Diet\n",
       "1    42     0   1     1   \n",
       "2    51     2   1     1   \n",
       "3    59     4   1     1   \n",
       "4    64     6   1     1   \n",
       "5    76     8   1     1   \n",
       "6    93    10   1     1   \n",
       "7   106    12   1     1   \n",
       "8   125    14   1     1   \n",
       "9   149    16   1     1   \n",
       "10  171    18   1     1   \n",
       "11  199    20   1     1   \n",
       "12  205    21   1     1   \n",
       "13   40     0   2     1   \n",
       "14   49     2   2     1   \n",
       "15   58     4   2     1   \n",
       "16   72     6   2     1   \n",
       "17   84     8   2     1   \n",
       "18  103    10   2     1   \n",
       "19  122    12   2     1   \n",
       "20  138    14   2     1   \n",
       "21  162    16   2     1   \n",
       "22  187    18   2     1   \n",
       "23  209    20   2     1   \n",
       "24  215    21   2     1   \n",
       "25   43     0   3     1   \n",
       "26   39     2   3     1   \n",
       "27   55     4   3     1   \n",
       "28   67     6   3     1   \n",
       "29   84     8   3     1   \n",
       "30   99    10   3     1   \n",
       "... ...    ...  ...   ... \n",
       "549 154    12   48    4   \n",
       "550 170    14   48    4   \n",
       "551 222    16   48    4   \n",
       "552 261    18   48    4   \n",
       "553 303    20   48    4   \n",
       "554 322    21   48    4   \n",
       "555  40     0   49    4   \n",
       "556  53     2   49    4   \n",
       "557  64     4   49    4   \n",
       "558  85     6   49    4   \n",
       "559 108     8   49    4   \n",
       "560 128    10   49    4   \n",
       "561 152    12   49    4   \n",
       "562 166    14   49    4   \n",
       "563 184    16   49    4   \n",
       "564 203    18   49    4   \n",
       "565 233    20   49    4   \n",
       "566 237    21   49    4   \n",
       "567  41     0   50    4   \n",
       "568  54     2   50    4   \n",
       "569  67     4   50    4   \n",
       "570  84     6   50    4   \n",
       "571 105     8   50    4   \n",
       "572 122    10   50    4   \n",
       "573 155    12   50    4   \n",
       "574 175    14   50    4   \n",
       "575 205    16   50    4   \n",
       "576 234    18   50    4   \n",
       "577 264    20   50    4   \n",
       "578 264    21   50    4   "
      ]
     },
     "metadata": {},
     "output_type": "display_data"
    }
   ],
   "source": [
    "dt"
   ]
  },
  {
   "cell_type": "code",
   "execution_count": 83,
   "id": "a14b52ad",
   "metadata": {},
   "outputs": [
    {
     "data": {
      "text/plain": [
       "     weight           Time           Chick     Diet   \n",
       " Min.   : 35.0   Min.   : 0.00   13     : 12   1:220  \n",
       " 1st Qu.: 63.0   1st Qu.: 4.00   9      : 12   2:120  \n",
       " Median :103.0   Median :10.00   20     : 12   3:120  \n",
       " Mean   :121.8   Mean   :10.72   10     : 12   4:118  \n",
       " 3rd Qu.:163.8   3rd Qu.:16.00   17     : 12          \n",
       " Max.   :373.0   Max.   :21.00   19     : 12          \n",
       "                                 (Other):506          "
      ]
     },
     "metadata": {},
     "output_type": "display_data"
    }
   ],
   "source": [
    "summary(dt)"
   ]
  },
  {
   "cell_type": "code",
   "execution_count": null,
   "id": "40532abe",
   "metadata": {},
   "outputs": [],
   "source": []
  }
 ],
 "metadata": {
  "kernelspec": {
   "display_name": "R",
   "language": "R",
   "name": "ir"
  },
  "language_info": {
   "codemirror_mode": "r",
   "file_extension": ".r",
   "mimetype": "text/x-r-source",
   "name": "R",
   "pygments_lexer": "r",
   "version": "4.1.1"
  }
 },
 "nbformat": 4,
 "nbformat_minor": 5
}
